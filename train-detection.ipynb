{
 "cells": [
  {
   "cell_type": "markdown",
   "id": "6d643a6b",
   "metadata": {},
   "source": [
    "# Notebook for training yolo detection model"
   ]
  },
  {
   "cell_type": "code",
   "execution_count": null,
   "id": "d7068250",
   "metadata": {},
   "outputs": [],
   "source": [
    "%matplotlib inline\n",
    "\n",
    "from ultralytics import YOLO\n",
    "from ultralytics.models.yolo.detect.train import DetectionTrainer\n",
    "from ultralytics.data.dataset import YOLODataset\n",
    "from ultralytics.data.utils import autosplit\n",
    "from ultralytics.cfg import cfg2dict, copy_default_cfg\n",
    "import os\n",
    "import ultralytics\n",
    "import seaborn as sns\n",
    "import matplotlib.pyplot as plt\n",
    "import pandas as pd\n",
    "\n",
    "sns.set_theme(style=\"whitegrid\")\n",
    "plt.rcParams['figure.figsize'] = (10, 6)\n",
    "plt.rcParams['axes.labelsize'] = 12\n",
    "plt.rcParams['axes.titlesize'] = 14\n",
    "\n",
    "ultralytics.settings.reset()"
   ]
  },
  {
   "cell_type": "code",
   "execution_count": null,
   "id": "977411e9",
   "metadata": {},
   "outputs": [],
   "source": [
    "DATA_CONFIG_FILE = \"data_config.yaml\"\n",
    "data_config = cfg2dict(DATA_CONFIG_FILE)\n",
    "ROOT_DIR = data_config[\"path\"]\n",
    "\n",
    "if not os.path.exists(os.path.join(os.path.join(ROOT_DIR, \"autosplit_train.txt\"))):\n",
    "    autosplit(os.path.join(ROOT_DIR, \"images\"), (0.8, 0.2, 0))\n",
    "    \n",
    "train_path = os.path.join(ROOT_DIR, \"autosplit_train.txt\")\n",
    "val_path = os.path.join(ROOT_DIR, \"autosplit_val.txt\")\n",
    "\n",
    "train_lines = []\n",
    "val_lines = []\n",
    "\n",
    "if os.path.exists(train_path) and os.path.exists(val_path):\n",
    "    plt.figure(figsize=(10,6))\n",
    "    with open(train_path, 'r') as f:\n",
    "        train_lines = f.readlines()\n",
    "    with open(val_path, 'r') as f:\n",
    "        val_lines = f.readlines()\n",
    "\n",
    "    ax = sns.barplot(\n",
    "            x=[\"train\", \"val\"],\n",
    "            y=[len(train_lines), len(val_lines)],\n",
    "    )\n",
    "\n",
    "    plt.title(\"Dataset Split Distribution\")\n",
    "    ax.bar_label(ax.containers[0])\n",
    "    plt.ylabel(\"Number of Images\")\n",
    "    plt.show()\n",
    "\n",
    "else:\n",
    "    print(\"Dataset split files (autosplit_train.txt or autosplit_val.txt) not found. Autosplit may have failed or not been run.\")\n"
   ]
  },
  {
   "cell_type": "code",
   "execution_count": null,
   "id": "b26a9079",
   "metadata": {},
   "outputs": [],
   "source": [
    "import os\n",
    "import matplotlib.pyplot as plt\n",
    "import seaborn as sns\n",
    "import pandas as pd\n",
    "\n",
    "def collect_object_data(root_dir, data):\n",
    "    \"\"\"Collects object data (dataset, class) from label files.\"\"\"\n",
    "    \n",
    "    object_data = []\n",
    "    \n",
    "    for dataset_name, file_list in data.items():\n",
    "        if dataset_name in [\"names\"]: #skip names.\n",
    "            continue\n",
    "        for entry in file_list:\n",
    "            label_filename = os.path.splitext(os.path.basename(entry))[0] + \".txt\"\n",
    "            label_path = os.path.normpath(os.path.join(root_dir, \"labels\", label_filename))\n",
    "            \n",
    "            if os.path.exists(label_path):\n",
    "                with open(label_path, 'r') as f:\n",
    "                    for line in f:\n",
    "                        class_id = line.split()[0]\n",
    "                        object_data.append({\n",
    "                            'Dataset': dataset_name,\n",
    "                            'Class': class_id\n",
    "                        })\n",
    "    return object_data\n",
    "\n",
    "def plot_dataset_class_counts(data, root_dir):\n",
    "    \"\"\"Plots a bar chart of class counts per dataset (with hue).\"\"\"\n",
    "    \n",
    "    object_data = collect_object_data(root_dir, data)\n",
    "    df = pd.DataFrame(object_data).replace(\"1\", data[\"names\"][1]).replace(\"2\", data[\"names\"][2])\n",
    "    \n",
    "    plt.figure()\n",
    "    ax = sns.countplot(x='Dataset', hue='Class', data=df)\n",
    "    \n",
    "    for p in ax.patches:\n",
    "        height = p.get_height()\n",
    "        if height > 0: # Avoid displaying 0 values\n",
    "            ax.text(p.get_x() + p.get_width() / 2., height, f'{int(height)}', \n",
    "                    ha='center', va='bottom')\n",
    "    \n",
    "    plt.title('Object Counts per Dataset, Grouped by Class')\n",
    "    plt.show()\n",
    "\n",
    "# Example usage (assuming data_config and ROOT_DIR are defined):\n",
    "plot_dataset_class_counts({\n",
    "    \"names\": data_config[\"names\"],\n",
    "    \"train\": train_lines,\n",
    "    \"val\": val_lines,\n",
    "}, ROOT_DIR)"
   ]
  },
  {
   "cell_type": "code",
   "execution_count": null,
   "id": "569bb81c",
   "metadata": {},
   "outputs": [],
   "source": [
    "if not os.path.exists(\"config.yaml\"):\n",
    "    copy_default_cfg()\n",
    "    os.rename(\"default_copy.yaml\", \"config.yaml\")\n",
    "trainer_args = cfg2dict(\"config.yaml\")\n",
    "trainer = DetectionTrainer(overrides=trainer_args)"
   ]
  },
  {
   "cell_type": "code",
   "execution_count": null,
   "id": "80999b60",
   "metadata": {},
   "outputs": [],
   "source": [
    "trainer.train()"
   ]
  }
 ],
 "metadata": {
  "kernelspec": {
   "display_name": "venv",
   "language": "python",
   "name": "python3"
  },
  "language_info": {
   "codemirror_mode": {
    "name": "ipython",
    "version": 3
   },
   "file_extension": ".py",
   "mimetype": "text/x-python",
   "name": "python",
   "nbconvert_exporter": "python",
   "pygments_lexer": "ipython3",
   "version": "3.12.9"
  }
 },
 "nbformat": 4,
 "nbformat_minor": 5
}
