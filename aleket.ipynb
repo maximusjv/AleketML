{
 "cells": [
  {
   "cell_type": "markdown",
   "metadata": {
    "id": "EKXbvPtmIAzW"
   },
   "source": [
    "# Aleket Faster R-CNN training notebook"
   ]
  },
  {
   "cell_type": "code",
   "execution_count": null,
   "metadata": {
    "executionInfo": {
     "elapsed": 10801,
     "status": "ok",
     "timestamp": 1726688877827,
     "user": {
      "displayName": "maximus JV",
      "userId": "01037924598235015782"
     },
     "user_tz": -180
    },
    "id": "oLaoTSNaIAzX"
   },
   "outputs": [],
   "source": [
    "%pip install pillow\n",
    "%pip install numpy<2.0\n",
    "%pip install torch torchvision --index-url https://download.pytorch.org/whl/cu124\n",
    "%pip install matplotlib\n",
    "%pip install pycocotools\n",
    "%pip install gdown\n",
    "%pip install tqdm\n",
    "\n",
    "from IPython.display import clear_output\n",
    "\n",
    "clear_output(wait=False)\n",
    "\n",
    "print(\"ALL DEPENDENCIES INSTALLED\")"
   ]
  },
  {
   "cell_type": "code",
   "execution_count": 1,
   "metadata": {
    "executionInfo": {
     "elapsed": 7480,
     "status": "ok",
     "timestamp": 1726688885304,
     "user": {
      "displayName": "maximus JV",
      "userId": "01037924598235015782"
     },
     "user_tz": -180
    },
    "id": "QYh3of1UgFZs"
   },
   "outputs": [],
   "source": [
    "# IMPORTS\n",
    "\n",
    "# Standard Library\n",
    "import random\n",
    "\n",
    "# Third-Party Libraries\n",
    "import numpy as np\n",
    "\n",
    "# Torch\n",
    "import torch\n",
    "\n",
    "# Torchvision\n",
    "import torchvision\n",
    "import torchvision.models.detection as tv_detection\n",
    "from torchvision.models.detection import FasterRCNN\n",
    "import torchvision.transforms.v2 as v2\n",
    "\n",
    "# Utils\n",
    "from aleket_dataset import AleketDataset, download_dataset\n",
    "from utils import split_dataset, create_dataloaders\n",
    "from metrics import CocoEvaluator\n",
    "from training_and_evaluation import train"
   ]
  },
  {
   "cell_type": "code",
   "execution_count": null,
   "metadata": {},
   "outputs": [],
   "source": [
    "# Helper Functions\n",
    "\n",
    "# Device Selection\n",
    "DEVICE = torch.device(\"cuda\" if torch.cuda.is_available() else \"cpu\")\n",
    "print(f\"Using device: {DEVICE}\")\n",
    "\n",
    "# Model Builder\n",
    "def get_model(num_classes) -> FasterRCNN:\n",
    "    \"\"\"Loads or creates a Faster R-CNN model.\n",
    "    Args:\n",
    "        num_classes: The number of classes in the dataset.\n",
    "\n",
    "    Returns:\n",
    "        The Faster R-CNN model on the specified device.\n",
    "    \"\"\"\n",
    "    model = tv_detection.fasterrcnn_mobilenet_v3_large_fpn(\n",
    "        weights=\"DEFAULT\"\n",
    "    )\n",
    "    in_features = model.roi_heads.box_predictor.cls_score.in_features\n",
    "    model.roi_heads.box_predictor = (\n",
    "        tv_detection.faster_rcnn.FastRCNNPredictor(\n",
    "            in_features, num_classes\n",
    "        )\n",
    "    )\n",
    "    return model.to(DEVICE)\n"
   ]
  },
  {
   "cell_type": "code",
   "execution_count": null,
   "metadata": {},
   "outputs": [],
   "source": [
    "# Prints the architecture of the model\n",
    "print(get_model(3))"
   ]
  },
  {
   "cell_type": "code",
   "execution_count": null,
   "metadata": {
    "colab": {
     "base_uri": "https://localhost:8080/"
    },
    "id": "G9UdbXiJIAzZ",
    "outputId": "4eaac050-8192-4ffe-e5ae-ee59701ce7b2"
   },
   "outputs": [],
   "source": [
    "# Random Seed for Reproducibility\n",
    "SEED = 1\n",
    "random.seed(SEED)\n",
    "np.random.seed(SEED)\n",
    "torch.manual_seed(SEED)\n",
    "\n",
    "# Path variables\n",
    "RESUME = False\n",
    "RESULT_PATH = \"result\"\n",
    "DATASET_ROOT = download_dataset(\"dataset_patched\", \"\")\n",
    "\n",
    "# Dataset split\n",
    "VALIDATION_FRACTION = 0.2\n",
    "DATASET_FRACTION = 0.1\n",
    "DATALOADER_WORKERS = 16\n",
    "\n",
    "# Training Hyperparameters\n",
    "IMG_SIZE = 1024\n",
    "BATCH_SIZE = 16\n",
    "EPOCHS = 10\n",
    "LR = 0.001\n",
    "MOMENTUM = 0.9\n",
    "WEIGHT_DECAY = 0.0001\n",
    "WARMUP_EPOCHS = 50\n",
    "\n",
    "# Data Augmentation Transforms\n",
    "\n",
    "DEFAULT_TRANSFORMS = v2.Compose(\n",
    "    [v2.Resize(size=IMG_SIZE), v2.ToDtype(torch.float32, scale=True), ]\n",
    ")\n",
    "   \n",
    "TRAINING_TRANSFORMS = v2.Compose(\n",
    "    [\n",
    "        v2.RandomHorizontalFlip(p=0.5),\n",
    "        v2.RandomVerticalFlip(p=0.5),\n",
    "        v2.RandomPerspective(distortion_scale=0.2, p=0.2),\n",
    "        v2.RandomRotation(degrees=(-10, 10), expand=True),\n",
    "        DEFAULT_TRANSFORMS,\n",
    "    ]\n",
    ")\n",
    "\n",
    "np_generator = np.random.default_rng(SEED)\n",
    "\n",
    "def main():\n",
    "    \"\"\"Main training and evaluation loop.\"\"\"\n",
    "    \n",
    "    dataset = AleketDataset(DATASET_ROOT, DEFAULT_TRANSFORMS)\n",
    "    train_set, val_set = split_dataset(dataset, DATASET_FRACTION, VALIDATION_FRACTION, np_generator)\n",
    "    \n",
    "    print(f\"VALIDATION SET: {list(val_set.keys())}\\n\")\n",
    "    \n",
    "    train_indicies = []\n",
    "    val_indicies = []\n",
    "    \n",
    "    for indicies in train_set.values():\n",
    "        train_indicies.extend(indicies)\n",
    "    for indicies in val_set.values():\n",
    "        val_indicies.extend(indicies)  \n",
    "          \n",
    "    \n",
    "    train_dataloader, val_dataloader = create_dataloaders(dataset, train_indicies, val_indicies, BATCH_SIZE, DATALOADER_WORKERS)\n",
    "    coco_eval = CocoEvaluator(val_dataloader.dataset)      \n",
    "    \n",
    "    model = get_model(3)\n",
    "    \n",
    "    train(\n",
    "        \"train1\",\n",
    "        model,\n",
    "        dataset,\n",
    "        DEFAULT_TRANSFORMS,\n",
    "        TRAINING_TRANSFORMS,\n",
    "        train_dataloader,\n",
    "        val_dataloader,\n",
    "        EPOCHS,\n",
    "        WARMUP_EPOCHS,\n",
    "        LR,\n",
    "        MOMENTUM,\n",
    "        WEIGHT_DECAY,\n",
    "        coco_eval,\n",
    "        DEVICE\n",
    "    ) \n",
    "    \n",
    "if __name__ == \"__main__\":\n",
    "    main()"
   ]
  }
 ],
 "metadata": {
  "accelerator": "GPU",
  "colab": {
   "gpuType": "T4",
   "provenance": [
    {
     "file_id": "https://github.com/maximusjv/AleketML/blob/main/aleket.ipynb",
     "timestamp": 1726685419266
    }
   ]
  },
  "kernelspec": {
   "display_name": ".wslvenv",
   "language": "python",
   "name": "python3"
  },
  "language_info": {
   "codemirror_mode": {
    "name": "ipython",
    "version": 3
   },
   "file_extension": ".py",
   "mimetype": "text/x-python",
   "name": "python",
   "nbconvert_exporter": "python",
   "pygments_lexer": "ipython3",
   "version": "3.10.12"
  }
 },
 "nbformat": 4,
 "nbformat_minor": 4
}
