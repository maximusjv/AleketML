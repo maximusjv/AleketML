{
 "cells": [
  {
   "cell_type": "markdown",
   "metadata": {
    "id": "EKXbvPtmIAzW"
   },
   "source": [
    "# Aleket Faster R-CNN training notebook"
   ]
  },
  {
   "cell_type": "code",
   "execution_count": null,
   "metadata": {
    "executionInfo": {
     "elapsed": 10801,
     "status": "ok",
     "timestamp": 1726688877827,
     "user": {
      "displayName": "maximus JV",
      "userId": "01037924598235015782"
     },
     "user_tz": -180
    },
    "id": "oLaoTSNaIAzX"
   },
   "outputs": [],
   "source": [
    "%pip install pillow\n",
    "%pip install numpy<2.0\n",
    "%pip install torch torchvision --index-url https://download.pytorch.org/whl/cu124\n",
    "%pip install matplotlib\n",
    "%pip install gdown\n",
    "%pip install tqdm\n",
    "\n",
    "from IPython.display import clear_output\n",
    "\n",
    "clear_output(wait=False)\n",
    "\n",
    "print(\"ALL DEPENDENCIES INSTALLED\")"
   ]
  },
  {
   "cell_type": "code",
   "execution_count": 1,
   "metadata": {
    "executionInfo": {
     "elapsed": 7480,
     "status": "ok",
     "timestamp": 1726688885304,
     "user": {
      "displayName": "maximus JV",
      "userId": "01037924598235015782"
     },
     "user_tz": -180
    },
    "id": "QYh3of1UgFZs"
   },
   "outputs": [],
   "source": [
    "# IMPORTS\n",
    "\n",
    "# Standard Library\n",
    "import random\n",
    "\n",
    "# Third-Party Libraries\n",
    "import numpy as np\n",
    "from matplotlib import pyplot as plt\n",
    "# Torch\n",
    "import torch\n",
    "\n",
    "# Utils\n",
    "from aleket_dataset import AleketDataset, download_dataset\n",
    "from utils import split_dataset\n",
    "from training_and_evaluation import train,parse_params,TrainParams\n",
    "from utils import get_model\n",
    "from dataset_statisics import visualize_example_bboxes"
   ]
  },
  {
   "cell_type": "code",
   "execution_count": null,
   "metadata": {},
   "outputs": [
    {
     "name": "stdout",
     "output_type": "stream",
     "text": [
      "Using device: cuda\n",
      "Dataset loaded from dataset_patched\n"
     ]
    }
   ],
   "source": [
    "# Device Selection\n",
    "device = torch.device(\"cuda\" if torch.cuda.is_available() else \"cpu\")\n",
    "print(f\"Using device: {device}\")\n",
    "\n",
    "# Random Seed for Reproducibility\n",
    "SEED = 1\n",
    "random.seed(SEED)\n",
    "np.random.seed(SEED)\n",
    "torch.manual_seed(SEED)\n",
    "np_generator = np.random.default_rng(SEED)\n",
    "\n",
    "# Dataset split\n",
    "DATASET_FRACTION = 0.1\n",
    "VALIDATION_FRACTION = 0.2\n",
    "dataset = AleketDataset(download_dataset(\"dataset_patched\", \"\"), img_size=1024)\n",
    "train_set, val_set = split_dataset(dataset, DATASET_FRACTION, VALIDATION_FRACTION, np_generator)\n",
    "\n",
    "def augment_example(dataset):\n",
    "    examples = visualize_example_bboxes(dataset, image_ids_to_visualize=range(4))\n",
    "    fig=plt.figure(figsize=(15, 3))\n",
    "    columns = 4\n",
    "    rows = 1\n",
    "    for i in range(1, columns*rows +1):\n",
    "        fig.add_subplot(rows, columns, i)\n",
    "        plt.imshow(examples[i-1])\n",
    "    plt.show()"
   ]
  },
  {
   "cell_type": "code",
   "execution_count": 3,
   "metadata": {
    "colab": {
     "base_uri": "https://localhost:8080/"
    },
    "id": "G9UdbXiJIAzZ",
    "outputId": "4eaac050-8192-4ffe-e5ae-ee59701ce7b2"
   },
   "outputs": [
    {
     "name": "stdout",
     "output_type": "stream",
     "text": [
      "\n",
      "Epoch 1/100; Learning rate: 0.01\n"
     ]
    },
    {
     "name": "stderr",
     "output_type": "stream",
     "text": [
      "Training batches: 100%|██████████| 33/33 [00:19<00:00,  1.69it/s]\n",
      "Evaluating batches: 100%|██████████| 9/9 [00:03<00:00,  2.63it/s]\n"
     ]
    },
    {
     "name": "stdout",
     "output_type": "stream",
     "text": [
      "Time: 0:00:25; Epoch 1 Summary: \n",
      "\tTrain Mean Loss: 0.8326\n",
      "\tValidation AP@.50:.05:.95: 0.197\n",
      "\tValidation AP@.5: 0.496\n",
      "\tValidation AP@.75: 0.088\n",
      "\tValidation Recall@.50:.05:.95: 0.383\n",
      "\tValidation Recall@.5: 0.813\n",
      "\tValidation Recall@.75: 0.290\n",
      "\tValidation ACD: 1.552\n",
      "\tValidation AAD: 1.593\n",
      "\tNew Best Validation AP@.50:.05:.95: 0.197\n",
      "\n",
      "Epoch 2/100; Learning rate: 0.01\n"
     ]
    },
    {
     "name": "stderr",
     "output_type": "stream",
     "text": [
      "Training batches: 100%|██████████| 33/33 [00:18<00:00,  1.81it/s]\n",
      "Evaluating batches: 100%|██████████| 9/9 [00:03<00:00,  2.63it/s]\n"
     ]
    },
    {
     "name": "stdout",
     "output_type": "stream",
     "text": [
      "Time: 0:00:23; Epoch 2 Summary: \n",
      "\tTrain Mean Loss: 0.5595\n",
      "\tValidation AP@.50:.05:.95: 0.189\n",
      "\tValidation AP@.5: 0.470\n",
      "\tValidation AP@.75: 0.101\n",
      "\tValidation Recall@.50:.05:.95: 0.396\n",
      "\tValidation Recall@.5: 0.819\n",
      "\tValidation Recall@.75: 0.313\n",
      "\tValidation ACD: 1.359\n",
      "\tValidation AAD: 1.507\n",
      "\tBest Validation AP@.50:.05:.95: 0.197\n",
      "\n",
      "Epoch 3/100; Learning rate: 0.01\n"
     ]
    },
    {
     "name": "stderr",
     "output_type": "stream",
     "text": [
      "Training batches: 100%|██████████| 33/33 [00:18<00:00,  1.81it/s]\n",
      "Evaluating batches: 100%|██████████| 9/9 [00:03<00:00,  2.53it/s]\n"
     ]
    },
    {
     "name": "stdout",
     "output_type": "stream",
     "text": [
      "Time: 0:00:23; Epoch 3 Summary: \n",
      "\tTrain Mean Loss: 0.4995\n",
      "\tValidation AP@.50:.05:.95: 0.256\n",
      "\tValidation AP@.5: 0.582\n",
      "\tValidation AP@.75: 0.182\n",
      "\tValidation Recall@.50:.05:.95: 0.450\n",
      "\tValidation Recall@.5: 0.851\n",
      "\tValidation Recall@.75: 0.417\n",
      "\tValidation ACD: 1.363\n",
      "\tValidation AAD: 1.429\n",
      "\tNew Best Validation AP@.50:.05:.95: 0.256\n",
      "\n",
      "Epoch 4/100; Learning rate: 0.01\n"
     ]
    },
    {
     "name": "stderr",
     "output_type": "stream",
     "text": [
      "Training batches: 100%|██████████| 33/33 [00:17<00:00,  1.84it/s]\n",
      "Evaluating batches: 100%|██████████| 9/9 [00:03<00:00,  2.56it/s]\n"
     ]
    },
    {
     "name": "stdout",
     "output_type": "stream",
     "text": [
      "Time: 0:00:23; Epoch 4 Summary: \n",
      "\tTrain Mean Loss: 0.4417\n",
      "\tValidation AP@.50:.05:.95: 0.252\n",
      "\tValidation AP@.5: 0.594\n",
      "\tValidation AP@.75: 0.148\n",
      "\tValidation Recall@.50:.05:.95: 0.431\n",
      "\tValidation Recall@.5: 0.844\n",
      "\tValidation Recall@.75: 0.361\n",
      "\tValidation ACD: 1.219\n",
      "\tValidation AAD: 1.376\n",
      "\tBest Validation AP@.50:.05:.95: 0.256\n",
      "\n",
      "Epoch 5/100; Learning rate: 0.01\n"
     ]
    },
    {
     "name": "stderr",
     "output_type": "stream",
     "text": [
      "Training batches: 100%|██████████| 33/33 [00:18<00:00,  1.78it/s]\n",
      "Evaluating batches: 100%|██████████| 9/9 [00:03<00:00,  2.62it/s]\n"
     ]
    },
    {
     "name": "stdout",
     "output_type": "stream",
     "text": [
      "Time: 0:00:24; Epoch 5 Summary: \n",
      "\tTrain Mean Loss: 0.4090\n",
      "\tValidation AP@.50:.05:.95: 0.257\n",
      "\tValidation AP@.5: 0.590\n",
      "\tValidation AP@.75: 0.165\n",
      "\tValidation Recall@.50:.05:.95: 0.430\n",
      "\tValidation Recall@.5: 0.815\n",
      "\tValidation Recall@.75: 0.392\n",
      "\tValidation ACD: 1.149\n",
      "\tValidation AAD: 1.229\n",
      "\tNew Best Validation AP@.50:.05:.95: 0.257\n",
      "\n",
      "Epoch 6/100; Learning rate: 0.01\n"
     ]
    },
    {
     "name": "stderr",
     "output_type": "stream",
     "text": [
      "Training batches: 100%|██████████| 33/33 [00:18<00:00,  1.82it/s]\n",
      "Evaluating batches: 100%|██████████| 9/9 [00:03<00:00,  2.58it/s]\n"
     ]
    },
    {
     "name": "stdout",
     "output_type": "stream",
     "text": [
      "Time: 0:00:23; Epoch 6 Summary: \n",
      "\tTrain Mean Loss: 0.3908\n",
      "\tValidation AP@.50:.05:.95: 0.260\n",
      "\tValidation AP@.5: 0.597\n",
      "\tValidation AP@.75: 0.167\n",
      "\tValidation Recall@.50:.05:.95: 0.426\n",
      "\tValidation Recall@.5: 0.816\n",
      "\tValidation Recall@.75: 0.390\n",
      "\tValidation ACD: 1.185\n",
      "\tValidation AAD: 1.166\n",
      "\tNew Best Validation AP@.50:.05:.95: 0.260\n",
      "\n",
      "Epoch 7/100; Learning rate: 0.01\n"
     ]
    },
    {
     "name": "stderr",
     "output_type": "stream",
     "text": [
      "Training batches: 100%|██████████| 33/33 [00:18<00:00,  1.76it/s]\n",
      "Evaluating batches: 100%|██████████| 9/9 [00:03<00:00,  2.43it/s]\n"
     ]
    },
    {
     "name": "stdout",
     "output_type": "stream",
     "text": [
      "Time: 0:00:24; Epoch 7 Summary: \n",
      "\tTrain Mean Loss: 0.3540\n",
      "\tValidation AP@.50:.05:.95: 0.256\n",
      "\tValidation AP@.5: 0.590\n",
      "\tValidation AP@.75: 0.177\n",
      "\tValidation Recall@.50:.05:.95: 0.432\n",
      "\tValidation Recall@.5: 0.849\n",
      "\tValidation Recall@.75: 0.381\n",
      "\tValidation ACD: 1.268\n",
      "\tValidation AAD: 1.296\n",
      "\tBest Validation AP@.50:.05:.95: 0.260\n",
      "\n",
      "Epoch 8/100; Learning rate: 0.01\n"
     ]
    },
    {
     "name": "stderr",
     "output_type": "stream",
     "text": [
      "Training batches: 100%|██████████| 33/33 [00:18<00:00,  1.82it/s]\n",
      "Evaluating batches: 100%|██████████| 9/9 [00:03<00:00,  2.48it/s]\n"
     ]
    },
    {
     "name": "stdout",
     "output_type": "stream",
     "text": [
      "Time: 0:00:24; Epoch 8 Summary: \n",
      "\tTrain Mean Loss: 0.3225\n",
      "\tValidation AP@.50:.05:.95: 0.257\n",
      "\tValidation AP@.5: 0.601\n",
      "\tValidation AP@.75: 0.176\n",
      "\tValidation Recall@.50:.05:.95: 0.422\n",
      "\tValidation Recall@.5: 0.812\n",
      "\tValidation Recall@.75: 0.384\n",
      "\tValidation ACD: 1.075\n",
      "\tValidation AAD: 1.156\n",
      "\tBest Validation AP@.50:.05:.95: 0.260\n",
      "\n",
      "Epoch 9/100; Learning rate: 0.01\n"
     ]
    },
    {
     "name": "stderr",
     "output_type": "stream",
     "text": [
      "Training batches: 100%|██████████| 33/33 [00:18<00:00,  1.83it/s]\n",
      "Evaluating batches: 100%|██████████| 9/9 [00:03<00:00,  2.56it/s]\n"
     ]
    },
    {
     "name": "stdout",
     "output_type": "stream",
     "text": [
      "Time: 0:00:23; Epoch 9 Summary: \n",
      "\tTrain Mean Loss: 0.3064\n",
      "\tValidation AP@.50:.05:.95: 0.258\n",
      "\tValidation AP@.5: 0.616\n",
      "\tValidation AP@.75: 0.171\n",
      "\tValidation Recall@.50:.05:.95: 0.414\n",
      "\tValidation Recall@.5: 0.803\n",
      "\tValidation Recall@.75: 0.376\n",
      "\tValidation ACD: 0.924\n",
      "\tValidation AAD: 0.959\n",
      "\tBest Validation AP@.50:.05:.95: 0.260\n",
      "\n",
      "Epoch 10/100; Learning rate: 0.01\n"
     ]
    },
    {
     "name": "stderr",
     "output_type": "stream",
     "text": [
      "Training batches: 100%|██████████| 33/33 [00:18<00:00,  1.77it/s]\n",
      "Evaluating batches: 100%|██████████| 9/9 [00:03<00:00,  2.53it/s]\n"
     ]
    },
    {
     "name": "stdout",
     "output_type": "stream",
     "text": [
      "Time: 0:00:24; Epoch 10 Summary: \n",
      "\tTrain Mean Loss: 0.2973\n",
      "\tValidation AP@.50:.05:.95: 0.255\n",
      "\tValidation AP@.5: 0.589\n",
      "\tValidation AP@.75: 0.172\n",
      "\tValidation Recall@.50:.05:.95: 0.410\n",
      "\tValidation Recall@.5: 0.790\n",
      "\tValidation Recall@.75: 0.365\n",
      "\tValidation ACD: 0.950\n",
      "\tValidation AAD: 1.044\n",
      "\tBest Validation AP@.50:.05:.95: 0.260\n",
      "\n",
      "Epoch 11/100; Learning rate: 0.01\n"
     ]
    },
    {
     "name": "stderr",
     "output_type": "stream",
     "text": [
      "Training batches: 100%|██████████| 33/33 [00:18<00:00,  1.83it/s]\n",
      "Evaluating batches: 100%|██████████| 9/9 [00:03<00:00,  2.56it/s]\n"
     ]
    },
    {
     "name": "stdout",
     "output_type": "stream",
     "text": [
      "Time: 0:00:23; Epoch 11 Summary: \n",
      "\tTrain Mean Loss: 0.2757\n",
      "\tValidation AP@.50:.05:.95: 0.240\n",
      "\tValidation AP@.5: 0.582\n",
      "\tValidation AP@.75: 0.156\n",
      "\tValidation Recall@.50:.05:.95: 0.404\n",
      "\tValidation Recall@.5: 0.802\n",
      "\tValidation Recall@.75: 0.360\n",
      "\tValidation ACD: 0.937\n",
      "\tValidation AAD: 1.073\n",
      "\tBest Validation AP@.50:.05:.95: 0.260\n",
      "\n",
      "Epoch 12/100; Learning rate: 0.01\n"
     ]
    },
    {
     "name": "stderr",
     "output_type": "stream",
     "text": [
      "Training batches: 100%|██████████| 33/33 [00:18<00:00,  1.80it/s]\n",
      "Evaluating batches: 100%|██████████| 9/9 [00:03<00:00,  2.55it/s]\n"
     ]
    },
    {
     "name": "stdout",
     "output_type": "stream",
     "text": [
      "Time: 0:00:24; Epoch 12 Summary: \n",
      "\tTrain Mean Loss: 0.2697\n",
      "\tValidation AP@.50:.05:.95: 0.259\n",
      "\tValidation AP@.5: 0.602\n",
      "\tValidation AP@.75: 0.182\n",
      "\tValidation Recall@.50:.05:.95: 0.412\n",
      "\tValidation Recall@.5: 0.796\n",
      "\tValidation Recall@.75: 0.380\n",
      "\tValidation ACD: 0.909\n",
      "\tValidation AAD: 0.957\n",
      "\tBest Validation AP@.50:.05:.95: 0.260\n",
      "\n",
      "Epoch 13/100; Learning rate: 0.01\n"
     ]
    },
    {
     "name": "stderr",
     "output_type": "stream",
     "text": [
      "Training batches: 100%|██████████| 33/33 [00:18<00:00,  1.79it/s]\n",
      "Evaluating batches: 100%|██████████| 9/9 [00:03<00:00,  2.56it/s]\n"
     ]
    },
    {
     "name": "stdout",
     "output_type": "stream",
     "text": [
      "Time: 0:00:24; Epoch 13 Summary: \n",
      "\tTrain Mean Loss: 0.2502\n",
      "\tValidation AP@.50:.05:.95: 0.253\n",
      "\tValidation AP@.5: 0.582\n",
      "\tValidation AP@.75: 0.165\n",
      "\tValidation Recall@.50:.05:.95: 0.406\n",
      "\tValidation Recall@.5: 0.781\n",
      "\tValidation Recall@.75: 0.357\n",
      "\tValidation ACD: 0.868\n",
      "\tValidation AAD: 0.899\n",
      "\tBest Validation AP@.50:.05:.95: 0.260\n",
      "\n",
      "Epoch 14/100; Learning rate: 0.01\n"
     ]
    },
    {
     "name": "stderr",
     "output_type": "stream",
     "text": [
      "Training batches: 100%|██████████| 33/33 [00:17<00:00,  1.84it/s]\n",
      "Evaluating batches: 100%|██████████| 9/9 [00:03<00:00,  2.53it/s]\n"
     ]
    },
    {
     "name": "stdout",
     "output_type": "stream",
     "text": [
      "Time: 0:00:23; Epoch 14 Summary: \n",
      "\tTrain Mean Loss: 0.2423\n",
      "\tValidation AP@.50:.05:.95: 0.239\n",
      "\tValidation AP@.5: 0.572\n",
      "\tValidation AP@.75: 0.151\n",
      "\tValidation Recall@.50:.05:.95: 0.405\n",
      "\tValidation Recall@.5: 0.790\n",
      "\tValidation Recall@.75: 0.357\n",
      "\tValidation ACD: 0.881\n",
      "\tValidation AAD: 0.972\n",
      "\tBest Validation AP@.50:.05:.95: 0.260\n",
      "\n",
      "Epoch 15/100; Learning rate: 0.01\n"
     ]
    },
    {
     "name": "stderr",
     "output_type": "stream",
     "text": [
      "Training batches: 100%|██████████| 33/33 [00:18<00:00,  1.77it/s]\n",
      "Evaluating batches: 100%|██████████| 9/9 [00:03<00:00,  2.53it/s]\n"
     ]
    },
    {
     "name": "stdout",
     "output_type": "stream",
     "text": [
      "Time: 0:00:24; Epoch 15 Summary: \n",
      "\tTrain Mean Loss: 0.2354\n",
      "\tValidation AP@.50:.05:.95: 0.246\n",
      "\tValidation AP@.5: 0.586\n",
      "\tValidation AP@.75: 0.157\n",
      "\tValidation Recall@.50:.05:.95: 0.380\n",
      "\tValidation Recall@.5: 0.751\n",
      "\tValidation Recall@.75: 0.324\n",
      "\tValidation ACD: 0.825\n",
      "\tValidation AAD: 0.847\n",
      "\tBest Validation AP@.50:.05:.95: 0.260\n",
      "\n",
      "Epoch 16/100; Learning rate: 0.01\n"
     ]
    },
    {
     "name": "stderr",
     "output_type": "stream",
     "text": [
      "Training batches: 100%|██████████| 33/33 [00:19<00:00,  1.74it/s]\n",
      "Evaluating batches: 100%|██████████| 9/9 [00:03<00:00,  2.54it/s]\n"
     ]
    },
    {
     "name": "stdout",
     "output_type": "stream",
     "text": [
      "Time: 0:00:24; Epoch 16 Summary: \n",
      "\tTrain Mean Loss: 0.2177\n",
      "\tValidation AP@.50:.05:.95: 0.230\n",
      "\tValidation AP@.5: 0.552\n",
      "\tValidation AP@.75: 0.150\n",
      "\tValidation Recall@.50:.05:.95: 0.400\n",
      "\tValidation Recall@.5: 0.794\n",
      "\tValidation Recall@.75: 0.354\n",
      "\tValidation ACD: 0.986\n",
      "\tValidation AAD: 1.124\n",
      "\tBest Validation AP@.50:.05:.95: 0.260\n",
      "\n",
      "Epoch 17/100; Learning rate: 0.01\n"
     ]
    },
    {
     "name": "stderr",
     "output_type": "stream",
     "text": [
      "Training batches: 100%|██████████| 33/33 [00:18<00:00,  1.81it/s]\n",
      "Evaluating batches: 100%|██████████| 9/9 [00:03<00:00,  2.61it/s]\n"
     ]
    },
    {
     "name": "stdout",
     "output_type": "stream",
     "text": [
      "Time: 0:00:23; Epoch 17 Summary: \n",
      "\tTrain Mean Loss: 0.2141\n",
      "\tValidation AP@.50:.05:.95: 0.257\n",
      "\tValidation AP@.5: 0.605\n",
      "\tValidation AP@.75: 0.170\n",
      "\tValidation Recall@.50:.05:.95: 0.393\n",
      "\tValidation Recall@.5: 0.779\n",
      "\tValidation Recall@.75: 0.345\n",
      "\tValidation ACD: 0.739\n",
      "\tValidation AAD: 0.762\n",
      "\tBest Validation AP@.50:.05:.95: 0.260\n",
      "\n",
      "Epoch 18/100; Learning rate: 0.01\n"
     ]
    },
    {
     "name": "stderr",
     "output_type": "stream",
     "text": [
      "Training batches: 100%|██████████| 33/33 [00:19<00:00,  1.73it/s]\n",
      "Evaluating batches: 100%|██████████| 9/9 [00:03<00:00,  2.49it/s]\n"
     ]
    },
    {
     "name": "stdout",
     "output_type": "stream",
     "text": [
      "Time: 0:00:24; Epoch 18 Summary: \n",
      "\tTrain Mean Loss: 0.2041\n",
      "\tValidation AP@.50:.05:.95: 0.262\n",
      "\tValidation AP@.5: 0.612\n",
      "\tValidation AP@.75: 0.171\n",
      "\tValidation Recall@.50:.05:.95: 0.405\n",
      "\tValidation Recall@.5: 0.796\n",
      "\tValidation Recall@.75: 0.351\n",
      "\tValidation ACD: 0.810\n",
      "\tValidation AAD: 0.866\n",
      "\tNew Best Validation AP@.50:.05:.95: 0.262\n",
      "\n",
      "Epoch 19/100; Learning rate: 0.01\n"
     ]
    },
    {
     "name": "stderr",
     "output_type": "stream",
     "text": [
      "Training batches: 100%|██████████| 33/33 [00:19<00:00,  1.70it/s]\n",
      "Evaluating batches: 100%|██████████| 9/9 [00:03<00:00,  2.59it/s]\n"
     ]
    },
    {
     "name": "stdout",
     "output_type": "stream",
     "text": [
      "Time: 0:00:25; Epoch 19 Summary: \n",
      "\tTrain Mean Loss: 0.1905\n",
      "\tValidation AP@.50:.05:.95: 0.255\n",
      "\tValidation AP@.5: 0.591\n",
      "\tValidation AP@.75: 0.165\n",
      "\tValidation Recall@.50:.05:.95: 0.388\n",
      "\tValidation Recall@.5: 0.754\n",
      "\tValidation Recall@.75: 0.342\n",
      "\tValidation ACD: 0.727\n",
      "\tValidation AAD: 0.737\n",
      "\tBest Validation AP@.50:.05:.95: 0.262\n",
      "\n",
      "Epoch 20/100; Learning rate: 0.01\n"
     ]
    },
    {
     "name": "stderr",
     "output_type": "stream",
     "text": [
      "Training batches: 100%|██████████| 33/33 [00:18<00:00,  1.82it/s]\n",
      "Evaluating batches: 100%|██████████| 9/9 [00:03<00:00,  2.54it/s]\n"
     ]
    },
    {
     "name": "stdout",
     "output_type": "stream",
     "text": [
      "Time: 0:00:23; Epoch 20 Summary: \n",
      "\tTrain Mean Loss: 0.1803\n",
      "\tValidation AP@.50:.05:.95: 0.240\n",
      "\tValidation AP@.5: 0.568\n",
      "\tValidation AP@.75: 0.159\n",
      "\tValidation Recall@.50:.05:.95: 0.366\n",
      "\tValidation Recall@.5: 0.722\n",
      "\tValidation Recall@.75: 0.314\n",
      "\tValidation ACD: 0.711\n",
      "\tValidation AAD: 0.680\n",
      "\tBest Validation AP@.50:.05:.95: 0.262\n",
      "\n",
      "Epoch 21/100; Learning rate: 0.01\n"
     ]
    },
    {
     "name": "stderr",
     "output_type": "stream",
     "text": [
      "Training batches: 100%|██████████| 33/33 [00:18<00:00,  1.80it/s]\n",
      "Evaluating batches: 100%|██████████| 9/9 [00:03<00:00,  2.46it/s]\n"
     ]
    },
    {
     "name": "stdout",
     "output_type": "stream",
     "text": [
      "Time: 0:00:24; Epoch 21 Summary: \n",
      "\tTrain Mean Loss: 0.1721\n",
      "\tValidation AP@.50:.05:.95: 0.244\n",
      "\tValidation AP@.5: 0.586\n",
      "\tValidation AP@.75: 0.163\n",
      "\tValidation Recall@.50:.05:.95: 0.369\n",
      "\tValidation Recall@.5: 0.741\n",
      "\tValidation Recall@.75: 0.316\n",
      "\tValidation ACD: 0.709\n",
      "\tValidation AAD: 0.715\n",
      "\tBest Validation AP@.50:.05:.95: 0.262\n",
      "\n",
      "Epoch 22/100; Learning rate: 0.01\n"
     ]
    },
    {
     "name": "stderr",
     "output_type": "stream",
     "text": [
      "Training batches: 100%|██████████| 33/33 [00:18<00:00,  1.81it/s]\n",
      "Evaluating batches: 100%|██████████| 9/9 [00:03<00:00,  2.45it/s]\n"
     ]
    },
    {
     "name": "stdout",
     "output_type": "stream",
     "text": [
      "Time: 0:00:24; Epoch 22 Summary: \n",
      "\tTrain Mean Loss: 0.1648\n",
      "\tValidation AP@.50:.05:.95: 0.248\n",
      "\tValidation AP@.5: 0.579\n",
      "\tValidation AP@.75: 0.166\n",
      "\tValidation Recall@.50:.05:.95: 0.385\n",
      "\tValidation Recall@.5: 0.746\n",
      "\tValidation Recall@.75: 0.342\n",
      "\tValidation ACD: 0.778\n",
      "\tValidation AAD: 0.743\n",
      "\tBest Validation AP@.50:.05:.95: 0.262\n",
      "\n",
      "Epoch 23/100; Learning rate: 0.01\n"
     ]
    },
    {
     "name": "stderr",
     "output_type": "stream",
     "text": [
      "Training batches: 100%|██████████| 33/33 [00:18<00:00,  1.79it/s]\n",
      "Evaluating batches: 100%|██████████| 9/9 [00:03<00:00,  2.49it/s]\n"
     ]
    },
    {
     "name": "stdout",
     "output_type": "stream",
     "text": [
      "Time: 0:00:24; Epoch 23 Summary: \n",
      "\tTrain Mean Loss: 0.1606\n",
      "\tValidation AP@.50:.05:.95: 0.249\n",
      "\tValidation AP@.5: 0.595\n",
      "\tValidation AP@.75: 0.153\n",
      "\tValidation Recall@.50:.05:.95: 0.386\n",
      "\tValidation Recall@.5: 0.770\n",
      "\tValidation Recall@.75: 0.328\n",
      "\tValidation ACD: 0.729\n",
      "\tValidation AAD: 0.734\n",
      "\tBest Validation AP@.50:.05:.95: 0.262\n",
      "\n",
      "Epoch 24/100; Learning rate: 0.01\n"
     ]
    },
    {
     "name": "stderr",
     "output_type": "stream",
     "text": [
      "Training batches: 100%|██████████| 33/33 [00:18<00:00,  1.81it/s]\n",
      "Evaluating batches: 100%|██████████| 9/9 [00:03<00:00,  2.58it/s]\n"
     ]
    },
    {
     "name": "stdout",
     "output_type": "stream",
     "text": [
      "Time: 0:00:23; Epoch 24 Summary: \n",
      "\tTrain Mean Loss: 0.1602\n",
      "\tValidation AP@.50:.05:.95: 0.230\n",
      "\tValidation AP@.5: 0.560\n",
      "\tValidation AP@.75: 0.139\n",
      "\tValidation Recall@.50:.05:.95: 0.360\n",
      "\tValidation Recall@.5: 0.737\n",
      "\tValidation Recall@.75: 0.293\n",
      "\tValidation ACD: 0.693\n",
      "\tValidation AAD: 0.699\n",
      "\tBest Validation AP@.50:.05:.95: 0.262\n",
      "\n",
      "Epoch 25/100; Learning rate: 0.01\n"
     ]
    },
    {
     "name": "stderr",
     "output_type": "stream",
     "text": [
      "Training batches: 100%|██████████| 33/33 [00:18<00:00,  1.83it/s]\n",
      "Evaluating batches: 100%|██████████| 9/9 [00:03<00:00,  2.51it/s]\n"
     ]
    },
    {
     "name": "stdout",
     "output_type": "stream",
     "text": [
      "Time: 0:00:23; Epoch 25 Summary: \n",
      "\tTrain Mean Loss: 0.1673\n",
      "\tValidation AP@.50:.05:.95: 0.235\n",
      "\tValidation AP@.5: 0.553\n",
      "\tValidation AP@.75: 0.145\n",
      "\tValidation Recall@.50:.05:.95: 0.356\n",
      "\tValidation Recall@.5: 0.704\n",
      "\tValidation Recall@.75: 0.305\n",
      "\tValidation ACD: 0.699\n",
      "\tValidation AAD: 0.736\n",
      "\tBest Validation AP@.50:.05:.95: 0.262\n",
      "\n",
      "Epoch 26/100; Learning rate: 0.01\n"
     ]
    },
    {
     "name": "stderr",
     "output_type": "stream",
     "text": [
      "Training batches: 100%|██████████| 33/33 [00:18<00:00,  1.82it/s]\n",
      "Evaluating batches: 100%|██████████| 9/9 [00:03<00:00,  2.50it/s]\n"
     ]
    },
    {
     "name": "stdout",
     "output_type": "stream",
     "text": [
      "Time: 0:00:24; Epoch 26 Summary: \n",
      "\tTrain Mean Loss: 0.1542\n",
      "\tValidation AP@.50:.05:.95: 0.243\n",
      "\tValidation AP@.5: 0.575\n",
      "\tValidation AP@.75: 0.156\n",
      "\tValidation Recall@.50:.05:.95: 0.373\n",
      "\tValidation Recall@.5: 0.737\n",
      "\tValidation Recall@.75: 0.327\n",
      "\tValidation ACD: 0.704\n",
      "\tValidation AAD: 0.680\n",
      "\tBest Validation AP@.50:.05:.95: 0.262\n",
      "\n",
      "Epoch 27/100; Learning rate: 0.01\n"
     ]
    },
    {
     "name": "stderr",
     "output_type": "stream",
     "text": [
      "Training batches: 100%|██████████| 33/33 [00:18<00:00,  1.81it/s]\n",
      "Evaluating batches: 100%|██████████| 9/9 [00:03<00:00,  2.45it/s]\n"
     ]
    },
    {
     "name": "stdout",
     "output_type": "stream",
     "text": [
      "Time: 0:00:24; Epoch 27 Summary: \n",
      "\tTrain Mean Loss: 0.1496\n",
      "\tValidation AP@.50:.05:.95: 0.247\n",
      "\tValidation AP@.5: 0.588\n",
      "\tValidation AP@.75: 0.150\n",
      "\tValidation Recall@.50:.05:.95: 0.378\n",
      "\tValidation Recall@.5: 0.744\n",
      "\tValidation Recall@.75: 0.322\n",
      "\tValidation ACD: 0.723\n",
      "\tValidation AAD: 0.717\n",
      "\tBest Validation AP@.50:.05:.95: 0.262\n",
      "\n",
      "Epoch 28/100; Learning rate: 0.01\n"
     ]
    },
    {
     "name": "stderr",
     "output_type": "stream",
     "text": [
      "Training batches: 100%|██████████| 33/33 [00:18<00:00,  1.75it/s]\n",
      "Evaluating batches: 100%|██████████| 9/9 [00:03<00:00,  2.63it/s]\n"
     ]
    },
    {
     "name": "stdout",
     "output_type": "stream",
     "text": [
      "Time: 0:00:24; Epoch 28 Summary: \n",
      "\tTrain Mean Loss: 0.1333\n",
      "\tValidation AP@.50:.05:.95: 0.248\n",
      "\tValidation AP@.5: 0.570\n",
      "\tValidation AP@.75: 0.168\n",
      "\tValidation Recall@.50:.05:.95: 0.365\n",
      "\tValidation Recall@.5: 0.712\n",
      "\tValidation Recall@.75: 0.321\n",
      "\tValidation ACD: 0.715\n",
      "\tValidation AAD: 0.650\n",
      "\tBest Validation AP@.50:.05:.95: 0.262\n",
      "\n",
      "Epoch 29/100; Learning rate: 0.01\n"
     ]
    },
    {
     "name": "stderr",
     "output_type": "stream",
     "text": [
      "Training batches: 100%|██████████| 33/33 [00:18<00:00,  1.78it/s]\n",
      "Evaluating batches: 100%|██████████| 9/9 [00:03<00:00,  2.60it/s]\n"
     ]
    },
    {
     "name": "stdout",
     "output_type": "stream",
     "text": [
      "Time: 0:00:24; Epoch 29 Summary: \n",
      "\tTrain Mean Loss: 0.1358\n",
      "\tValidation AP@.50:.05:.95: 0.236\n",
      "\tValidation AP@.5: 0.570\n",
      "\tValidation AP@.75: 0.146\n",
      "\tValidation Recall@.50:.05:.95: 0.369\n",
      "\tValidation Recall@.5: 0.726\n",
      "\tValidation Recall@.75: 0.321\n",
      "\tValidation ACD: 0.742\n",
      "\tValidation AAD: 0.693\n",
      "\tBest Validation AP@.50:.05:.95: 0.262\n",
      "\n",
      "Epoch 30/100; Learning rate: 0.01\n"
     ]
    },
    {
     "name": "stderr",
     "output_type": "stream",
     "text": [
      "Training batches: 100%|██████████| 33/33 [00:18<00:00,  1.79it/s]\n",
      "Evaluating batches: 100%|██████████| 9/9 [00:03<00:00,  2.54it/s]\n"
     ]
    },
    {
     "name": "stdout",
     "output_type": "stream",
     "text": [
      "Time: 0:00:24; Epoch 30 Summary: \n",
      "\tTrain Mean Loss: 0.1344\n",
      "\tValidation AP@.50:.05:.95: 0.248\n",
      "\tValidation AP@.5: 0.590\n",
      "\tValidation AP@.75: 0.154\n",
      "\tValidation Recall@.50:.05:.95: 0.393\n",
      "\tValidation Recall@.5: 0.772\n",
      "\tValidation Recall@.75: 0.339\n",
      "\tValidation ACD: 0.789\n",
      "\tValidation AAD: 0.799\n",
      "\tBest Validation AP@.50:.05:.95: 0.262\n",
      "\n",
      "Epoch 31/100; Learning rate: 0.01\n"
     ]
    },
    {
     "name": "stderr",
     "output_type": "stream",
     "text": [
      "Training batches: 100%|██████████| 33/33 [00:18<00:00,  1.76it/s]\n",
      "Evaluating batches: 100%|██████████| 9/9 [00:03<00:00,  2.61it/s]\n"
     ]
    },
    {
     "name": "stdout",
     "output_type": "stream",
     "text": [
      "Time: 0:00:24; Epoch 31 Summary: \n",
      "\tTrain Mean Loss: 0.1241\n",
      "\tValidation AP@.50:.05:.95: 0.249\n",
      "\tValidation AP@.5: 0.596\n",
      "\tValidation AP@.75: 0.148\n",
      "\tValidation Recall@.50:.05:.95: 0.378\n",
      "\tValidation Recall@.5: 0.743\n",
      "\tValidation Recall@.75: 0.319\n",
      "\tValidation ACD: 0.711\n",
      "\tValidation AAD: 0.661\n",
      "\tBest Validation AP@.50:.05:.95: 0.262\n",
      "\n",
      "Epoch 32/100; Learning rate: 0.01\n"
     ]
    },
    {
     "name": "stderr",
     "output_type": "stream",
     "text": [
      "Training batches: 100%|██████████| 33/33 [00:18<00:00,  1.81it/s]\n",
      "Evaluating batches: 100%|██████████| 9/9 [00:03<00:00,  2.53it/s]\n"
     ]
    },
    {
     "name": "stdout",
     "output_type": "stream",
     "text": [
      "Time: 0:00:24; Epoch 32 Summary: \n",
      "\tTrain Mean Loss: 0.1216\n",
      "\tValidation AP@.50:.05:.95: 0.244\n",
      "\tValidation AP@.5: 0.575\n",
      "\tValidation AP@.75: 0.169\n",
      "\tValidation Recall@.50:.05:.95: 0.379\n",
      "\tValidation Recall@.5: 0.748\n",
      "\tValidation Recall@.75: 0.338\n",
      "\tValidation ACD: 0.739\n",
      "\tValidation AAD: 0.698\n",
      "\tBest Validation AP@.50:.05:.95: 0.262\n",
      "\n",
      "Epoch 33/100; Learning rate: 0.01\n"
     ]
    },
    {
     "name": "stderr",
     "output_type": "stream",
     "text": [
      "Training batches: 100%|██████████| 33/33 [00:18<00:00,  1.81it/s]\n",
      "Evaluating batches: 100%|██████████| 9/9 [00:03<00:00,  2.57it/s]\n"
     ]
    },
    {
     "name": "stdout",
     "output_type": "stream",
     "text": [
      "Time: 0:00:24; Epoch 33 Summary: \n",
      "\tTrain Mean Loss: 0.1212\n",
      "\tValidation AP@.50:.05:.95: 0.247\n",
      "\tValidation AP@.5: 0.579\n",
      "\tValidation AP@.75: 0.176\n",
      "\tValidation Recall@.50:.05:.95: 0.375\n",
      "\tValidation Recall@.5: 0.740\n",
      "\tValidation Recall@.75: 0.342\n",
      "\tValidation ACD: 0.725\n",
      "\tValidation AAD: 0.716\n",
      "\tBest Validation AP@.50:.05:.95: 0.262\n",
      "\n",
      "Epoch 34/100; Learning rate: 0.01\n"
     ]
    },
    {
     "name": "stderr",
     "output_type": "stream",
     "text": [
      "Training batches: 100%|██████████| 33/33 [00:18<00:00,  1.81it/s]\n",
      "Evaluating batches: 100%|██████████| 9/9 [00:03<00:00,  2.60it/s]\n"
     ]
    },
    {
     "name": "stdout",
     "output_type": "stream",
     "text": [
      "Time: 0:00:24; Epoch 34 Summary: \n",
      "\tTrain Mean Loss: 0.1197\n",
      "\tValidation AP@.50:.05:.95: 0.241\n",
      "\tValidation AP@.5: 0.576\n",
      "\tValidation AP@.75: 0.153\n",
      "\tValidation Recall@.50:.05:.95: 0.381\n",
      "\tValidation Recall@.5: 0.743\n",
      "\tValidation Recall@.75: 0.343\n",
      "\tValidation ACD: 0.752\n",
      "\tValidation AAD: 0.710\n",
      "\tBest Validation AP@.50:.05:.95: 0.262\n",
      "\n",
      "Epoch 35/100; Learning rate: 0.01\n"
     ]
    },
    {
     "name": "stderr",
     "output_type": "stream",
     "text": [
      "Training batches: 100%|██████████| 33/33 [00:17<00:00,  1.86it/s]\n",
      "Evaluating batches: 100%|██████████| 9/9 [00:03<00:00,  2.56it/s]\n"
     ]
    },
    {
     "name": "stdout",
     "output_type": "stream",
     "text": [
      "Time: 0:00:23; Epoch 35 Summary: \n",
      "\tTrain Mean Loss: 0.1245\n",
      "\tValidation AP@.50:.05:.95: 0.238\n",
      "\tValidation AP@.5: 0.574\n",
      "\tValidation AP@.75: 0.151\n",
      "\tValidation Recall@.50:.05:.95: 0.373\n",
      "\tValidation Recall@.5: 0.737\n",
      "\tValidation Recall@.75: 0.321\n",
      "\tValidation ACD: 0.683\n",
      "\tValidation AAD: 0.667\n",
      "\tBest Validation AP@.50:.05:.95: 0.262\n",
      "\n",
      "Epoch 36/100; Learning rate: 0.01\n"
     ]
    },
    {
     "name": "stderr",
     "output_type": "stream",
     "text": [
      "Training batches: 100%|██████████| 33/33 [00:18<00:00,  1.79it/s]\n",
      "Evaluating batches: 100%|██████████| 9/9 [00:03<00:00,  2.60it/s]\n"
     ]
    },
    {
     "name": "stdout",
     "output_type": "stream",
     "text": [
      "Time: 0:00:24; Epoch 36 Summary: \n",
      "\tTrain Mean Loss: 0.1213\n",
      "\tValidation AP@.50:.05:.95: 0.246\n",
      "\tValidation AP@.5: 0.584\n",
      "\tValidation AP@.75: 0.152\n",
      "\tValidation Recall@.50:.05:.95: 0.375\n",
      "\tValidation Recall@.5: 0.743\n",
      "\tValidation Recall@.75: 0.320\n",
      "\tValidation ACD: 0.675\n",
      "\tValidation AAD: 0.666\n",
      "\tBest Validation AP@.50:.05:.95: 0.262\n",
      "\n",
      "Epoch 37/100; Learning rate: 0.01\n"
     ]
    },
    {
     "name": "stderr",
     "output_type": "stream",
     "text": [
      "Training batches: 100%|██████████| 33/33 [00:18<00:00,  1.83it/s]\n",
      "Evaluating batches: 100%|██████████| 9/9 [00:03<00:00,  2.42it/s]\n"
     ]
    },
    {
     "name": "stdout",
     "output_type": "stream",
     "text": [
      "Time: 0:00:24; Epoch 37 Summary: \n",
      "\tTrain Mean Loss: 0.1161\n",
      "\tValidation AP@.50:.05:.95: 0.237\n",
      "\tValidation AP@.5: 0.566\n",
      "\tValidation AP@.75: 0.134\n",
      "\tValidation Recall@.50:.05:.95: 0.365\n",
      "\tValidation Recall@.5: 0.712\n",
      "\tValidation Recall@.75: 0.309\n",
      "\tValidation ACD: 0.709\n",
      "\tValidation AAD: 0.657\n",
      "\tBest Validation AP@.50:.05:.95: 0.262\n",
      "\n",
      "Epoch 38/100; Learning rate: 0.01\n"
     ]
    },
    {
     "name": "stderr",
     "output_type": "stream",
     "text": [
      "Training batches: 100%|██████████| 33/33 [00:18<00:00,  1.79it/s]\n",
      "Evaluating batches: 100%|██████████| 9/9 [00:03<00:00,  2.54it/s]\n"
     ]
    },
    {
     "name": "stdout",
     "output_type": "stream",
     "text": [
      "Time: 0:00:24; Epoch 38 Summary: \n",
      "\tTrain Mean Loss: 0.1138\n",
      "\tValidation AP@.50:.05:.95: 0.250\n",
      "\tValidation AP@.5: 0.588\n",
      "\tValidation AP@.75: 0.156\n",
      "\tValidation Recall@.50:.05:.95: 0.387\n",
      "\tValidation Recall@.5: 0.749\n",
      "\tValidation Recall@.75: 0.341\n",
      "\tValidation ACD: 0.706\n",
      "\tValidation AAD: 0.690\n",
      "\tBest Validation AP@.50:.05:.95: 0.262\n",
      "\n",
      "Epoch 39/100; Learning rate: 0.01\n"
     ]
    },
    {
     "name": "stderr",
     "output_type": "stream",
     "text": [
      "Training batches: 100%|██████████| 33/33 [00:18<00:00,  1.75it/s]\n",
      "Evaluating batches: 100%|██████████| 9/9 [00:03<00:00,  2.56it/s]\n"
     ]
    },
    {
     "name": "stdout",
     "output_type": "stream",
     "text": [
      "Time: 0:00:24; Epoch 39 Summary: \n",
      "\tTrain Mean Loss: 0.1057\n",
      "\tValidation AP@.50:.05:.95: 0.239\n",
      "\tValidation AP@.5: 0.566\n",
      "\tValidation AP@.75: 0.151\n",
      "\tValidation Recall@.50:.05:.95: 0.383\n",
      "\tValidation Recall@.5: 0.745\n",
      "\tValidation Recall@.75: 0.341\n",
      "\tValidation ACD: 0.723\n",
      "\tValidation AAD: 0.703\n",
      "\tBest Validation AP@.50:.05:.95: 0.262\n",
      "\n",
      "Epoch 40/100; Learning rate: 0.01\n"
     ]
    },
    {
     "name": "stderr",
     "output_type": "stream",
     "text": [
      "Training batches: 100%|██████████| 33/33 [00:18<00:00,  1.82it/s]\n",
      "Evaluating batches: 100%|██████████| 9/9 [00:03<00:00,  2.62it/s]\n"
     ]
    },
    {
     "name": "stdout",
     "output_type": "stream",
     "text": [
      "Time: 0:00:24; Epoch 40 Summary: \n",
      "\tTrain Mean Loss: 0.1022\n",
      "\tValidation AP@.50:.05:.95: 0.243\n",
      "\tValidation AP@.5: 0.577\n",
      "\tValidation AP@.75: 0.157\n",
      "\tValidation Recall@.50:.05:.95: 0.378\n",
      "\tValidation Recall@.5: 0.746\n",
      "\tValidation Recall@.75: 0.329\n",
      "\tValidation ACD: 0.750\n",
      "\tValidation AAD: 0.729\n",
      "\tBest Validation AP@.50:.05:.95: 0.262\n",
      "\n",
      "Epoch 41/100; Learning rate: 0.01\n"
     ]
    },
    {
     "name": "stderr",
     "output_type": "stream",
     "text": [
      "Training batches: 100%|██████████| 33/33 [00:18<00:00,  1.82it/s]\n",
      "Evaluating batches: 100%|██████████| 9/9 [00:03<00:00,  2.56it/s]\n"
     ]
    },
    {
     "name": "stdout",
     "output_type": "stream",
     "text": [
      "Time: 0:00:23; Epoch 41 Summary: \n",
      "\tTrain Mean Loss: 0.0937\n",
      "\tValidation AP@.50:.05:.95: 0.245\n",
      "\tValidation AP@.5: 0.586\n",
      "\tValidation AP@.75: 0.150\n",
      "\tValidation Recall@.50:.05:.95: 0.367\n",
      "\tValidation Recall@.5: 0.717\n",
      "\tValidation Recall@.75: 0.317\n",
      "\tValidation ACD: 0.695\n",
      "\tValidation AAD: 0.643\n",
      "\tBest Validation AP@.50:.05:.95: 0.262\n",
      "\n",
      "Epoch 42/100; Learning rate: 0.01\n"
     ]
    },
    {
     "name": "stderr",
     "output_type": "stream",
     "text": [
      "Training batches: 100%|██████████| 33/33 [00:18<00:00,  1.80it/s]\n",
      "Evaluating batches: 100%|██████████| 9/9 [00:03<00:00,  2.58it/s]\n"
     ]
    },
    {
     "name": "stdout",
     "output_type": "stream",
     "text": [
      "Time: 0:00:23; Epoch 42 Summary: \n",
      "\tTrain Mean Loss: 0.0943\n",
      "\tValidation AP@.50:.05:.95: 0.243\n",
      "\tValidation AP@.5: 0.596\n",
      "\tValidation AP@.75: 0.141\n",
      "\tValidation Recall@.50:.05:.95: 0.377\n",
      "\tValidation Recall@.5: 0.751\n",
      "\tValidation Recall@.75: 0.317\n",
      "\tValidation ACD: 0.766\n",
      "\tValidation AAD: 0.748\n",
      "\tBest Validation AP@.50:.05:.95: 0.262\n",
      "\n",
      "Epoch 43/100; Learning rate: 0.01\n"
     ]
    },
    {
     "name": "stderr",
     "output_type": "stream",
     "text": [
      "Training batches: 100%|██████████| 33/33 [00:18<00:00,  1.75it/s]\n",
      "Evaluating batches: 100%|██████████| 9/9 [00:03<00:00,  2.56it/s]\n"
     ]
    },
    {
     "name": "stdout",
     "output_type": "stream",
     "text": [
      "Time: 0:00:24; Epoch 43 Summary: \n",
      "\tTrain Mean Loss: 0.1003\n",
      "\tValidation AP@.50:.05:.95: 0.236\n",
      "\tValidation AP@.5: 0.557\n",
      "\tValidation AP@.75: 0.151\n",
      "\tValidation Recall@.50:.05:.95: 0.366\n",
      "\tValidation Recall@.5: 0.717\n",
      "\tValidation Recall@.75: 0.330\n",
      "\tValidation ACD: 0.695\n",
      "\tValidation AAD: 0.705\n",
      "\tBest Validation AP@.50:.05:.95: 0.262\n",
      "\n",
      "Epoch 44/100; Learning rate: 0.01\n"
     ]
    },
    {
     "name": "stderr",
     "output_type": "stream",
     "text": [
      "Training batches: 100%|██████████| 33/33 [00:18<00:00,  1.78it/s]\n",
      "Evaluating batches: 100%|██████████| 9/9 [00:03<00:00,  2.54it/s]\n"
     ]
    },
    {
     "name": "stdout",
     "output_type": "stream",
     "text": [
      "Time: 0:00:23; Epoch 44 Summary: \n",
      "\tTrain Mean Loss: 0.0989\n",
      "\tValidation AP@.50:.05:.95: 0.246\n",
      "\tValidation AP@.5: 0.563\n",
      "\tValidation AP@.75: 0.182\n",
      "\tValidation Recall@.50:.05:.95: 0.361\n",
      "\tValidation Recall@.5: 0.693\n",
      "\tValidation Recall@.75: 0.335\n",
      "\tValidation ACD: 0.679\n",
      "\tValidation AAD: 0.610\n",
      "\tBest Validation AP@.50:.05:.95: 0.262\n",
      "\n",
      "Epoch 45/100; Learning rate: 0.01\n"
     ]
    },
    {
     "name": "stderr",
     "output_type": "stream",
     "text": [
      "Training batches: 100%|██████████| 33/33 [00:18<00:00,  1.83it/s]\n",
      "Evaluating batches: 100%|██████████| 9/9 [00:03<00:00,  2.58it/s]\n"
     ]
    },
    {
     "name": "stdout",
     "output_type": "stream",
     "text": [
      "Time: 0:00:23; Epoch 45 Summary: \n",
      "\tTrain Mean Loss: 0.0950\n",
      "\tValidation AP@.50:.05:.95: 0.241\n",
      "\tValidation AP@.5: 0.574\n",
      "\tValidation AP@.75: 0.165\n",
      "\tValidation Recall@.50:.05:.95: 0.373\n",
      "\tValidation Recall@.5: 0.731\n",
      "\tValidation Recall@.75: 0.335\n",
      "\tValidation ACD: 0.667\n",
      "\tValidation AAD: 0.638\n",
      "\tBest Validation AP@.50:.05:.95: 0.262\n",
      "\n",
      "Epoch 46/100; Learning rate: 0.01\n"
     ]
    },
    {
     "name": "stderr",
     "output_type": "stream",
     "text": [
      "Training batches: 100%|██████████| 33/33 [00:18<00:00,  1.82it/s]\n",
      "Evaluating batches: 100%|██████████| 9/9 [00:03<00:00,  2.58it/s]\n"
     ]
    },
    {
     "name": "stdout",
     "output_type": "stream",
     "text": [
      "Time: 0:00:23; Epoch 46 Summary: \n",
      "\tTrain Mean Loss: 0.0982\n",
      "\tValidation AP@.50:.05:.95: 0.247\n",
      "\tValidation AP@.5: 0.583\n",
      "\tValidation AP@.75: 0.150\n",
      "\tValidation Recall@.50:.05:.95: 0.383\n",
      "\tValidation Recall@.5: 0.746\n",
      "\tValidation Recall@.75: 0.333\n",
      "\tValidation ACD: 0.693\n",
      "\tValidation AAD: 0.657\n",
      "\tBest Validation AP@.50:.05:.95: 0.262\n",
      "\n",
      "Epoch 47/100; Learning rate: 0.01\n"
     ]
    },
    {
     "name": "stderr",
     "output_type": "stream",
     "text": [
      "Training batches: 100%|██████████| 33/33 [00:18<00:00,  1.82it/s]\n",
      "Evaluating batches: 100%|██████████| 9/9 [00:03<00:00,  2.58it/s]\n"
     ]
    },
    {
     "name": "stdout",
     "output_type": "stream",
     "text": [
      "Time: 0:00:24; Epoch 47 Summary: \n",
      "\tTrain Mean Loss: 0.0972\n",
      "\tValidation AP@.50:.05:.95: 0.243\n",
      "\tValidation AP@.5: 0.576\n",
      "\tValidation AP@.75: 0.152\n",
      "\tValidation Recall@.50:.05:.95: 0.376\n",
      "\tValidation Recall@.5: 0.733\n",
      "\tValidation Recall@.75: 0.328\n",
      "\tValidation ACD: 0.724\n",
      "\tValidation AAD: 0.685\n",
      "\tBest Validation AP@.50:.05:.95: 0.262\n",
      "\n",
      "Epoch 48/100; Learning rate: 0.01\n"
     ]
    },
    {
     "name": "stderr",
     "output_type": "stream",
     "text": [
      "Training batches: 100%|██████████| 33/33 [00:19<00:00,  1.73it/s]\n",
      "Evaluating batches: 100%|██████████| 9/9 [00:03<00:00,  2.57it/s]\n"
     ]
    },
    {
     "name": "stdout",
     "output_type": "stream",
     "text": [
      "Time: 0:00:24; Epoch 48 Summary: \n",
      "\tTrain Mean Loss: 0.0925\n",
      "\tValidation AP@.50:.05:.95: 0.245\n",
      "\tValidation AP@.5: 0.566\n",
      "\tValidation AP@.75: 0.154\n",
      "\tValidation Recall@.50:.05:.95: 0.370\n",
      "\tValidation Recall@.5: 0.713\n",
      "\tValidation Recall@.75: 0.323\n",
      "\tValidation ACD: 0.681\n",
      "\tValidation AAD: 0.644\n",
      "\tBest Validation AP@.50:.05:.95: 0.262\n",
      "\n",
      "Epoch 49/100; Learning rate: 0.01\n"
     ]
    },
    {
     "name": "stderr",
     "output_type": "stream",
     "text": [
      "Training batches: 100%|██████████| 33/33 [00:18<00:00,  1.79it/s]\n",
      "Evaluating batches: 100%|██████████| 9/9 [00:03<00:00,  2.47it/s]\n"
     ]
    },
    {
     "name": "stdout",
     "output_type": "stream",
     "text": [
      "Time: 0:00:24; Epoch 49 Summary: \n",
      "\tTrain Mean Loss: 0.0897\n",
      "\tValidation AP@.50:.05:.95: 0.238\n",
      "\tValidation AP@.5: 0.562\n",
      "\tValidation AP@.75: 0.152\n",
      "\tValidation Recall@.50:.05:.95: 0.374\n",
      "\tValidation Recall@.5: 0.733\n",
      "\tValidation Recall@.75: 0.326\n",
      "\tValidation ACD: 0.691\n",
      "\tValidation AAD: 0.683\n",
      "\tBest Validation AP@.50:.05:.95: 0.262\n",
      "\n",
      "Epoch 50/100; Learning rate: 0.01\n"
     ]
    },
    {
     "name": "stderr",
     "output_type": "stream",
     "text": [
      "Training batches: 100%|██████████| 33/33 [00:18<00:00,  1.81it/s]\n",
      "Evaluating batches: 100%|██████████| 9/9 [00:03<00:00,  2.53it/s]\n"
     ]
    },
    {
     "name": "stdout",
     "output_type": "stream",
     "text": [
      "Time: 0:00:24; Epoch 50 Summary: \n",
      "\tTrain Mean Loss: 0.0902\n",
      "\tValidation AP@.50:.05:.95: 0.241\n",
      "\tValidation AP@.5: 0.555\n",
      "\tValidation AP@.75: 0.158\n",
      "\tValidation Recall@.50:.05:.95: 0.370\n",
      "\tValidation Recall@.5: 0.701\n",
      "\tValidation Recall@.75: 0.332\n",
      "\tValidation ACD: 0.702\n",
      "\tValidation AAD: 0.635\n",
      "\tBest Validation AP@.50:.05:.95: 0.262\n",
      "\n",
      "Epoch 51/100; Learning rate: 0.001\n"
     ]
    },
    {
     "name": "stderr",
     "output_type": "stream",
     "text": [
      "Training batches: 100%|██████████| 33/33 [00:18<00:00,  1.75it/s]\n",
      "Evaluating batches: 100%|██████████| 9/9 [00:03<00:00,  2.52it/s]\n"
     ]
    },
    {
     "name": "stdout",
     "output_type": "stream",
     "text": [
      "Time: 0:00:24; Epoch 51 Summary: \n",
      "\tTrain Mean Loss: 0.0758\n",
      "\tValidation AP@.50:.05:.95: 0.241\n",
      "\tValidation AP@.5: 0.565\n",
      "\tValidation AP@.75: 0.150\n",
      "\tValidation Recall@.50:.05:.95: 0.372\n",
      "\tValidation Recall@.5: 0.721\n",
      "\tValidation Recall@.75: 0.327\n",
      "\tValidation ACD: 0.663\n",
      "\tValidation AAD: 0.631\n",
      "\tBest Validation AP@.50:.05:.95: 0.262\n",
      "\n",
      "Epoch 52/100; Learning rate: 0.001\n"
     ]
    },
    {
     "name": "stderr",
     "output_type": "stream",
     "text": [
      "Training batches: 100%|██████████| 33/33 [00:18<00:00,  1.78it/s]\n",
      "Evaluating batches: 100%|██████████| 9/9 [00:03<00:00,  2.54it/s]\n"
     ]
    },
    {
     "name": "stdout",
     "output_type": "stream",
     "text": [
      "Time: 0:00:23; Epoch 52 Summary: \n",
      "\tTrain Mean Loss: 0.0682\n",
      "\tValidation AP@.50:.05:.95: 0.239\n",
      "\tValidation AP@.5: 0.558\n",
      "\tValidation AP@.75: 0.154\n",
      "\tValidation Recall@.50:.05:.95: 0.365\n",
      "\tValidation Recall@.5: 0.703\n",
      "\tValidation Recall@.75: 0.325\n",
      "\tValidation ACD: 0.679\n",
      "\tValidation AAD: 0.639\n",
      "\tBest Validation AP@.50:.05:.95: 0.262\n",
      "\n",
      "Epoch 53/100; Learning rate: 0.001\n"
     ]
    },
    {
     "name": "stderr",
     "output_type": "stream",
     "text": [
      "Training batches: 100%|██████████| 33/33 [00:18<00:00,  1.78it/s]\n",
      "Evaluating batches: 100%|██████████| 9/9 [00:03<00:00,  2.57it/s]\n"
     ]
    },
    {
     "name": "stdout",
     "output_type": "stream",
     "text": [
      "Time: 0:00:24; Epoch 53 Summary: \n",
      "\tTrain Mean Loss: 0.0643\n",
      "\tValidation AP@.50:.05:.95: 0.243\n",
      "\tValidation AP@.5: 0.568\n",
      "\tValidation AP@.75: 0.158\n",
      "\tValidation Recall@.50:.05:.95: 0.371\n",
      "\tValidation Recall@.5: 0.717\n",
      "\tValidation Recall@.75: 0.332\n",
      "\tValidation ACD: 0.670\n",
      "\tValidation AAD: 0.638\n",
      "\tBest Validation AP@.50:.05:.95: 0.262\n",
      "\n",
      "Epoch 54/100; Learning rate: 0.001\n"
     ]
    },
    {
     "name": "stderr",
     "output_type": "stream",
     "text": [
      "Training batches: 100%|██████████| 33/33 [00:19<00:00,  1.72it/s]\n",
      "Evaluating batches: 100%|██████████| 9/9 [00:03<00:00,  2.59it/s]\n"
     ]
    },
    {
     "name": "stdout",
     "output_type": "stream",
     "text": [
      "Time: 0:00:24; Epoch 54 Summary: \n",
      "\tTrain Mean Loss: 0.0626\n",
      "\tValidation AP@.50:.05:.95: 0.242\n",
      "\tValidation AP@.5: 0.567\n",
      "\tValidation AP@.75: 0.161\n",
      "\tValidation Recall@.50:.05:.95: 0.371\n",
      "\tValidation Recall@.5: 0.716\n",
      "\tValidation Recall@.75: 0.339\n",
      "\tValidation ACD: 0.660\n",
      "\tValidation AAD: 0.613\n",
      "\tBest Validation AP@.50:.05:.95: 0.262\n",
      "\n",
      "Epoch 55/100; Learning rate: 0.001\n"
     ]
    },
    {
     "name": "stderr",
     "output_type": "stream",
     "text": [
      "Training batches: 100%|██████████| 33/33 [00:18<00:00,  1.82it/s]\n",
      "Evaluating batches: 100%|██████████| 9/9 [00:03<00:00,  2.40it/s]\n"
     ]
    },
    {
     "name": "stdout",
     "output_type": "stream",
     "text": [
      "Time: 0:00:23; Epoch 55 Summary: \n",
      "\tTrain Mean Loss: 0.0608\n",
      "\tValidation AP@.50:.05:.95: 0.243\n",
      "\tValidation AP@.5: 0.563\n",
      "\tValidation AP@.75: 0.158\n",
      "\tValidation Recall@.50:.05:.95: 0.368\n",
      "\tValidation Recall@.5: 0.707\n",
      "\tValidation Recall@.75: 0.329\n",
      "\tValidation ACD: 0.645\n",
      "\tValidation AAD: 0.611\n",
      "\tBest Validation AP@.50:.05:.95: 0.262\n",
      "\n",
      "Epoch 56/100; Learning rate: 0.001\n"
     ]
    },
    {
     "name": "stderr",
     "output_type": "stream",
     "text": [
      "Training batches: 100%|██████████| 33/33 [00:18<00:00,  1.82it/s]\n",
      "Evaluating batches: 100%|██████████| 9/9 [00:03<00:00,  2.54it/s]\n"
     ]
    },
    {
     "name": "stdout",
     "output_type": "stream",
     "text": [
      "Time: 0:00:24; Epoch 56 Summary: \n",
      "\tTrain Mean Loss: 0.0598\n",
      "\tValidation AP@.50:.05:.95: 0.244\n",
      "\tValidation AP@.5: 0.571\n",
      "\tValidation AP@.75: 0.159\n",
      "\tValidation Recall@.50:.05:.95: 0.370\n",
      "\tValidation Recall@.5: 0.713\n",
      "\tValidation Recall@.75: 0.336\n",
      "\tValidation ACD: 0.652\n",
      "\tValidation AAD: 0.618\n",
      "\tBest Validation AP@.50:.05:.95: 0.262\n",
      "\n",
      "Epoch 57/100; Learning rate: 0.001\n"
     ]
    },
    {
     "name": "stderr",
     "output_type": "stream",
     "text": [
      "Training batches: 100%|██████████| 33/33 [00:19<00:00,  1.70it/s]\n",
      "Evaluating batches: 100%|██████████| 9/9 [00:03<00:00,  2.60it/s]\n"
     ]
    },
    {
     "name": "stdout",
     "output_type": "stream",
     "text": [
      "Time: 0:00:25; Epoch 57 Summary: \n",
      "\tTrain Mean Loss: 0.0588\n",
      "\tValidation AP@.50:.05:.95: 0.243\n",
      "\tValidation AP@.5: 0.568\n",
      "\tValidation AP@.75: 0.156\n",
      "\tValidation Recall@.50:.05:.95: 0.367\n",
      "\tValidation Recall@.5: 0.710\n",
      "\tValidation Recall@.75: 0.330\n",
      "\tValidation ACD: 0.653\n",
      "\tValidation AAD: 0.606\n",
      "\tBest Validation AP@.50:.05:.95: 0.262\n",
      "\n",
      "Epoch 58/100; Learning rate: 0.001\n"
     ]
    },
    {
     "name": "stderr",
     "output_type": "stream",
     "text": [
      "Training batches: 100%|██████████| 33/33 [00:18<00:00,  1.81it/s]\n",
      "Evaluating batches: 100%|██████████| 9/9 [00:03<00:00,  2.52it/s]\n"
     ]
    },
    {
     "name": "stdout",
     "output_type": "stream",
     "text": [
      "Time: 0:00:24; Epoch 58 Summary: \n",
      "\tTrain Mean Loss: 0.0572\n",
      "\tValidation AP@.50:.05:.95: 0.242\n",
      "\tValidation AP@.5: 0.568\n",
      "\tValidation AP@.75: 0.156\n",
      "\tValidation Recall@.50:.05:.95: 0.368\n",
      "\tValidation Recall@.5: 0.714\n",
      "\tValidation Recall@.75: 0.328\n",
      "\tValidation ACD: 0.650\n",
      "\tValidation AAD: 0.619\n",
      "\tBest Validation AP@.50:.05:.95: 0.262\n",
      "\n",
      "Epoch 59/100; Learning rate: 0.001\n"
     ]
    },
    {
     "name": "stderr",
     "output_type": "stream",
     "text": [
      "Training batches: 100%|██████████| 33/33 [00:18<00:00,  1.83it/s]\n",
      "Evaluating batches: 100%|██████████| 9/9 [00:03<00:00,  2.55it/s]\n"
     ]
    },
    {
     "name": "stdout",
     "output_type": "stream",
     "text": [
      "Time: 0:00:24; Epoch 59 Summary: \n",
      "\tTrain Mean Loss: 0.0571\n",
      "\tValidation AP@.50:.05:.95: 0.244\n",
      "\tValidation AP@.5: 0.570\n",
      "\tValidation AP@.75: 0.163\n",
      "\tValidation Recall@.50:.05:.95: 0.368\n",
      "\tValidation Recall@.5: 0.708\n",
      "\tValidation Recall@.75: 0.336\n",
      "\tValidation ACD: 0.671\n",
      "\tValidation AAD: 0.634\n",
      "\tBest Validation AP@.50:.05:.95: 0.262\n",
      "\n",
      "Epoch 60/100; Learning rate: 0.001\n"
     ]
    },
    {
     "name": "stderr",
     "output_type": "stream",
     "text": [
      "Training batches: 100%|██████████| 33/33 [00:17<00:00,  1.83it/s]\n",
      "Evaluating batches: 100%|██████████| 9/9 [00:03<00:00,  2.53it/s]\n"
     ]
    },
    {
     "name": "stdout",
     "output_type": "stream",
     "text": [
      "Time: 0:00:23; Epoch 60 Summary: \n",
      "\tTrain Mean Loss: 0.0562\n",
      "\tValidation AP@.50:.05:.95: 0.242\n",
      "\tValidation AP@.5: 0.571\n",
      "\tValidation AP@.75: 0.154\n",
      "\tValidation Recall@.50:.05:.95: 0.366\n",
      "\tValidation Recall@.5: 0.713\n",
      "\tValidation Recall@.75: 0.325\n",
      "\tValidation ACD: 0.655\n",
      "\tValidation AAD: 0.621\n",
      "\tBest Validation AP@.50:.05:.95: 0.262\n",
      "\n",
      "Epoch 61/100; Learning rate: 0.001\n"
     ]
    },
    {
     "name": "stderr",
     "output_type": "stream",
     "text": [
      "Training batches: 100%|██████████| 33/33 [00:19<00:00,  1.72it/s]\n",
      "Evaluating batches: 100%|██████████| 9/9 [00:03<00:00,  2.56it/s]\n"
     ]
    },
    {
     "name": "stdout",
     "output_type": "stream",
     "text": [
      "Time: 0:00:25; Epoch 61 Summary: \n",
      "\tTrain Mean Loss: 0.0556\n",
      "\tValidation AP@.50:.05:.95: 0.244\n",
      "\tValidation AP@.5: 0.573\n",
      "\tValidation AP@.75: 0.155\n",
      "\tValidation Recall@.50:.05:.95: 0.370\n",
      "\tValidation Recall@.5: 0.720\n",
      "\tValidation Recall@.75: 0.328\n",
      "\tValidation ACD: 0.651\n",
      "\tValidation AAD: 0.618\n",
      "\tBest Validation AP@.50:.05:.95: 0.262\n",
      "\n",
      "Epoch 62/100; Learning rate: 0.001\n"
     ]
    },
    {
     "name": "stderr",
     "output_type": "stream",
     "text": [
      "Training batches: 100%|██████████| 33/33 [00:18<00:00,  1.75it/s]\n",
      "Evaluating batches: 100%|██████████| 9/9 [00:03<00:00,  2.57it/s]\n"
     ]
    },
    {
     "name": "stdout",
     "output_type": "stream",
     "text": [
      "Time: 0:00:25; Epoch 62 Summary: \n",
      "\tTrain Mean Loss: 0.0556\n",
      "\tValidation AP@.50:.05:.95: 0.243\n",
      "\tValidation AP@.5: 0.571\n",
      "\tValidation AP@.75: 0.159\n",
      "\tValidation Recall@.50:.05:.95: 0.368\n",
      "\tValidation Recall@.5: 0.713\n",
      "\tValidation Recall@.75: 0.327\n",
      "\tValidation ACD: 0.655\n",
      "\tValidation AAD: 0.616\n",
      "\tBest Validation AP@.50:.05:.95: 0.262\n",
      "\n",
      "Epoch 63/100; Learning rate: 0.001\n"
     ]
    },
    {
     "name": "stderr",
     "output_type": "stream",
     "text": [
      "Training batches: 100%|██████████| 33/33 [00:18<00:00,  1.82it/s]\n",
      "Evaluating batches: 100%|██████████| 9/9 [00:03<00:00,  2.58it/s]\n"
     ]
    },
    {
     "name": "stdout",
     "output_type": "stream",
     "text": [
      "Time: 0:00:24; Epoch 63 Summary: \n",
      "\tTrain Mean Loss: 0.0531\n",
      "\tValidation AP@.50:.05:.95: 0.242\n",
      "\tValidation AP@.5: 0.568\n",
      "\tValidation AP@.75: 0.162\n",
      "\tValidation Recall@.50:.05:.95: 0.366\n",
      "\tValidation Recall@.5: 0.713\n",
      "\tValidation Recall@.75: 0.333\n",
      "\tValidation ACD: 0.632\n",
      "\tValidation AAD: 0.594\n",
      "\tBest Validation AP@.50:.05:.95: 0.262\n",
      "\n",
      "Epoch 64/100; Learning rate: 0.001\n"
     ]
    },
    {
     "name": "stderr",
     "output_type": "stream",
     "text": [
      "Training batches: 100%|██████████| 33/33 [00:18<00:00,  1.78it/s]\n",
      "Evaluating batches: 100%|██████████| 9/9 [00:03<00:00,  2.55it/s]\n"
     ]
    },
    {
     "name": "stdout",
     "output_type": "stream",
     "text": [
      "Time: 0:00:24; Epoch 64 Summary: \n",
      "\tTrain Mean Loss: 0.0545\n",
      "\tValidation AP@.50:.05:.95: 0.244\n",
      "\tValidation AP@.5: 0.569\n",
      "\tValidation AP@.75: 0.163\n",
      "\tValidation Recall@.50:.05:.95: 0.367\n",
      "\tValidation Recall@.5: 0.708\n",
      "\tValidation Recall@.75: 0.338\n",
      "\tValidation ACD: 0.664\n",
      "\tValidation AAD: 0.626\n",
      "\tBest Validation AP@.50:.05:.95: 0.262\n",
      "\n",
      "Epoch 65/100; Learning rate: 0.001\n"
     ]
    },
    {
     "name": "stderr",
     "output_type": "stream",
     "text": [
      "Training batches: 100%|██████████| 33/33 [00:18<00:00,  1.81it/s]\n",
      "Evaluating batches: 100%|██████████| 9/9 [00:03<00:00,  2.58it/s]\n"
     ]
    },
    {
     "name": "stdout",
     "output_type": "stream",
     "text": [
      "Time: 0:00:24; Epoch 65 Summary: \n",
      "\tTrain Mean Loss: 0.0542\n",
      "\tValidation AP@.50:.05:.95: 0.245\n",
      "\tValidation AP@.5: 0.571\n",
      "\tValidation AP@.75: 0.168\n",
      "\tValidation Recall@.50:.05:.95: 0.369\n",
      "\tValidation Recall@.5: 0.712\n",
      "\tValidation Recall@.75: 0.340\n",
      "\tValidation ACD: 0.648\n",
      "\tValidation AAD: 0.608\n",
      "\tBest Validation AP@.50:.05:.95: 0.262\n",
      "\n",
      "Epoch 66/100; Learning rate: 0.001\n"
     ]
    },
    {
     "name": "stderr",
     "output_type": "stream",
     "text": [
      "Training batches: 100%|██████████| 33/33 [00:18<00:00,  1.77it/s]\n",
      "Evaluating batches: 100%|██████████| 9/9 [00:03<00:00,  2.54it/s]\n"
     ]
    },
    {
     "name": "stdout",
     "output_type": "stream",
     "text": [
      "Time: 0:00:24; Epoch 66 Summary: \n",
      "\tTrain Mean Loss: 0.0535\n",
      "\tValidation AP@.50:.05:.95: 0.244\n",
      "\tValidation AP@.5: 0.574\n",
      "\tValidation AP@.75: 0.158\n",
      "\tValidation Recall@.50:.05:.95: 0.368\n",
      "\tValidation Recall@.5: 0.716\n",
      "\tValidation Recall@.75: 0.330\n",
      "\tValidation ACD: 0.657\n",
      "\tValidation AAD: 0.613\n",
      "\tBest Validation AP@.50:.05:.95: 0.262\n",
      "\n",
      "Epoch 67/100; Learning rate: 0.001\n"
     ]
    },
    {
     "name": "stderr",
     "output_type": "stream",
     "text": [
      "Training batches: 100%|██████████| 33/33 [00:18<00:00,  1.80it/s]\n",
      "Evaluating batches: 100%|██████████| 9/9 [00:03<00:00,  2.58it/s]\n"
     ]
    },
    {
     "name": "stdout",
     "output_type": "stream",
     "text": [
      "Time: 0:00:24; Epoch 67 Summary: \n",
      "\tTrain Mean Loss: 0.0523\n",
      "\tValidation AP@.50:.05:.95: 0.242\n",
      "\tValidation AP@.5: 0.565\n",
      "\tValidation AP@.75: 0.155\n",
      "\tValidation Recall@.50:.05:.95: 0.364\n",
      "\tValidation Recall@.5: 0.704\n",
      "\tValidation Recall@.75: 0.322\n",
      "\tValidation ACD: 0.653\n",
      "\tValidation AAD: 0.613\n",
      "\tBest Validation AP@.50:.05:.95: 0.262\n",
      "\n",
      "Epoch 68/100; Learning rate: 0.001\n"
     ]
    },
    {
     "name": "stderr",
     "output_type": "stream",
     "text": [
      "Training batches: 100%|██████████| 33/33 [00:18<00:00,  1.79it/s]\n",
      "Evaluating batches: 100%|██████████| 9/9 [00:03<00:00,  2.54it/s]\n"
     ]
    },
    {
     "name": "stdout",
     "output_type": "stream",
     "text": [
      "Time: 0:00:24; Epoch 68 Summary: \n",
      "\tTrain Mean Loss: 0.0529\n",
      "\tValidation AP@.50:.05:.95: 0.245\n",
      "\tValidation AP@.5: 0.578\n",
      "\tValidation AP@.75: 0.161\n",
      "\tValidation Recall@.50:.05:.95: 0.370\n",
      "\tValidation Recall@.5: 0.723\n",
      "\tValidation Recall@.75: 0.333\n",
      "\tValidation ACD: 0.660\n",
      "\tValidation AAD: 0.625\n",
      "\tBest Validation AP@.50:.05:.95: 0.262\n",
      "\n",
      "Epoch 69/100; Learning rate: 0.001\n"
     ]
    },
    {
     "name": "stderr",
     "output_type": "stream",
     "text": [
      "Training batches: 100%|██████████| 33/33 [00:18<00:00,  1.80it/s]\n",
      "Evaluating batches: 100%|██████████| 9/9 [00:03<00:00,  2.52it/s]\n"
     ]
    },
    {
     "name": "stdout",
     "output_type": "stream",
     "text": [
      "Time: 0:00:24; Epoch 69 Summary: \n",
      "\tTrain Mean Loss: 0.0524\n",
      "\tValidation AP@.50:.05:.95: 0.242\n",
      "\tValidation AP@.5: 0.568\n",
      "\tValidation AP@.75: 0.155\n",
      "\tValidation Recall@.50:.05:.95: 0.367\n",
      "\tValidation Recall@.5: 0.712\n",
      "\tValidation Recall@.75: 0.327\n",
      "\tValidation ACD: 0.641\n",
      "\tValidation AAD: 0.600\n",
      "\tBest Validation AP@.50:.05:.95: 0.262\n",
      "\n",
      "Epoch 70/100; Learning rate: 0.001\n"
     ]
    },
    {
     "name": "stderr",
     "output_type": "stream",
     "text": [
      "Training batches: 100%|██████████| 33/33 [00:18<00:00,  1.82it/s]\n",
      "Evaluating batches: 100%|██████████| 9/9 [00:03<00:00,  2.58it/s]\n"
     ]
    },
    {
     "name": "stdout",
     "output_type": "stream",
     "text": [
      "Time: 0:00:24; Epoch 70 Summary: \n",
      "\tTrain Mean Loss: 0.0512\n",
      "\tValidation AP@.50:.05:.95: 0.243\n",
      "\tValidation AP@.5: 0.570\n",
      "\tValidation AP@.75: 0.161\n",
      "\tValidation Recall@.50:.05:.95: 0.366\n",
      "\tValidation Recall@.5: 0.713\n",
      "\tValidation Recall@.75: 0.326\n",
      "\tValidation ACD: 0.663\n",
      "\tValidation AAD: 0.611\n",
      "\tBest Validation AP@.50:.05:.95: 0.262\n",
      "\n",
      "Epoch 71/100; Learning rate: 0.001\n"
     ]
    },
    {
     "name": "stderr",
     "output_type": "stream",
     "text": [
      "Training batches: 100%|██████████| 33/33 [00:18<00:00,  1.75it/s]\n",
      "Evaluating batches: 100%|██████████| 9/9 [00:03<00:00,  2.57it/s]\n"
     ]
    },
    {
     "name": "stdout",
     "output_type": "stream",
     "text": [
      "Time: 0:00:24; Epoch 71 Summary: \n",
      "\tTrain Mean Loss: 0.0517\n",
      "\tValidation AP@.50:.05:.95: 0.242\n",
      "\tValidation AP@.5: 0.572\n",
      "\tValidation AP@.75: 0.158\n",
      "\tValidation Recall@.50:.05:.95: 0.367\n",
      "\tValidation Recall@.5: 0.711\n",
      "\tValidation Recall@.75: 0.332\n",
      "\tValidation ACD: 0.654\n",
      "\tValidation AAD: 0.605\n",
      "\tBest Validation AP@.50:.05:.95: 0.262\n",
      "\n",
      "Epoch 72/100; Learning rate: 0.001\n"
     ]
    },
    {
     "name": "stderr",
     "output_type": "stream",
     "text": [
      "Training batches: 100%|██████████| 33/33 [00:18<00:00,  1.77it/s]\n",
      "Evaluating batches: 100%|██████████| 9/9 [00:03<00:00,  2.50it/s]\n"
     ]
    },
    {
     "name": "stdout",
     "output_type": "stream",
     "text": [
      "Time: 0:00:24; Epoch 72 Summary: \n",
      "\tTrain Mean Loss: 0.0506\n",
      "\tValidation AP@.50:.05:.95: 0.243\n",
      "\tValidation AP@.5: 0.569\n",
      "\tValidation AP@.75: 0.165\n",
      "\tValidation Recall@.50:.05:.95: 0.367\n",
      "\tValidation Recall@.5: 0.712\n",
      "\tValidation Recall@.75: 0.334\n",
      "\tValidation ACD: 0.655\n",
      "\tValidation AAD: 0.606\n",
      "\tBest Validation AP@.50:.05:.95: 0.262\n",
      "\n",
      "Epoch 73/100; Learning rate: 0.001\n"
     ]
    },
    {
     "name": "stderr",
     "output_type": "stream",
     "text": [
      "Training batches: 100%|██████████| 33/33 [00:18<00:00,  1.77it/s]\n",
      "Evaluating batches: 100%|██████████| 9/9 [00:03<00:00,  2.58it/s]\n"
     ]
    },
    {
     "name": "stdout",
     "output_type": "stream",
     "text": [
      "Time: 0:00:24; Epoch 73 Summary: \n",
      "\tTrain Mean Loss: 0.0501\n",
      "\tValidation AP@.50:.05:.95: 0.243\n",
      "\tValidation AP@.5: 0.567\n",
      "\tValidation AP@.75: 0.165\n",
      "\tValidation Recall@.50:.05:.95: 0.367\n",
      "\tValidation Recall@.5: 0.710\n",
      "\tValidation Recall@.75: 0.334\n",
      "\tValidation ACD: 0.648\n",
      "\tValidation AAD: 0.603\n",
      "\tBest Validation AP@.50:.05:.95: 0.262\n",
      "\n",
      "Epoch 74/100; Learning rate: 0.001\n"
     ]
    },
    {
     "name": "stderr",
     "output_type": "stream",
     "text": [
      "Training batches: 100%|██████████| 33/33 [00:18<00:00,  1.83it/s]\n",
      "Evaluating batches: 100%|██████████| 9/9 [00:03<00:00,  2.62it/s]\n"
     ]
    },
    {
     "name": "stdout",
     "output_type": "stream",
     "text": [
      "Time: 0:00:23; Epoch 74 Summary: \n",
      "\tTrain Mean Loss: 0.0507\n",
      "\tValidation AP@.50:.05:.95: 0.243\n",
      "\tValidation AP@.5: 0.569\n",
      "\tValidation AP@.75: 0.163\n",
      "\tValidation Recall@.50:.05:.95: 0.366\n",
      "\tValidation Recall@.5: 0.710\n",
      "\tValidation Recall@.75: 0.330\n",
      "\tValidation ACD: 0.655\n",
      "\tValidation AAD: 0.611\n",
      "\tBest Validation AP@.50:.05:.95: 0.262\n",
      "\n",
      "Epoch 75/100; Learning rate: 0.001\n"
     ]
    },
    {
     "name": "stderr",
     "output_type": "stream",
     "text": [
      "Training batches: 100%|██████████| 33/33 [00:17<00:00,  1.83it/s]\n",
      "Evaluating batches: 100%|██████████| 9/9 [00:03<00:00,  2.58it/s]\n"
     ]
    },
    {
     "name": "stdout",
     "output_type": "stream",
     "text": [
      "Time: 0:00:24; Epoch 75 Summary: \n",
      "\tTrain Mean Loss: 0.0494\n",
      "\tValidation AP@.50:.05:.95: 0.242\n",
      "\tValidation AP@.5: 0.572\n",
      "\tValidation AP@.75: 0.161\n",
      "\tValidation Recall@.50:.05:.95: 0.366\n",
      "\tValidation Recall@.5: 0.711\n",
      "\tValidation Recall@.75: 0.331\n",
      "\tValidation ACD: 0.635\n",
      "\tValidation AAD: 0.599\n",
      "\tBest Validation AP@.50:.05:.95: 0.262\n",
      "\n",
      "Epoch 76/100; Learning rate: 0.001\n"
     ]
    },
    {
     "name": "stderr",
     "output_type": "stream",
     "text": [
      "Training batches: 100%|██████████| 33/33 [00:18<00:00,  1.81it/s]\n",
      "Evaluating batches: 100%|██████████| 9/9 [00:03<00:00,  2.56it/s]\n"
     ]
    },
    {
     "name": "stdout",
     "output_type": "stream",
     "text": [
      "Time: 0:00:24; Epoch 76 Summary: \n",
      "\tTrain Mean Loss: 0.0498\n",
      "\tValidation AP@.50:.05:.95: 0.242\n",
      "\tValidation AP@.5: 0.569\n",
      "\tValidation AP@.75: 0.164\n",
      "\tValidation Recall@.50:.05:.95: 0.365\n",
      "\tValidation Recall@.5: 0.710\n",
      "\tValidation Recall@.75: 0.332\n",
      "\tValidation ACD: 0.638\n",
      "\tValidation AAD: 0.591\n",
      "\tBest Validation AP@.50:.05:.95: 0.262\n",
      "\n",
      "Epoch 77/100; Learning rate: 0.001\n"
     ]
    },
    {
     "name": "stderr",
     "output_type": "stream",
     "text": [
      "Training batches: 100%|██████████| 33/33 [00:18<00:00,  1.83it/s]\n",
      "Evaluating batches: 100%|██████████| 9/9 [00:03<00:00,  2.59it/s]\n"
     ]
    },
    {
     "name": "stdout",
     "output_type": "stream",
     "text": [
      "Time: 0:00:23; Epoch 77 Summary: \n",
      "\tTrain Mean Loss: 0.0501\n",
      "\tValidation AP@.50:.05:.95: 0.242\n",
      "\tValidation AP@.5: 0.573\n",
      "\tValidation AP@.75: 0.158\n",
      "\tValidation Recall@.50:.05:.95: 0.365\n",
      "\tValidation Recall@.5: 0.713\n",
      "\tValidation Recall@.75: 0.330\n",
      "\tValidation ACD: 0.637\n",
      "\tValidation AAD: 0.597\n",
      "\tBest Validation AP@.50:.05:.95: 0.262\n",
      "\n",
      "Epoch 78/100; Learning rate: 0.001\n"
     ]
    },
    {
     "name": "stderr",
     "output_type": "stream",
     "text": [
      "Training batches: 100%|██████████| 33/33 [00:18<00:00,  1.79it/s]\n",
      "Evaluating batches: 100%|██████████| 9/9 [00:03<00:00,  2.59it/s]\n"
     ]
    },
    {
     "name": "stdout",
     "output_type": "stream",
     "text": [
      "Time: 0:00:24; Epoch 78 Summary: \n",
      "\tTrain Mean Loss: 0.0497\n",
      "\tValidation AP@.50:.05:.95: 0.240\n",
      "\tValidation AP@.5: 0.564\n",
      "\tValidation AP@.75: 0.163\n",
      "\tValidation Recall@.50:.05:.95: 0.362\n",
      "\tValidation Recall@.5: 0.701\n",
      "\tValidation Recall@.75: 0.327\n",
      "\tValidation ACD: 0.648\n",
      "\tValidation AAD: 0.604\n",
      "\tBest Validation AP@.50:.05:.95: 0.262\n",
      "\n",
      "Epoch 79/100; Learning rate: 0.001\n"
     ]
    },
    {
     "name": "stderr",
     "output_type": "stream",
     "text": [
      "Training batches: 100%|██████████| 33/33 [00:19<00:00,  1.70it/s]\n",
      "Evaluating batches: 100%|██████████| 9/9 [00:03<00:00,  2.62it/s]\n"
     ]
    },
    {
     "name": "stdout",
     "output_type": "stream",
     "text": [
      "Time: 0:00:25; Epoch 79 Summary: \n",
      "\tTrain Mean Loss: 0.0496\n",
      "\tValidation AP@.50:.05:.95: 0.243\n",
      "\tValidation AP@.5: 0.565\n",
      "\tValidation AP@.75: 0.163\n",
      "\tValidation Recall@.50:.05:.95: 0.367\n",
      "\tValidation Recall@.5: 0.708\n",
      "\tValidation Recall@.75: 0.336\n",
      "\tValidation ACD: 0.643\n",
      "\tValidation AAD: 0.586\n",
      "\tBest Validation AP@.50:.05:.95: 0.262\n",
      "\n",
      "Epoch 80/100; Learning rate: 0.001\n"
     ]
    },
    {
     "name": "stderr",
     "output_type": "stream",
     "text": [
      "Training batches: 100%|██████████| 33/33 [00:18<00:00,  1.79it/s]\n",
      "Evaluating batches: 100%|██████████| 9/9 [00:03<00:00,  2.58it/s]\n"
     ]
    },
    {
     "name": "stdout",
     "output_type": "stream",
     "text": [
      "Time: 0:00:24; Epoch 80 Summary: \n",
      "\tTrain Mean Loss: 0.0491\n",
      "\tValidation AP@.50:.05:.95: 0.242\n",
      "\tValidation AP@.5: 0.570\n",
      "\tValidation AP@.75: 0.163\n",
      "\tValidation Recall@.50:.05:.95: 0.366\n",
      "\tValidation Recall@.5: 0.715\n",
      "\tValidation Recall@.75: 0.331\n",
      "\tValidation ACD: 0.636\n",
      "\tValidation AAD: 0.596\n",
      "\tBest Validation AP@.50:.05:.95: 0.262\n",
      "\n",
      "Epoch 81/100; Learning rate: 0.001\n"
     ]
    },
    {
     "name": "stderr",
     "output_type": "stream",
     "text": [
      "Training batches: 100%|██████████| 33/33 [00:18<00:00,  1.82it/s]\n",
      "Evaluating batches: 100%|██████████| 9/9 [00:03<00:00,  2.53it/s]\n"
     ]
    },
    {
     "name": "stdout",
     "output_type": "stream",
     "text": [
      "Time: 0:00:24; Epoch 81 Summary: \n",
      "\tTrain Mean Loss: 0.0479\n",
      "\tValidation AP@.50:.05:.95: 0.241\n",
      "\tValidation AP@.5: 0.565\n",
      "\tValidation AP@.75: 0.158\n",
      "\tValidation Recall@.50:.05:.95: 0.361\n",
      "\tValidation Recall@.5: 0.701\n",
      "\tValidation Recall@.75: 0.325\n",
      "\tValidation ACD: 0.650\n",
      "\tValidation AAD: 0.609\n",
      "\tBest Validation AP@.50:.05:.95: 0.262\n",
      "\n",
      "Epoch 82/100; Learning rate: 0.001\n"
     ]
    },
    {
     "name": "stderr",
     "output_type": "stream",
     "text": [
      "Training batches: 100%|██████████| 33/33 [00:18<00:00,  1.82it/s]\n",
      "Evaluating batches: 100%|██████████| 9/9 [00:03<00:00,  2.55it/s]\n"
     ]
    },
    {
     "name": "stdout",
     "output_type": "stream",
     "text": [
      "Time: 0:00:24; Epoch 82 Summary: \n",
      "\tTrain Mean Loss: 0.0488\n",
      "\tValidation AP@.50:.05:.95: 0.241\n",
      "\tValidation AP@.5: 0.566\n",
      "\tValidation AP@.75: 0.159\n",
      "\tValidation Recall@.50:.05:.95: 0.364\n",
      "\tValidation Recall@.5: 0.709\n",
      "\tValidation Recall@.75: 0.327\n",
      "\tValidation ACD: 0.647\n",
      "\tValidation AAD: 0.603\n",
      "\tBest Validation AP@.50:.05:.95: 0.262\n",
      "\n",
      "Epoch 83/100; Learning rate: 0.001\n"
     ]
    },
    {
     "name": "stderr",
     "output_type": "stream",
     "text": [
      "Training batches: 100%|██████████| 33/33 [00:18<00:00,  1.82it/s]\n",
      "Evaluating batches: 100%|██████████| 9/9 [00:03<00:00,  2.59it/s]\n"
     ]
    },
    {
     "name": "stdout",
     "output_type": "stream",
     "text": [
      "Time: 0:00:23; Epoch 83 Summary: \n",
      "\tTrain Mean Loss: 0.0480\n",
      "\tValidation AP@.50:.05:.95: 0.241\n",
      "\tValidation AP@.5: 0.567\n",
      "\tValidation AP@.75: 0.164\n",
      "\tValidation Recall@.50:.05:.95: 0.364\n",
      "\tValidation Recall@.5: 0.709\n",
      "\tValidation Recall@.75: 0.332\n",
      "\tValidation ACD: 0.646\n",
      "\tValidation AAD: 0.601\n",
      "\tBest Validation AP@.50:.05:.95: 0.262\n",
      "\n",
      "Epoch 84/100; Learning rate: 0.001\n"
     ]
    },
    {
     "name": "stderr",
     "output_type": "stream",
     "text": [
      "Training batches: 100%|██████████| 33/33 [00:18<00:00,  1.78it/s]\n",
      "Evaluating batches: 100%|██████████| 9/9 [00:03<00:00,  2.55it/s]\n"
     ]
    },
    {
     "name": "stdout",
     "output_type": "stream",
     "text": [
      "Time: 0:00:24; Epoch 84 Summary: \n",
      "\tTrain Mean Loss: 0.0476\n",
      "\tValidation AP@.50:.05:.95: 0.243\n",
      "\tValidation AP@.5: 0.568\n",
      "\tValidation AP@.75: 0.167\n",
      "\tValidation Recall@.50:.05:.95: 0.364\n",
      "\tValidation Recall@.5: 0.709\n",
      "\tValidation Recall@.75: 0.330\n",
      "\tValidation ACD: 0.633\n",
      "\tValidation AAD: 0.593\n",
      "\tBest Validation AP@.50:.05:.95: 0.262\n",
      "\n",
      "Epoch 85/100; Learning rate: 0.001\n"
     ]
    },
    {
     "name": "stderr",
     "output_type": "stream",
     "text": [
      "Training batches: 100%|██████████| 33/33 [00:18<00:00,  1.76it/s]\n",
      "Evaluating batches: 100%|██████████| 9/9 [00:03<00:00,  2.56it/s]\n"
     ]
    },
    {
     "name": "stdout",
     "output_type": "stream",
     "text": [
      "Time: 0:00:24; Epoch 85 Summary: \n",
      "\tTrain Mean Loss: 0.0478\n",
      "\tValidation AP@.50:.05:.95: 0.241\n",
      "\tValidation AP@.5: 0.570\n",
      "\tValidation AP@.75: 0.155\n",
      "\tValidation Recall@.50:.05:.95: 0.364\n",
      "\tValidation Recall@.5: 0.710\n",
      "\tValidation Recall@.75: 0.322\n",
      "\tValidation ACD: 0.638\n",
      "\tValidation AAD: 0.597\n",
      "\tBest Validation AP@.50:.05:.95: 0.262\n",
      "\n",
      "Epoch 86/100; Learning rate: 0.001\n"
     ]
    },
    {
     "name": "stderr",
     "output_type": "stream",
     "text": [
      "Training batches: 100%|██████████| 33/33 [00:18<00:00,  1.81it/s]\n",
      "Evaluating batches: 100%|██████████| 9/9 [00:03<00:00,  2.62it/s]\n"
     ]
    },
    {
     "name": "stdout",
     "output_type": "stream",
     "text": [
      "Time: 0:00:24; Epoch 86 Summary: \n",
      "\tTrain Mean Loss: 0.0476\n",
      "\tValidation AP@.50:.05:.95: 0.242\n",
      "\tValidation AP@.5: 0.568\n",
      "\tValidation AP@.75: 0.161\n",
      "\tValidation Recall@.50:.05:.95: 0.365\n",
      "\tValidation Recall@.5: 0.710\n",
      "\tValidation Recall@.75: 0.330\n",
      "\tValidation ACD: 0.657\n",
      "\tValidation AAD: 0.614\n",
      "\tBest Validation AP@.50:.05:.95: 0.262\n",
      "\n",
      "Epoch 87/100; Learning rate: 0.001\n"
     ]
    },
    {
     "name": "stderr",
     "output_type": "stream",
     "text": [
      "Training batches: 100%|██████████| 33/33 [00:18<00:00,  1.78it/s]\n",
      "Evaluating batches: 100%|██████████| 9/9 [00:03<00:00,  2.51it/s]\n"
     ]
    },
    {
     "name": "stdout",
     "output_type": "stream",
     "text": [
      "Time: 0:00:24; Epoch 87 Summary: \n",
      "\tTrain Mean Loss: 0.0481\n",
      "\tValidation AP@.50:.05:.95: 0.242\n",
      "\tValidation AP@.5: 0.571\n",
      "\tValidation AP@.75: 0.162\n",
      "\tValidation Recall@.50:.05:.95: 0.363\n",
      "\tValidation Recall@.5: 0.710\n",
      "\tValidation Recall@.75: 0.322\n",
      "\tValidation ACD: 0.642\n",
      "\tValidation AAD: 0.600\n",
      "\tBest Validation AP@.50:.05:.95: 0.262\n",
      "\n",
      "Epoch 88/100; Learning rate: 0.001\n"
     ]
    },
    {
     "name": "stderr",
     "output_type": "stream",
     "text": [
      "Training batches: 100%|██████████| 33/33 [00:18<00:00,  1.77it/s]\n",
      "Evaluating batches: 100%|██████████| 9/9 [00:03<00:00,  2.55it/s]\n"
     ]
    },
    {
     "name": "stdout",
     "output_type": "stream",
     "text": [
      "Time: 0:00:24; Epoch 88 Summary: \n",
      "\tTrain Mean Loss: 0.0473\n",
      "\tValidation AP@.50:.05:.95: 0.240\n",
      "\tValidation AP@.5: 0.568\n",
      "\tValidation AP@.75: 0.162\n",
      "\tValidation Recall@.50:.05:.95: 0.363\n",
      "\tValidation Recall@.5: 0.712\n",
      "\tValidation Recall@.75: 0.324\n",
      "\tValidation ACD: 0.632\n",
      "\tValidation AAD: 0.588\n",
      "\tBest Validation AP@.50:.05:.95: 0.262\n",
      "\n",
      "Epoch 89/100; Learning rate: 0.001\n"
     ]
    },
    {
     "name": "stderr",
     "output_type": "stream",
     "text": [
      "Training batches: 100%|██████████| 33/33 [00:18<00:00,  1.77it/s]\n",
      "Evaluating batches: 100%|██████████| 9/9 [00:03<00:00,  2.45it/s]\n"
     ]
    },
    {
     "name": "stdout",
     "output_type": "stream",
     "text": [
      "Time: 0:00:24; Epoch 89 Summary: \n",
      "\tTrain Mean Loss: 0.0477\n",
      "\tValidation AP@.50:.05:.95: 0.240\n",
      "\tValidation AP@.5: 0.568\n",
      "\tValidation AP@.75: 0.154\n",
      "\tValidation Recall@.50:.05:.95: 0.362\n",
      "\tValidation Recall@.5: 0.709\n",
      "\tValidation Recall@.75: 0.322\n",
      "\tValidation ACD: 0.647\n",
      "\tValidation AAD: 0.610\n",
      "\tBest Validation AP@.50:.05:.95: 0.262\n",
      "\n",
      "Epoch 90/100; Learning rate: 0.001\n"
     ]
    },
    {
     "name": "stderr",
     "output_type": "stream",
     "text": [
      "Training batches: 100%|██████████| 33/33 [00:19<00:00,  1.71it/s]\n",
      "Evaluating batches: 100%|██████████| 9/9 [00:03<00:00,  2.46it/s]\n"
     ]
    },
    {
     "name": "stdout",
     "output_type": "stream",
     "text": [
      "Time: 0:00:25; Epoch 90 Summary: \n",
      "\tTrain Mean Loss: 0.0475\n",
      "\tValidation AP@.50:.05:.95: 0.242\n",
      "\tValidation AP@.5: 0.574\n",
      "\tValidation AP@.75: 0.159\n",
      "\tValidation Recall@.50:.05:.95: 0.365\n",
      "\tValidation Recall@.5: 0.716\n",
      "\tValidation Recall@.75: 0.325\n",
      "\tValidation ACD: 0.635\n",
      "\tValidation AAD: 0.597\n",
      "\tBest Validation AP@.50:.05:.95: 0.262\n",
      "\n",
      "Epoch 91/100; Learning rate: 0.0001\n"
     ]
    },
    {
     "name": "stderr",
     "output_type": "stream",
     "text": [
      "Training batches: 100%|██████████| 33/33 [00:18<00:00,  1.81it/s]\n",
      "Evaluating batches: 100%|██████████| 9/9 [00:03<00:00,  2.55it/s]\n"
     ]
    },
    {
     "name": "stdout",
     "output_type": "stream",
     "text": [
      "Time: 0:00:24; Epoch 91 Summary: \n",
      "\tTrain Mean Loss: 0.0469\n",
      "\tValidation AP@.50:.05:.95: 0.241\n",
      "\tValidation AP@.5: 0.571\n",
      "\tValidation AP@.75: 0.160\n",
      "\tValidation Recall@.50:.05:.95: 0.364\n",
      "\tValidation Recall@.5: 0.714\n",
      "\tValidation Recall@.75: 0.327\n",
      "\tValidation ACD: 0.635\n",
      "\tValidation AAD: 0.593\n",
      "\tBest Validation AP@.50:.05:.95: 0.262\n",
      "\n",
      "Epoch 92/100; Learning rate: 0.0001\n"
     ]
    },
    {
     "name": "stderr",
     "output_type": "stream",
     "text": [
      "Training batches: 100%|██████████| 33/33 [00:17<00:00,  1.84it/s]\n",
      "Evaluating batches: 100%|██████████| 9/9 [00:03<00:00,  2.59it/s]\n"
     ]
    },
    {
     "name": "stdout",
     "output_type": "stream",
     "text": [
      "Time: 0:00:23; Epoch 92 Summary: \n",
      "\tTrain Mean Loss: 0.0458\n",
      "\tValidation AP@.50:.05:.95: 0.240\n",
      "\tValidation AP@.5: 0.571\n",
      "\tValidation AP@.75: 0.160\n",
      "\tValidation Recall@.50:.05:.95: 0.363\n",
      "\tValidation Recall@.5: 0.714\n",
      "\tValidation Recall@.75: 0.326\n",
      "\tValidation ACD: 0.638\n",
      "\tValidation AAD: 0.602\n",
      "\tBest Validation AP@.50:.05:.95: 0.262\n",
      "\n",
      "Epoch 93/100; Learning rate: 0.0001\n"
     ]
    },
    {
     "name": "stderr",
     "output_type": "stream",
     "text": [
      "Training batches: 100%|██████████| 33/33 [00:19<00:00,  1.73it/s]\n",
      "Evaluating batches: 100%|██████████| 9/9 [00:03<00:00,  2.58it/s]\n"
     ]
    },
    {
     "name": "stdout",
     "output_type": "stream",
     "text": [
      "Time: 0:00:24; Epoch 93 Summary: \n",
      "\tTrain Mean Loss: 0.0454\n",
      "\tValidation AP@.50:.05:.95: 0.240\n",
      "\tValidation AP@.5: 0.569\n",
      "\tValidation AP@.75: 0.161\n",
      "\tValidation Recall@.50:.05:.95: 0.362\n",
      "\tValidation Recall@.5: 0.712\n",
      "\tValidation Recall@.75: 0.325\n",
      "\tValidation ACD: 0.639\n",
      "\tValidation AAD: 0.601\n",
      "\tBest Validation AP@.50:.05:.95: 0.262\n",
      "\n",
      "Epoch 94/100; Learning rate: 0.0001\n"
     ]
    },
    {
     "name": "stderr",
     "output_type": "stream",
     "text": [
      "Training batches: 100%|██████████| 33/33 [00:18<00:00,  1.76it/s]\n",
      "Evaluating batches: 100%|██████████| 9/9 [00:03<00:00,  2.57it/s]\n"
     ]
    },
    {
     "name": "stdout",
     "output_type": "stream",
     "text": [
      "Time: 0:00:24; Epoch 94 Summary: \n",
      "\tTrain Mean Loss: 0.0465\n",
      "\tValidation AP@.50:.05:.95: 0.241\n",
      "\tValidation AP@.5: 0.571\n",
      "\tValidation AP@.75: 0.161\n",
      "\tValidation Recall@.50:.05:.95: 0.364\n",
      "\tValidation Recall@.5: 0.715\n",
      "\tValidation Recall@.75: 0.323\n",
      "\tValidation ACD: 0.632\n",
      "\tValidation AAD: 0.592\n",
      "\tBest Validation AP@.50:.05:.95: 0.262\n",
      "\n",
      "Epoch 95/100; Learning rate: 0.0001\n"
     ]
    },
    {
     "name": "stderr",
     "output_type": "stream",
     "text": [
      "Training batches: 100%|██████████| 33/33 [00:18<00:00,  1.83it/s]\n",
      "Evaluating batches: 100%|██████████| 9/9 [00:03<00:00,  2.59it/s]\n"
     ]
    },
    {
     "name": "stdout",
     "output_type": "stream",
     "text": [
      "Time: 0:00:24; Epoch 95 Summary: \n",
      "\tTrain Mean Loss: 0.0466\n",
      "\tValidation AP@.50:.05:.95: 0.241\n",
      "\tValidation AP@.5: 0.572\n",
      "\tValidation AP@.75: 0.161\n",
      "\tValidation Recall@.50:.05:.95: 0.364\n",
      "\tValidation Recall@.5: 0.714\n",
      "\tValidation Recall@.75: 0.325\n",
      "\tValidation ACD: 0.636\n",
      "\tValidation AAD: 0.593\n",
      "\tBest Validation AP@.50:.05:.95: 0.262\n",
      "\n",
      "Epoch 96/100; Learning rate: 0.0001\n"
     ]
    },
    {
     "name": "stderr",
     "output_type": "stream",
     "text": [
      "Training batches: 100%|██████████| 33/33 [00:18<00:00,  1.81it/s]\n",
      "Evaluating batches: 100%|██████████| 9/9 [00:03<00:00,  2.58it/s]\n"
     ]
    },
    {
     "name": "stdout",
     "output_type": "stream",
     "text": [
      "Time: 0:00:24; Epoch 96 Summary: \n",
      "\tTrain Mean Loss: 0.0467\n",
      "\tValidation AP@.50:.05:.95: 0.242\n",
      "\tValidation AP@.5: 0.572\n",
      "\tValidation AP@.75: 0.163\n",
      "\tValidation Recall@.50:.05:.95: 0.365\n",
      "\tValidation Recall@.5: 0.715\n",
      "\tValidation Recall@.75: 0.329\n",
      "\tValidation ACD: 0.635\n",
      "\tValidation AAD: 0.591\n",
      "\tBest Validation AP@.50:.05:.95: 0.262\n",
      "\n",
      "Epoch 97/100; Learning rate: 0.0001\n"
     ]
    },
    {
     "name": "stderr",
     "output_type": "stream",
     "text": [
      "Training batches: 100%|██████████| 33/33 [00:18<00:00,  1.81it/s]\n",
      "Evaluating batches: 100%|██████████| 9/9 [00:03<00:00,  2.55it/s]\n"
     ]
    },
    {
     "name": "stdout",
     "output_type": "stream",
     "text": [
      "Time: 0:00:24; Epoch 97 Summary: \n",
      "\tTrain Mean Loss: 0.0460\n",
      "\tValidation AP@.50:.05:.95: 0.241\n",
      "\tValidation AP@.5: 0.569\n",
      "\tValidation AP@.75: 0.162\n",
      "\tValidation Recall@.50:.05:.95: 0.364\n",
      "\tValidation Recall@.5: 0.712\n",
      "\tValidation Recall@.75: 0.326\n",
      "\tValidation ACD: 0.636\n",
      "\tValidation AAD: 0.590\n",
      "\tBest Validation AP@.50:.05:.95: 0.262\n",
      "\n",
      "Epoch 98/100; Learning rate: 0.0001\n"
     ]
    },
    {
     "name": "stderr",
     "output_type": "stream",
     "text": [
      "Training batches: 100%|██████████| 33/33 [00:18<00:00,  1.80it/s]\n",
      "Evaluating batches: 100%|██████████| 9/9 [00:03<00:00,  2.52it/s]\n"
     ]
    },
    {
     "name": "stdout",
     "output_type": "stream",
     "text": [
      "Time: 0:00:24; Epoch 98 Summary: \n",
      "\tTrain Mean Loss: 0.0465\n",
      "\tValidation AP@.50:.05:.95: 0.241\n",
      "\tValidation AP@.5: 0.571\n",
      "\tValidation AP@.75: 0.165\n",
      "\tValidation Recall@.50:.05:.95: 0.365\n",
      "\tValidation Recall@.5: 0.714\n",
      "\tValidation Recall@.75: 0.331\n",
      "\tValidation ACD: 0.635\n",
      "\tValidation AAD: 0.591\n",
      "\tBest Validation AP@.50:.05:.95: 0.262\n",
      "\n",
      "Epoch 99/100; Learning rate: 0.0001\n"
     ]
    },
    {
     "name": "stderr",
     "output_type": "stream",
     "text": [
      "Training batches: 100%|██████████| 33/33 [00:18<00:00,  1.76it/s]\n",
      "Evaluating batches: 100%|██████████| 9/9 [00:03<00:00,  2.56it/s]\n"
     ]
    },
    {
     "name": "stdout",
     "output_type": "stream",
     "text": [
      "Time: 0:00:24; Epoch 99 Summary: \n",
      "\tTrain Mean Loss: 0.0456\n",
      "\tValidation AP@.50:.05:.95: 0.240\n",
      "\tValidation AP@.5: 0.568\n",
      "\tValidation AP@.75: 0.163\n",
      "\tValidation Recall@.50:.05:.95: 0.363\n",
      "\tValidation Recall@.5: 0.712\n",
      "\tValidation Recall@.75: 0.326\n",
      "\tValidation ACD: 0.632\n",
      "\tValidation AAD: 0.592\n",
      "\tBest Validation AP@.50:.05:.95: 0.262\n",
      "\n",
      "Epoch 100/100; Learning rate: 0.0001\n"
     ]
    },
    {
     "name": "stderr",
     "output_type": "stream",
     "text": [
      "Training batches: 100%|██████████| 33/33 [00:18<00:00,  1.79it/s]\n",
      "Evaluating batches: 100%|██████████| 9/9 [00:03<00:00,  2.60it/s]\n"
     ]
    },
    {
     "name": "stdout",
     "output_type": "stream",
     "text": [
      "Time: 0:00:24; Epoch 100 Summary: \n",
      "\tTrain Mean Loss: 0.0467\n",
      "\tValidation AP@.50:.05:.95: 0.242\n",
      "\tValidation AP@.5: 0.571\n",
      "\tValidation AP@.75: 0.164\n",
      "\tValidation Recall@.50:.05:.95: 0.365\n",
      "\tValidation Recall@.5: 0.715\n",
      "\tValidation Recall@.75: 0.327\n",
      "\tValidation ACD: 0.633\n",
      "\tValidation AAD: 0.592\n",
      "\tBest Validation AP@.50:.05:.95: 0.262\n"
     ]
    }
   ],
   "source": [
    "\n",
    "model = get_model(device)\n",
    "params = TrainParams()\n",
    "params.load(\"params1.json\")\n",
    "train(model, dataset, params, device, checkpoints=True)\n"
   ]
  },
  {
   "cell_type": "code",
   "execution_count": 4,
   "metadata": {},
   "outputs": [
    {
     "name": "stdout",
     "output_type": "stream",
     "text": [
      "\n",
      "Epoch 1/100; Learning rate: 0.005\n"
     ]
    },
    {
     "name": "stderr",
     "output_type": "stream",
     "text": [
      "Training batches: 100%|██████████| 33/33 [00:19<00:00,  1.73it/s]\n",
      "Evaluating batches: 100%|██████████| 9/9 [00:03<00:00,  2.54it/s]\n"
     ]
    },
    {
     "name": "stdout",
     "output_type": "stream",
     "text": [
      "Time: 0:00:25; Epoch 1 Summary: \n",
      "\tTrain Mean Loss: 0.8587\n",
      "\tValidation AP@.50:.05:.95: 0.204\n",
      "\tValidation AP@.5: 0.497\n",
      "\tValidation AP@.75: 0.121\n",
      "\tValidation Recall@.50:.05:.95: 0.409\n",
      "\tValidation Recall@.5: 0.843\n",
      "\tValidation Recall@.75: 0.315\n",
      "\tValidation ACD: 1.742\n",
      "\tValidation AAD: 1.771\n",
      "\tNew Best Validation AP@.50:.05:.95: 0.204\n",
      "\n",
      "Epoch 2/100; Learning rate: 0.005\n"
     ]
    },
    {
     "name": "stderr",
     "output_type": "stream",
     "text": [
      "Training batches: 100%|██████████| 33/33 [00:18<00:00,  1.83it/s]\n",
      "Evaluating batches: 100%|██████████| 9/9 [00:03<00:00,  2.56it/s]\n"
     ]
    },
    {
     "name": "stdout",
     "output_type": "stream",
     "text": [
      "Time: 0:00:24; Epoch 2 Summary: \n",
      "\tTrain Mean Loss: 0.5541\n",
      "\tValidation AP@.50:.05:.95: 0.240\n",
      "\tValidation AP@.5: 0.550\n",
      "\tValidation AP@.75: 0.157\n",
      "\tValidation Recall@.50:.05:.95: 0.445\n",
      "\tValidation Recall@.5: 0.891\n",
      "\tValidation Recall@.75: 0.376\n",
      "\tValidation ACD: 1.660\n",
      "\tValidation AAD: 1.747\n",
      "\tNew Best Validation AP@.50:.05:.95: 0.240\n",
      "\n",
      "Epoch 3/100; Learning rate: 0.005\n"
     ]
    },
    {
     "name": "stderr",
     "output_type": "stream",
     "text": [
      "Training batches: 100%|██████████| 33/33 [00:18<00:00,  1.83it/s]\n",
      "Evaluating batches: 100%|██████████| 9/9 [00:03<00:00,  2.54it/s]\n"
     ]
    },
    {
     "name": "stdout",
     "output_type": "stream",
     "text": [
      "Time: 0:00:24; Epoch 3 Summary: \n",
      "\tTrain Mean Loss: 0.5003\n",
      "\tValidation AP@.50:.05:.95: 0.246\n",
      "\tValidation AP@.5: 0.597\n",
      "\tValidation AP@.75: 0.124\n",
      "\tValidation Recall@.50:.05:.95: 0.432\n",
      "\tValidation Recall@.5: 0.881\n",
      "\tValidation Recall@.75: 0.336\n",
      "\tValidation ACD: 1.442\n",
      "\tValidation AAD: 1.490\n",
      "\tNew Best Validation AP@.50:.05:.95: 0.246\n",
      "\n",
      "Epoch 4/100; Learning rate: 0.005\n"
     ]
    },
    {
     "name": "stderr",
     "output_type": "stream",
     "text": [
      "Training batches: 100%|██████████| 33/33 [00:17<00:00,  1.84it/s]\n",
      "Evaluating batches: 100%|██████████| 9/9 [00:03<00:00,  2.55it/s]\n"
     ]
    },
    {
     "name": "stdout",
     "output_type": "stream",
     "text": [
      "Time: 0:00:24; Epoch 4 Summary: \n",
      "\tTrain Mean Loss: 0.4540\n",
      "\tValidation AP@.50:.05:.95: 0.256\n",
      "\tValidation AP@.5: 0.591\n",
      "\tValidation AP@.75: 0.172\n",
      "\tValidation Recall@.50:.05:.95: 0.455\n",
      "\tValidation Recall@.5: 0.886\n",
      "\tValidation Recall@.75: 0.395\n",
      "\tValidation ACD: 1.485\n",
      "\tValidation AAD: 1.542\n",
      "\tNew Best Validation AP@.50:.05:.95: 0.256\n",
      "\n",
      "Epoch 5/100; Learning rate: 0.005\n"
     ]
    },
    {
     "name": "stderr",
     "output_type": "stream",
     "text": [
      "Training batches: 100%|██████████| 33/33 [00:18<00:00,  1.75it/s]\n",
      "Evaluating batches: 100%|██████████| 9/9 [00:03<00:00,  2.28it/s]\n"
     ]
    },
    {
     "name": "stdout",
     "output_type": "stream",
     "text": [
      "Time: 0:00:25; Epoch 5 Summary: \n",
      "\tTrain Mean Loss: 0.4267\n",
      "\tValidation AP@.50:.05:.95: 0.266\n",
      "\tValidation AP@.5: 0.599\n",
      "\tValidation AP@.75: 0.195\n",
      "\tValidation Recall@.50:.05:.95: 0.442\n",
      "\tValidation Recall@.5: 0.840\n",
      "\tValidation Recall@.75: 0.404\n",
      "\tValidation ACD: 1.329\n",
      "\tValidation AAD: 1.362\n",
      "\tNew Best Validation AP@.50:.05:.95: 0.266\n",
      "\n",
      "Epoch 6/100; Learning rate: 0.005\n"
     ]
    },
    {
     "name": "stderr",
     "output_type": "stream",
     "text": [
      "Training batches: 100%|██████████| 33/33 [00:18<00:00,  1.75it/s]\n",
      "Evaluating batches: 100%|██████████| 9/9 [00:03<00:00,  2.36it/s]\n"
     ]
    },
    {
     "name": "stdout",
     "output_type": "stream",
     "text": [
      "Time: 0:00:25; Epoch 6 Summary: \n",
      "\tTrain Mean Loss: 0.4034\n",
      "\tValidation AP@.50:.05:.95: 0.267\n",
      "\tValidation AP@.5: 0.618\n",
      "\tValidation AP@.75: 0.194\n",
      "\tValidation Recall@.50:.05:.95: 0.445\n",
      "\tValidation Recall@.5: 0.855\n",
      "\tValidation Recall@.75: 0.408\n",
      "\tValidation ACD: 1.278\n",
      "\tValidation AAD: 1.323\n",
      "\tNew Best Validation AP@.50:.05:.95: 0.267\n",
      "\n",
      "Epoch 7/100; Learning rate: 0.005\n"
     ]
    },
    {
     "name": "stderr",
     "output_type": "stream",
     "text": [
      "Training batches: 100%|██████████| 33/33 [00:17<00:00,  1.85it/s]\n",
      "Evaluating batches: 100%|██████████| 9/9 [00:03<00:00,  2.46it/s]\n"
     ]
    },
    {
     "name": "stdout",
     "output_type": "stream",
     "text": [
      "Time: 0:00:24; Epoch 7 Summary: \n",
      "\tTrain Mean Loss: 0.3701\n",
      "\tValidation AP@.50:.05:.95: 0.257\n",
      "\tValidation AP@.5: 0.586\n",
      "\tValidation AP@.75: 0.179\n",
      "\tValidation Recall@.50:.05:.95: 0.421\n",
      "\tValidation Recall@.5: 0.812\n",
      "\tValidation Recall@.75: 0.379\n",
      "\tValidation ACD: 1.138\n",
      "\tValidation AAD: 1.243\n",
      "\tBest Validation AP@.50:.05:.95: 0.267\n",
      "\n",
      "Epoch 8/100; Learning rate: 0.005\n"
     ]
    },
    {
     "name": "stderr",
     "output_type": "stream",
     "text": [
      "Training batches: 100%|██████████| 33/33 [00:18<00:00,  1.75it/s]\n",
      "Evaluating batches: 100%|██████████| 9/9 [00:03<00:00,  2.38it/s]\n"
     ]
    },
    {
     "name": "stdout",
     "output_type": "stream",
     "text": [
      "Time: 0:00:25; Epoch 8 Summary: \n",
      "\tTrain Mean Loss: 0.3567\n",
      "\tValidation AP@.50:.05:.95: 0.264\n",
      "\tValidation AP@.5: 0.607\n",
      "\tValidation AP@.75: 0.175\n",
      "\tValidation Recall@.50:.05:.95: 0.418\n",
      "\tValidation Recall@.5: 0.822\n",
      "\tValidation Recall@.75: 0.368\n",
      "\tValidation ACD: 1.113\n",
      "\tValidation AAD: 1.220\n",
      "\tBest Validation AP@.50:.05:.95: 0.267\n",
      "\n",
      "Epoch 9/100; Learning rate: 0.005\n"
     ]
    },
    {
     "name": "stderr",
     "output_type": "stream",
     "text": [
      "Training batches: 100%|██████████| 33/33 [00:18<00:00,  1.80it/s]\n",
      "Evaluating batches: 100%|██████████| 9/9 [00:03<00:00,  2.41it/s]\n"
     ]
    },
    {
     "name": "stdout",
     "output_type": "stream",
     "text": [
      "Time: 0:00:24; Epoch 9 Summary: \n",
      "\tTrain Mean Loss: 0.3387\n",
      "\tValidation AP@.50:.05:.95: 0.265\n",
      "\tValidation AP@.5: 0.600\n",
      "\tValidation AP@.75: 0.190\n",
      "\tValidation Recall@.50:.05:.95: 0.427\n",
      "\tValidation Recall@.5: 0.825\n",
      "\tValidation Recall@.75: 0.379\n",
      "\tValidation ACD: 1.125\n",
      "\tValidation AAD: 1.167\n",
      "\tBest Validation AP@.50:.05:.95: 0.267\n",
      "\n",
      "Epoch 10/100; Learning rate: 0.005\n"
     ]
    },
    {
     "name": "stderr",
     "output_type": "stream",
     "text": [
      "Training batches: 100%|██████████| 33/33 [00:18<00:00,  1.79it/s]\n",
      "Evaluating batches: 100%|██████████| 9/9 [00:03<00:00,  2.43it/s]\n"
     ]
    },
    {
     "name": "stdout",
     "output_type": "stream",
     "text": [
      "Time: 0:00:24; Epoch 10 Summary: \n",
      "\tTrain Mean Loss: 0.3271\n",
      "\tValidation AP@.50:.05:.95: 0.260\n",
      "\tValidation AP@.5: 0.581\n",
      "\tValidation AP@.75: 0.189\n",
      "\tValidation Recall@.50:.05:.95: 0.418\n",
      "\tValidation Recall@.5: 0.805\n",
      "\tValidation Recall@.75: 0.390\n",
      "\tValidation ACD: 1.051\n",
      "\tValidation AAD: 1.178\n",
      "\tBest Validation AP@.50:.05:.95: 0.267\n",
      "\n",
      "Epoch 11/100; Learning rate: 0.005\n"
     ]
    },
    {
     "name": "stderr",
     "output_type": "stream",
     "text": [
      "Training batches: 100%|██████████| 33/33 [00:17<00:00,  1.85it/s]\n",
      "Evaluating batches: 100%|██████████| 9/9 [00:03<00:00,  2.48it/s]\n"
     ]
    },
    {
     "name": "stdout",
     "output_type": "stream",
     "text": [
      "Time: 0:00:24; Epoch 11 Summary: \n",
      "\tTrain Mean Loss: 0.3081\n",
      "\tValidation AP@.50:.05:.95: 0.247\n",
      "\tValidation AP@.5: 0.567\n",
      "\tValidation AP@.75: 0.165\n",
      "\tValidation Recall@.50:.05:.95: 0.416\n",
      "\tValidation Recall@.5: 0.822\n",
      "\tValidation Recall@.75: 0.361\n",
      "\tValidation ACD: 1.166\n",
      "\tValidation AAD: 1.253\n",
      "\tBest Validation AP@.50:.05:.95: 0.267\n",
      "\n",
      "Epoch 12/100; Learning rate: 0.005\n"
     ]
    },
    {
     "name": "stderr",
     "output_type": "stream",
     "text": [
      "Training batches: 100%|██████████| 33/33 [00:18<00:00,  1.75it/s]\n",
      "Evaluating batches: 100%|██████████| 9/9 [00:03<00:00,  2.36it/s]\n"
     ]
    },
    {
     "name": "stdout",
     "output_type": "stream",
     "text": [
      "Time: 0:00:25; Epoch 12 Summary: \n",
      "\tTrain Mean Loss: 0.3039\n",
      "\tValidation AP@.50:.05:.95: 0.252\n",
      "\tValidation AP@.5: 0.580\n",
      "\tValidation AP@.75: 0.159\n",
      "\tValidation Recall@.50:.05:.95: 0.401\n",
      "\tValidation Recall@.5: 0.792\n",
      "\tValidation Recall@.75: 0.356\n",
      "\tValidation ACD: 0.953\n",
      "\tValidation AAD: 1.095\n",
      "\tBest Validation AP@.50:.05:.95: 0.267\n",
      "\n",
      "Epoch 13/100; Learning rate: 0.005\n"
     ]
    },
    {
     "name": "stderr",
     "output_type": "stream",
     "text": [
      "Training batches: 100%|██████████| 33/33 [00:18<00:00,  1.79it/s]\n",
      "Evaluating batches: 100%|██████████| 9/9 [00:03<00:00,  2.42it/s]\n"
     ]
    },
    {
     "name": "stdout",
     "output_type": "stream",
     "text": [
      "Time: 0:00:24; Epoch 13 Summary: \n",
      "\tTrain Mean Loss: 0.2907\n",
      "\tValidation AP@.50:.05:.95: 0.251\n",
      "\tValidation AP@.5: 0.575\n",
      "\tValidation AP@.75: 0.170\n",
      "\tValidation Recall@.50:.05:.95: 0.395\n",
      "\tValidation Recall@.5: 0.753\n",
      "\tValidation Recall@.75: 0.355\n",
      "\tValidation ACD: 0.941\n",
      "\tValidation AAD: 0.969\n",
      "\tBest Validation AP@.50:.05:.95: 0.267\n",
      "\n",
      "Epoch 14/100; Learning rate: 0.005\n"
     ]
    },
    {
     "name": "stderr",
     "output_type": "stream",
     "text": [
      "Training batches: 100%|██████████| 33/33 [00:18<00:00,  1.79it/s]\n",
      "Evaluating batches: 100%|██████████| 9/9 [00:03<00:00,  2.49it/s]\n"
     ]
    },
    {
     "name": "stdout",
     "output_type": "stream",
     "text": [
      "Time: 0:00:24; Epoch 14 Summary: \n",
      "\tTrain Mean Loss: 0.2679\n",
      "\tValidation AP@.50:.05:.95: 0.267\n",
      "\tValidation AP@.5: 0.596\n",
      "\tValidation AP@.75: 0.203\n",
      "\tValidation Recall@.50:.05:.95: 0.399\n",
      "\tValidation Recall@.5: 0.762\n",
      "\tValidation Recall@.75: 0.369\n",
      "\tValidation ACD: 0.812\n",
      "\tValidation AAD: 0.869\n",
      "\tNew Best Validation AP@.50:.05:.95: 0.267\n",
      "\n",
      "Epoch 15/100; Learning rate: 0.005\n"
     ]
    },
    {
     "name": "stderr",
     "output_type": "stream",
     "text": [
      "Training batches: 100%|██████████| 33/33 [00:18<00:00,  1.83it/s]\n",
      "Evaluating batches: 100%|██████████| 9/9 [00:03<00:00,  2.37it/s]\n"
     ]
    },
    {
     "name": "stdout",
     "output_type": "stream",
     "text": [
      "Time: 0:00:24; Epoch 15 Summary: \n",
      "\tTrain Mean Loss: 0.2644\n",
      "\tValidation AP@.50:.05:.95: 0.253\n",
      "\tValidation AP@.5: 0.571\n",
      "\tValidation AP@.75: 0.195\n",
      "\tValidation Recall@.50:.05:.95: 0.404\n",
      "\tValidation Recall@.5: 0.778\n",
      "\tValidation Recall@.75: 0.375\n",
      "\tValidation ACD: 0.926\n",
      "\tValidation AAD: 1.036\n",
      "\tBest Validation AP@.50:.05:.95: 0.267\n",
      "\n",
      "Epoch 16/100; Learning rate: 0.005\n"
     ]
    },
    {
     "name": "stderr",
     "output_type": "stream",
     "text": [
      "Training batches: 100%|██████████| 33/33 [00:18<00:00,  1.79it/s]\n",
      "Evaluating batches: 100%|██████████| 9/9 [00:03<00:00,  2.40it/s]\n"
     ]
    },
    {
     "name": "stdout",
     "output_type": "stream",
     "text": [
      "Time: 0:00:24; Epoch 16 Summary: \n",
      "\tTrain Mean Loss: 0.2516\n",
      "\tValidation AP@.50:.05:.95: 0.251\n",
      "\tValidation AP@.5: 0.580\n",
      "\tValidation AP@.75: 0.164\n",
      "\tValidation Recall@.50:.05:.95: 0.390\n",
      "\tValidation Recall@.5: 0.758\n",
      "\tValidation Recall@.75: 0.347\n",
      "\tValidation ACD: 0.873\n",
      "\tValidation AAD: 0.950\n",
      "\tBest Validation AP@.50:.05:.95: 0.267\n",
      "\n",
      "Epoch 17/100; Learning rate: 0.005\n"
     ]
    },
    {
     "name": "stderr",
     "output_type": "stream",
     "text": [
      "Training batches: 100%|██████████| 33/33 [00:17<00:00,  1.86it/s]\n",
      "Evaluating batches: 100%|██████████| 9/9 [00:03<00:00,  2.44it/s]\n"
     ]
    },
    {
     "name": "stdout",
     "output_type": "stream",
     "text": [
      "Time: 0:00:24; Epoch 17 Summary: \n",
      "\tTrain Mean Loss: 0.2369\n",
      "\tValidation AP@.50:.05:.95: 0.244\n",
      "\tValidation AP@.5: 0.564\n",
      "\tValidation AP@.75: 0.163\n",
      "\tValidation Recall@.50:.05:.95: 0.389\n",
      "\tValidation Recall@.5: 0.760\n",
      "\tValidation Recall@.75: 0.340\n",
      "\tValidation ACD: 0.881\n",
      "\tValidation AAD: 0.950\n",
      "\tBest Validation AP@.50:.05:.95: 0.267\n",
      "\n",
      "Epoch 18/100; Learning rate: 0.005\n"
     ]
    },
    {
     "name": "stderr",
     "output_type": "stream",
     "text": [
      "Training batches: 100%|██████████| 33/33 [00:17<00:00,  1.88it/s]\n",
      "Evaluating batches: 100%|██████████| 9/9 [00:03<00:00,  2.44it/s]\n"
     ]
    },
    {
     "name": "stdout",
     "output_type": "stream",
     "text": [
      "Time: 0:00:23; Epoch 18 Summary: \n",
      "\tTrain Mean Loss: 0.2239\n",
      "\tValidation AP@.50:.05:.95: 0.251\n",
      "\tValidation AP@.5: 0.568\n",
      "\tValidation AP@.75: 0.175\n",
      "\tValidation Recall@.50:.05:.95: 0.398\n",
      "\tValidation Recall@.5: 0.766\n",
      "\tValidation Recall@.75: 0.359\n",
      "\tValidation ACD: 0.838\n",
      "\tValidation AAD: 0.916\n",
      "\tBest Validation AP@.50:.05:.95: 0.267\n",
      "\n",
      "Epoch 19/100; Learning rate: 0.005\n"
     ]
    },
    {
     "name": "stderr",
     "output_type": "stream",
     "text": [
      "Training batches: 100%|██████████| 33/33 [00:18<00:00,  1.82it/s]\n",
      "Evaluating batches: 100%|██████████| 9/9 [00:03<00:00,  2.42it/s]\n"
     ]
    },
    {
     "name": "stdout",
     "output_type": "stream",
     "text": [
      "Time: 0:00:24; Epoch 19 Summary: \n",
      "\tTrain Mean Loss: 0.2257\n",
      "\tValidation AP@.50:.05:.95: 0.255\n",
      "\tValidation AP@.5: 0.578\n",
      "\tValidation AP@.75: 0.177\n",
      "\tValidation Recall@.50:.05:.95: 0.399\n",
      "\tValidation Recall@.5: 0.772\n",
      "\tValidation Recall@.75: 0.359\n",
      "\tValidation ACD: 0.800\n",
      "\tValidation AAD: 0.877\n",
      "\tBest Validation AP@.50:.05:.95: 0.267\n",
      "\n",
      "Epoch 20/100; Learning rate: 0.005\n"
     ]
    },
    {
     "name": "stderr",
     "output_type": "stream",
     "text": [
      "Training batches: 100%|██████████| 33/33 [00:17<00:00,  1.86it/s]\n",
      "Evaluating batches: 100%|██████████| 9/9 [00:03<00:00,  2.44it/s]\n"
     ]
    },
    {
     "name": "stdout",
     "output_type": "stream",
     "text": [
      "Time: 0:00:23; Epoch 20 Summary: \n",
      "\tTrain Mean Loss: 0.2182\n",
      "\tValidation AP@.50:.05:.95: 0.245\n",
      "\tValidation AP@.5: 0.560\n",
      "\tValidation AP@.75: 0.165\n",
      "\tValidation Recall@.50:.05:.95: 0.378\n",
      "\tValidation Recall@.5: 0.735\n",
      "\tValidation Recall@.75: 0.343\n",
      "\tValidation ACD: 0.786\n",
      "\tValidation AAD: 0.833\n",
      "\tBest Validation AP@.50:.05:.95: 0.267\n",
      "\n",
      "Epoch 21/100; Learning rate: 0.005\n"
     ]
    },
    {
     "name": "stderr",
     "output_type": "stream",
     "text": [
      "Training batches: 100%|██████████| 33/33 [00:18<00:00,  1.78it/s]\n",
      "Evaluating batches: 100%|██████████| 9/9 [00:03<00:00,  2.45it/s]\n"
     ]
    },
    {
     "name": "stdout",
     "output_type": "stream",
     "text": [
      "Time: 0:00:24; Epoch 21 Summary: \n",
      "\tTrain Mean Loss: 0.2066\n",
      "\tValidation AP@.50:.05:.95: 0.248\n",
      "\tValidation AP@.5: 0.572\n",
      "\tValidation AP@.75: 0.165\n",
      "\tValidation Recall@.50:.05:.95: 0.380\n",
      "\tValidation Recall@.5: 0.745\n",
      "\tValidation Recall@.75: 0.341\n",
      "\tValidation ACD: 0.786\n",
      "\tValidation AAD: 0.860\n",
      "\tBest Validation AP@.50:.05:.95: 0.267\n",
      "\n",
      "Epoch 22/100; Learning rate: 0.005\n"
     ]
    },
    {
     "name": "stderr",
     "output_type": "stream",
     "text": [
      "Training batches: 100%|██████████| 33/33 [00:18<00:00,  1.78it/s]\n",
      "Evaluating batches: 100%|██████████| 9/9 [00:03<00:00,  2.32it/s]\n"
     ]
    },
    {
     "name": "stdout",
     "output_type": "stream",
     "text": [
      "Time: 0:00:25; Epoch 22 Summary: \n",
      "\tTrain Mean Loss: 0.1959\n",
      "\tValidation AP@.50:.05:.95: 0.252\n",
      "\tValidation AP@.5: 0.580\n",
      "\tValidation AP@.75: 0.181\n",
      "\tValidation Recall@.50:.05:.95: 0.384\n",
      "\tValidation Recall@.5: 0.750\n",
      "\tValidation Recall@.75: 0.351\n",
      "\tValidation ACD: 0.808\n",
      "\tValidation AAD: 0.819\n",
      "\tBest Validation AP@.50:.05:.95: 0.267\n",
      "\n",
      "Epoch 23/100; Learning rate: 0.005\n"
     ]
    },
    {
     "name": "stderr",
     "output_type": "stream",
     "text": [
      "Training batches: 100%|██████████| 33/33 [00:17<00:00,  1.85it/s]\n",
      "Evaluating batches: 100%|██████████| 9/9 [00:03<00:00,  2.40it/s]\n"
     ]
    },
    {
     "name": "stdout",
     "output_type": "stream",
     "text": [
      "Time: 0:00:24; Epoch 23 Summary: \n",
      "\tTrain Mean Loss: 0.1902\n",
      "\tValidation AP@.50:.05:.95: 0.245\n",
      "\tValidation AP@.5: 0.560\n",
      "\tValidation AP@.75: 0.169\n",
      "\tValidation Recall@.50:.05:.95: 0.365\n",
      "\tValidation Recall@.5: 0.711\n",
      "\tValidation Recall@.75: 0.322\n",
      "\tValidation ACD: 0.823\n",
      "\tValidation AAD: 0.811\n",
      "\tBest Validation AP@.50:.05:.95: 0.267\n",
      "\n",
      "Epoch 24/100; Learning rate: 0.005\n"
     ]
    },
    {
     "name": "stderr",
     "output_type": "stream",
     "text": [
      "Training batches: 100%|██████████| 33/33 [00:19<00:00,  1.73it/s]\n",
      "Evaluating batches: 100%|██████████| 9/9 [00:03<00:00,  2.45it/s]\n"
     ]
    },
    {
     "name": "stdout",
     "output_type": "stream",
     "text": [
      "Time: 0:00:25; Epoch 24 Summary: \n",
      "\tTrain Mean Loss: 0.1828\n",
      "\tValidation AP@.50:.05:.95: 0.252\n",
      "\tValidation AP@.5: 0.565\n",
      "\tValidation AP@.75: 0.171\n",
      "\tValidation Recall@.50:.05:.95: 0.378\n",
      "\tValidation Recall@.5: 0.731\n",
      "\tValidation Recall@.75: 0.337\n",
      "\tValidation ACD: 0.782\n",
      "\tValidation AAD: 0.810\n",
      "\tBest Validation AP@.50:.05:.95: 0.267\n",
      "\n",
      "Epoch 25/100; Learning rate: 0.005\n"
     ]
    },
    {
     "name": "stderr",
     "output_type": "stream",
     "text": [
      "Training batches: 100%|██████████| 33/33 [00:18<00:00,  1.82it/s]\n",
      "Evaluating batches: 100%|██████████| 9/9 [00:03<00:00,  2.45it/s]\n"
     ]
    },
    {
     "name": "stdout",
     "output_type": "stream",
     "text": [
      "Time: 0:00:24; Epoch 25 Summary: \n",
      "\tTrain Mean Loss: 0.1784\n",
      "\tValidation AP@.50:.05:.95: 0.252\n",
      "\tValidation AP@.5: 0.571\n",
      "\tValidation AP@.75: 0.170\n",
      "\tValidation Recall@.50:.05:.95: 0.382\n",
      "\tValidation Recall@.5: 0.736\n",
      "\tValidation Recall@.75: 0.339\n",
      "\tValidation ACD: 0.777\n",
      "\tValidation AAD: 0.800\n",
      "\tBest Validation AP@.50:.05:.95: 0.267\n",
      "\n",
      "Epoch 26/100; Learning rate: 0.005\n"
     ]
    },
    {
     "name": "stderr",
     "output_type": "stream",
     "text": [
      "Training batches: 100%|██████████| 33/33 [00:18<00:00,  1.81it/s]\n",
      "Evaluating batches: 100%|██████████| 9/9 [00:03<00:00,  2.40it/s]\n"
     ]
    },
    {
     "name": "stdout",
     "output_type": "stream",
     "text": [
      "Time: 0:00:24; Epoch 26 Summary: \n",
      "\tTrain Mean Loss: 0.1766\n",
      "\tValidation AP@.50:.05:.95: 0.250\n",
      "\tValidation AP@.5: 0.576\n",
      "\tValidation AP@.75: 0.182\n",
      "\tValidation Recall@.50:.05:.95: 0.384\n",
      "\tValidation Recall@.5: 0.744\n",
      "\tValidation Recall@.75: 0.361\n",
      "\tValidation ACD: 0.824\n",
      "\tValidation AAD: 0.837\n",
      "\tBest Validation AP@.50:.05:.95: 0.267\n",
      "\n",
      "Epoch 27/100; Learning rate: 0.005\n"
     ]
    },
    {
     "name": "stderr",
     "output_type": "stream",
     "text": [
      "Training batches: 100%|██████████| 33/33 [00:19<00:00,  1.68it/s]\n",
      "Evaluating batches: 100%|██████████| 9/9 [00:03<00:00,  2.46it/s]\n"
     ]
    },
    {
     "name": "stdout",
     "output_type": "stream",
     "text": [
      "Time: 0:00:25; Epoch 27 Summary: \n",
      "\tTrain Mean Loss: 0.1789\n",
      "\tValidation AP@.50:.05:.95: 0.244\n",
      "\tValidation AP@.5: 0.551\n",
      "\tValidation AP@.75: 0.167\n",
      "\tValidation Recall@.50:.05:.95: 0.369\n",
      "\tValidation Recall@.5: 0.718\n",
      "\tValidation Recall@.75: 0.334\n",
      "\tValidation ACD: 0.741\n",
      "\tValidation AAD: 0.803\n",
      "\tBest Validation AP@.50:.05:.95: 0.267\n",
      "\n",
      "Epoch 28/100; Learning rate: 0.005\n"
     ]
    },
    {
     "name": "stderr",
     "output_type": "stream",
     "text": [
      "Training batches: 100%|██████████| 33/33 [00:18<00:00,  1.75it/s]\n",
      "Evaluating batches: 100%|██████████| 9/9 [00:03<00:00,  2.42it/s]\n"
     ]
    },
    {
     "name": "stdout",
     "output_type": "stream",
     "text": [
      "Time: 0:00:25; Epoch 28 Summary: \n",
      "\tTrain Mean Loss: 0.1681\n",
      "\tValidation AP@.50:.05:.95: 0.248\n",
      "\tValidation AP@.5: 0.564\n",
      "\tValidation AP@.75: 0.167\n",
      "\tValidation Recall@.50:.05:.95: 0.367\n",
      "\tValidation Recall@.5: 0.722\n",
      "\tValidation Recall@.75: 0.325\n",
      "\tValidation ACD: 0.741\n",
      "\tValidation AAD: 0.779\n",
      "\tBest Validation AP@.50:.05:.95: 0.267\n",
      "\n",
      "Epoch 29/100; Learning rate: 0.005\n"
     ]
    },
    {
     "name": "stderr",
     "output_type": "stream",
     "text": [
      "Training batches: 100%|██████████| 33/33 [00:17<00:00,  1.84it/s]\n",
      "Evaluating batches: 100%|██████████| 9/9 [00:03<00:00,  2.46it/s]\n"
     ]
    },
    {
     "name": "stdout",
     "output_type": "stream",
     "text": [
      "Time: 0:00:24; Epoch 29 Summary: \n",
      "\tTrain Mean Loss: 0.1596\n",
      "\tValidation AP@.50:.05:.95: 0.244\n",
      "\tValidation AP@.5: 0.546\n",
      "\tValidation AP@.75: 0.171\n",
      "\tValidation Recall@.50:.05:.95: 0.363\n",
      "\tValidation Recall@.5: 0.698\n",
      "\tValidation Recall@.75: 0.334\n",
      "\tValidation ACD: 0.757\n",
      "\tValidation AAD: 0.778\n",
      "\tBest Validation AP@.50:.05:.95: 0.267\n",
      "\n",
      "Epoch 30/100; Learning rate: 0.005\n"
     ]
    },
    {
     "name": "stderr",
     "output_type": "stream",
     "text": [
      "Training batches: 100%|██████████| 33/33 [00:18<00:00,  1.82it/s]\n",
      "Evaluating batches: 100%|██████████| 9/9 [00:03<00:00,  2.48it/s]\n"
     ]
    },
    {
     "name": "stdout",
     "output_type": "stream",
     "text": [
      "Time: 0:00:24; Epoch 30 Summary: \n",
      "\tTrain Mean Loss: 0.1685\n",
      "\tValidation AP@.50:.05:.95: 0.241\n",
      "\tValidation AP@.5: 0.551\n",
      "\tValidation AP@.75: 0.180\n",
      "\tValidation Recall@.50:.05:.95: 0.362\n",
      "\tValidation Recall@.5: 0.703\n",
      "\tValidation Recall@.75: 0.337\n",
      "\tValidation ACD: 0.745\n",
      "\tValidation AAD: 0.732\n",
      "\tBest Validation AP@.50:.05:.95: 0.267\n",
      "\n",
      "Epoch 31/100; Learning rate: 0.005\n"
     ]
    },
    {
     "name": "stderr",
     "output_type": "stream",
     "text": [
      "Training batches: 100%|██████████| 33/33 [00:18<00:00,  1.77it/s]\n",
      "Evaluating batches: 100%|██████████| 9/9 [00:03<00:00,  2.43it/s]\n"
     ]
    },
    {
     "name": "stdout",
     "output_type": "stream",
     "text": [
      "Time: 0:00:25; Epoch 31 Summary: \n",
      "\tTrain Mean Loss: 0.1579\n",
      "\tValidation AP@.50:.05:.95: 0.245\n",
      "\tValidation AP@.5: 0.566\n",
      "\tValidation AP@.75: 0.178\n",
      "\tValidation Recall@.50:.05:.95: 0.363\n",
      "\tValidation Recall@.5: 0.713\n",
      "\tValidation Recall@.75: 0.326\n",
      "\tValidation ACD: 0.731\n",
      "\tValidation AAD: 0.731\n",
      "\tBest Validation AP@.50:.05:.95: 0.267\n",
      "\n",
      "Epoch 32/100; Learning rate: 0.005\n"
     ]
    },
    {
     "name": "stderr",
     "output_type": "stream",
     "text": [
      "Training batches: 100%|██████████| 33/33 [00:19<00:00,  1.69it/s]\n",
      "Evaluating batches: 100%|██████████| 9/9 [00:03<00:00,  2.45it/s]\n"
     ]
    },
    {
     "name": "stdout",
     "output_type": "stream",
     "text": [
      "Time: 0:00:26; Epoch 32 Summary: \n",
      "\tTrain Mean Loss: 0.1446\n",
      "\tValidation AP@.50:.05:.95: 0.252\n",
      "\tValidation AP@.5: 0.560\n",
      "\tValidation AP@.75: 0.170\n",
      "\tValidation Recall@.50:.05:.95: 0.383\n",
      "\tValidation Recall@.5: 0.731\n",
      "\tValidation Recall@.75: 0.341\n",
      "\tValidation ACD: 0.733\n",
      "\tValidation AAD: 0.798\n",
      "\tBest Validation AP@.50:.05:.95: 0.267\n",
      "\n",
      "Epoch 33/100; Learning rate: 0.005\n"
     ]
    },
    {
     "name": "stderr",
     "output_type": "stream",
     "text": [
      "Training batches: 100%|██████████| 33/33 [00:19<00:00,  1.73it/s]\n",
      "Evaluating batches: 100%|██████████| 9/9 [00:03<00:00,  2.46it/s]\n"
     ]
    },
    {
     "name": "stdout",
     "output_type": "stream",
     "text": [
      "Time: 0:00:25; Epoch 33 Summary: \n",
      "\tTrain Mean Loss: 0.1428\n",
      "\tValidation AP@.50:.05:.95: 0.250\n",
      "\tValidation AP@.5: 0.583\n",
      "\tValidation AP@.75: 0.172\n",
      "\tValidation Recall@.50:.05:.95: 0.380\n",
      "\tValidation Recall@.5: 0.747\n",
      "\tValidation Recall@.75: 0.339\n",
      "\tValidation ACD: 0.728\n",
      "\tValidation AAD: 0.737\n",
      "\tBest Validation AP@.50:.05:.95: 0.267\n",
      "\n",
      "Epoch 34/100; Learning rate: 0.005\n"
     ]
    },
    {
     "name": "stderr",
     "output_type": "stream",
     "text": [
      "Training batches: 100%|██████████| 33/33 [00:18<00:00,  1.83it/s]\n",
      "Evaluating batches: 100%|██████████| 9/9 [00:03<00:00,  2.43it/s]\n"
     ]
    },
    {
     "name": "stdout",
     "output_type": "stream",
     "text": [
      "Time: 0:00:24; Epoch 34 Summary: \n",
      "\tTrain Mean Loss: 0.1381\n",
      "\tValidation AP@.50:.05:.95: 0.250\n",
      "\tValidation AP@.5: 0.561\n",
      "\tValidation AP@.75: 0.180\n",
      "\tValidation Recall@.50:.05:.95: 0.367\n",
      "\tValidation Recall@.5: 0.705\n",
      "\tValidation Recall@.75: 0.332\n",
      "\tValidation ACD: 0.724\n",
      "\tValidation AAD: 0.695\n",
      "\tBest Validation AP@.50:.05:.95: 0.267\n",
      "\n",
      "Epoch 35/100; Learning rate: 0.005\n"
     ]
    },
    {
     "name": "stderr",
     "output_type": "stream",
     "text": [
      "Training batches: 100%|██████████| 33/33 [00:17<00:00,  1.87it/s]\n",
      "Evaluating batches: 100%|██████████| 9/9 [00:03<00:00,  2.39it/s]\n"
     ]
    },
    {
     "name": "stdout",
     "output_type": "stream",
     "text": [
      "Time: 0:00:23; Epoch 35 Summary: \n",
      "\tTrain Mean Loss: 0.1325\n",
      "\tValidation AP@.50:.05:.95: 0.242\n",
      "\tValidation AP@.5: 0.549\n",
      "\tValidation AP@.75: 0.176\n",
      "\tValidation Recall@.50:.05:.95: 0.369\n",
      "\tValidation Recall@.5: 0.711\n",
      "\tValidation Recall@.75: 0.341\n",
      "\tValidation ACD: 0.759\n",
      "\tValidation AAD: 0.749\n",
      "\tBest Validation AP@.50:.05:.95: 0.267\n",
      "\n",
      "Epoch 36/100; Learning rate: 0.005\n"
     ]
    },
    {
     "name": "stderr",
     "output_type": "stream",
     "text": [
      "Training batches: 100%|██████████| 33/33 [00:17<00:00,  1.87it/s]\n",
      "Evaluating batches: 100%|██████████| 9/9 [00:03<00:00,  2.35it/s]\n"
     ]
    },
    {
     "name": "stdout",
     "output_type": "stream",
     "text": [
      "Time: 0:00:23; Epoch 36 Summary: \n",
      "\tTrain Mean Loss: 0.1436\n",
      "\tValidation AP@.50:.05:.95: 0.249\n",
      "\tValidation AP@.5: 0.563\n",
      "\tValidation AP@.75: 0.168\n",
      "\tValidation Recall@.50:.05:.95: 0.366\n",
      "\tValidation Recall@.5: 0.707\n",
      "\tValidation Recall@.75: 0.318\n",
      "\tValidation ACD: 0.727\n",
      "\tValidation AAD: 0.737\n",
      "\tBest Validation AP@.50:.05:.95: 0.267\n",
      "\n",
      "Epoch 37/100; Learning rate: 0.005\n"
     ]
    },
    {
     "name": "stderr",
     "output_type": "stream",
     "text": [
      "Training batches: 100%|██████████| 33/33 [00:18<00:00,  1.81it/s]\n",
      "Evaluating batches: 100%|██████████| 9/9 [00:03<00:00,  2.37it/s]\n"
     ]
    },
    {
     "name": "stdout",
     "output_type": "stream",
     "text": [
      "Time: 0:00:24; Epoch 37 Summary: \n",
      "\tTrain Mean Loss: 0.1367\n",
      "\tValidation AP@.50:.05:.95: 0.244\n",
      "\tValidation AP@.5: 0.546\n",
      "\tValidation AP@.75: 0.166\n",
      "\tValidation Recall@.50:.05:.95: 0.374\n",
      "\tValidation Recall@.5: 0.721\n",
      "\tValidation Recall@.75: 0.323\n",
      "\tValidation ACD: 0.731\n",
      "\tValidation AAD: 0.734\n",
      "\tBest Validation AP@.50:.05:.95: 0.267\n",
      "\n",
      "Epoch 38/100; Learning rate: 0.005\n"
     ]
    },
    {
     "name": "stderr",
     "output_type": "stream",
     "text": [
      "Training batches: 100%|██████████| 33/33 [00:17<00:00,  1.86it/s]\n",
      "Evaluating batches: 100%|██████████| 9/9 [00:03<00:00,  2.30it/s]\n"
     ]
    },
    {
     "name": "stdout",
     "output_type": "stream",
     "text": [
      "Time: 0:00:24; Epoch 38 Summary: \n",
      "\tTrain Mean Loss: 0.1282\n",
      "\tValidation AP@.50:.05:.95: 0.241\n",
      "\tValidation AP@.5: 0.553\n",
      "\tValidation AP@.75: 0.161\n",
      "\tValidation Recall@.50:.05:.95: 0.359\n",
      "\tValidation Recall@.5: 0.703\n",
      "\tValidation Recall@.75: 0.316\n",
      "\tValidation ACD: 0.726\n",
      "\tValidation AAD: 0.717\n",
      "\tBest Validation AP@.50:.05:.95: 0.267\n",
      "\n",
      "Epoch 39/100; Learning rate: 0.005\n"
     ]
    },
    {
     "name": "stderr",
     "output_type": "stream",
     "text": [
      "Training batches: 100%|██████████| 33/33 [00:17<00:00,  1.87it/s]\n",
      "Evaluating batches: 100%|██████████| 9/9 [00:03<00:00,  2.41it/s]\n"
     ]
    },
    {
     "name": "stdout",
     "output_type": "stream",
     "text": [
      "Time: 0:00:23; Epoch 39 Summary: \n",
      "\tTrain Mean Loss: 0.1254\n",
      "\tValidation AP@.50:.05:.95: 0.248\n",
      "\tValidation AP@.5: 0.557\n",
      "\tValidation AP@.75: 0.165\n",
      "\tValidation Recall@.50:.05:.95: 0.361\n",
      "\tValidation Recall@.5: 0.697\n",
      "\tValidation Recall@.75: 0.316\n",
      "\tValidation ACD: 0.674\n",
      "\tValidation AAD: 0.676\n",
      "\tBest Validation AP@.50:.05:.95: 0.267\n",
      "\n",
      "Epoch 40/100; Learning rate: 0.005\n"
     ]
    },
    {
     "name": "stderr",
     "output_type": "stream",
     "text": [
      "Training batches: 100%|██████████| 33/33 [00:18<00:00,  1.78it/s]\n",
      "Evaluating batches: 100%|██████████| 9/9 [00:03<00:00,  2.48it/s]\n"
     ]
    },
    {
     "name": "stdout",
     "output_type": "stream",
     "text": [
      "Time: 0:00:24; Epoch 40 Summary: \n",
      "\tTrain Mean Loss: 0.1171\n",
      "\tValidation AP@.50:.05:.95: 0.239\n",
      "\tValidation AP@.5: 0.538\n",
      "\tValidation AP@.75: 0.151\n",
      "\tValidation Recall@.50:.05:.95: 0.360\n",
      "\tValidation Recall@.5: 0.703\n",
      "\tValidation Recall@.75: 0.310\n",
      "\tValidation ACD: 0.742\n",
      "\tValidation AAD: 0.728\n",
      "\tBest Validation AP@.50:.05:.95: 0.267\n",
      "\n",
      "Epoch 41/100; Learning rate: 0.005\n"
     ]
    },
    {
     "name": "stderr",
     "output_type": "stream",
     "text": [
      "Training batches: 100%|██████████| 33/33 [00:18<00:00,  1.76it/s]\n",
      "Evaluating batches: 100%|██████████| 9/9 [00:03<00:00,  2.38it/s]\n"
     ]
    },
    {
     "name": "stdout",
     "output_type": "stream",
     "text": [
      "Time: 0:00:24; Epoch 41 Summary: \n",
      "\tTrain Mean Loss: 0.1188\n",
      "\tValidation AP@.50:.05:.95: 0.243\n",
      "\tValidation AP@.5: 0.545\n",
      "\tValidation AP@.75: 0.173\n",
      "\tValidation Recall@.50:.05:.95: 0.359\n",
      "\tValidation Recall@.5: 0.687\n",
      "\tValidation Recall@.75: 0.325\n",
      "\tValidation ACD: 0.686\n",
      "\tValidation AAD: 0.653\n",
      "\tBest Validation AP@.50:.05:.95: 0.267\n",
      "\n",
      "Epoch 42/100; Learning rate: 0.005\n"
     ]
    },
    {
     "name": "stderr",
     "output_type": "stream",
     "text": [
      "Training batches: 100%|██████████| 33/33 [00:17<00:00,  1.84it/s]\n",
      "Evaluating batches: 100%|██████████| 9/9 [00:03<00:00,  2.43it/s]\n"
     ]
    },
    {
     "name": "stdout",
     "output_type": "stream",
     "text": [
      "Time: 0:00:24; Epoch 42 Summary: \n",
      "\tTrain Mean Loss: 0.1171\n",
      "\tValidation AP@.50:.05:.95: 0.242\n",
      "\tValidation AP@.5: 0.553\n",
      "\tValidation AP@.75: 0.171\n",
      "\tValidation Recall@.50:.05:.95: 0.360\n",
      "\tValidation Recall@.5: 0.693\n",
      "\tValidation Recall@.75: 0.326\n",
      "\tValidation ACD: 0.693\n",
      "\tValidation AAD: 0.672\n",
      "\tBest Validation AP@.50:.05:.95: 0.267\n",
      "\n",
      "Epoch 43/100; Learning rate: 0.005\n"
     ]
    },
    {
     "name": "stderr",
     "output_type": "stream",
     "text": [
      "Training batches: 100%|██████████| 33/33 [00:18<00:00,  1.74it/s]\n",
      "Evaluating batches: 100%|██████████| 9/9 [00:03<00:00,  2.34it/s]\n"
     ]
    },
    {
     "name": "stdout",
     "output_type": "stream",
     "text": [
      "Time: 0:00:25; Epoch 43 Summary: \n",
      "\tTrain Mean Loss: 0.1185\n",
      "\tValidation AP@.50:.05:.95: 0.238\n",
      "\tValidation AP@.5: 0.542\n",
      "\tValidation AP@.75: 0.159\n",
      "\tValidation Recall@.50:.05:.95: 0.364\n",
      "\tValidation Recall@.5: 0.703\n",
      "\tValidation Recall@.75: 0.324\n",
      "\tValidation ACD: 0.738\n",
      "\tValidation AAD: 0.754\n",
      "\tBest Validation AP@.50:.05:.95: 0.267\n",
      "\n",
      "Epoch 44/100; Learning rate: 0.005\n"
     ]
    },
    {
     "name": "stderr",
     "output_type": "stream",
     "text": [
      "Training batches: 100%|██████████| 33/33 [00:18<00:00,  1.74it/s]\n",
      "Evaluating batches: 100%|██████████| 9/9 [00:03<00:00,  2.33it/s]\n"
     ]
    },
    {
     "name": "stdout",
     "output_type": "stream",
     "text": [
      "Time: 0:00:25; Epoch 44 Summary: \n",
      "\tTrain Mean Loss: 0.1190\n",
      "\tValidation AP@.50:.05:.95: 0.245\n",
      "\tValidation AP@.5: 0.551\n",
      "\tValidation AP@.75: 0.176\n",
      "\tValidation Recall@.50:.05:.95: 0.367\n",
      "\tValidation Recall@.5: 0.703\n",
      "\tValidation Recall@.75: 0.332\n",
      "\tValidation ACD: 0.701\n",
      "\tValidation AAD: 0.673\n",
      "\tBest Validation AP@.50:.05:.95: 0.267\n",
      "\n",
      "Epoch 45/100; Learning rate: 0.005\n"
     ]
    },
    {
     "name": "stderr",
     "output_type": "stream",
     "text": [
      "Training batches: 100%|██████████| 33/33 [00:18<00:00,  1.78it/s]\n",
      "Evaluating batches: 100%|██████████| 9/9 [00:03<00:00,  2.35it/s]\n"
     ]
    },
    {
     "name": "stdout",
     "output_type": "stream",
     "text": [
      "Time: 0:00:24; Epoch 45 Summary: \n",
      "\tTrain Mean Loss: 0.1120\n",
      "\tValidation AP@.50:.05:.95: 0.234\n",
      "\tValidation AP@.5: 0.528\n",
      "\tValidation AP@.75: 0.157\n",
      "\tValidation Recall@.50:.05:.95: 0.353\n",
      "\tValidation Recall@.5: 0.680\n",
      "\tValidation Recall@.75: 0.313\n",
      "\tValidation ACD: 0.718\n",
      "\tValidation AAD: 0.685\n",
      "\tBest Validation AP@.50:.05:.95: 0.267\n",
      "\n",
      "Epoch 46/100; Learning rate: 0.005\n"
     ]
    },
    {
     "name": "stderr",
     "output_type": "stream",
     "text": [
      "Training batches: 100%|██████████| 33/33 [00:18<00:00,  1.76it/s]\n",
      "Evaluating batches: 100%|██████████| 9/9 [00:03<00:00,  2.44it/s]\n"
     ]
    },
    {
     "name": "stdout",
     "output_type": "stream",
     "text": [
      "Time: 0:00:25; Epoch 46 Summary: \n",
      "\tTrain Mean Loss: 0.1051\n",
      "\tValidation AP@.50:.05:.95: 0.241\n",
      "\tValidation AP@.5: 0.539\n",
      "\tValidation AP@.75: 0.172\n",
      "\tValidation Recall@.50:.05:.95: 0.358\n",
      "\tValidation Recall@.5: 0.687\n",
      "\tValidation Recall@.75: 0.320\n",
      "\tValidation ACD: 0.698\n",
      "\tValidation AAD: 0.674\n",
      "\tBest Validation AP@.50:.05:.95: 0.267\n",
      "\n",
      "Epoch 47/100; Learning rate: 0.005\n"
     ]
    },
    {
     "name": "stderr",
     "output_type": "stream",
     "text": [
      "Training batches: 100%|██████████| 33/33 [00:18<00:00,  1.79it/s]\n",
      "Evaluating batches: 100%|██████████| 9/9 [00:03<00:00,  2.33it/s]\n"
     ]
    },
    {
     "name": "stdout",
     "output_type": "stream",
     "text": [
      "Time: 0:00:24; Epoch 47 Summary: \n",
      "\tTrain Mean Loss: 0.1066\n",
      "\tValidation AP@.50:.05:.95: 0.234\n",
      "\tValidation AP@.5: 0.531\n",
      "\tValidation AP@.75: 0.162\n",
      "\tValidation Recall@.50:.05:.95: 0.350\n",
      "\tValidation Recall@.5: 0.674\n",
      "\tValidation Recall@.75: 0.309\n",
      "\tValidation ACD: 0.695\n",
      "\tValidation AAD: 0.675\n",
      "\tBest Validation AP@.50:.05:.95: 0.267\n",
      "\n",
      "Epoch 48/100; Learning rate: 0.005\n"
     ]
    },
    {
     "name": "stderr",
     "output_type": "stream",
     "text": [
      "Training batches: 100%|██████████| 33/33 [00:19<00:00,  1.70it/s]\n",
      "Evaluating batches: 100%|██████████| 9/9 [00:03<00:00,  2.43it/s]\n"
     ]
    },
    {
     "name": "stdout",
     "output_type": "stream",
     "text": [
      "Time: 0:00:25; Epoch 48 Summary: \n",
      "\tTrain Mean Loss: 0.1062\n",
      "\tValidation AP@.50:.05:.95: 0.244\n",
      "\tValidation AP@.5: 0.552\n",
      "\tValidation AP@.75: 0.184\n",
      "\tValidation Recall@.50:.05:.95: 0.367\n",
      "\tValidation Recall@.5: 0.710\n",
      "\tValidation Recall@.75: 0.338\n",
      "\tValidation ACD: 0.720\n",
      "\tValidation AAD: 0.707\n",
      "\tBest Validation AP@.50:.05:.95: 0.267\n",
      "\n",
      "Epoch 49/100; Learning rate: 0.005\n"
     ]
    },
    {
     "name": "stderr",
     "output_type": "stream",
     "text": [
      "Training batches: 100%|██████████| 33/33 [00:18<00:00,  1.77it/s]\n",
      "Evaluating batches: 100%|██████████| 9/9 [00:03<00:00,  2.33it/s]\n"
     ]
    },
    {
     "name": "stdout",
     "output_type": "stream",
     "text": [
      "Time: 0:00:25; Epoch 49 Summary: \n",
      "\tTrain Mean Loss: 0.1033\n",
      "\tValidation AP@.50:.05:.95: 0.243\n",
      "\tValidation AP@.5: 0.539\n",
      "\tValidation AP@.75: 0.171\n",
      "\tValidation Recall@.50:.05:.95: 0.362\n",
      "\tValidation Recall@.5: 0.689\n",
      "\tValidation Recall@.75: 0.326\n",
      "\tValidation ACD: 0.757\n",
      "\tValidation AAD: 0.738\n",
      "\tBest Validation AP@.50:.05:.95: 0.267\n",
      "\n",
      "Epoch 50/100; Learning rate: 0.005\n"
     ]
    },
    {
     "name": "stderr",
     "output_type": "stream",
     "text": [
      "Training batches: 100%|██████████| 33/33 [00:18<00:00,  1.78it/s]\n",
      "Evaluating batches: 100%|██████████| 9/9 [00:03<00:00,  2.40it/s]\n"
     ]
    },
    {
     "name": "stdout",
     "output_type": "stream",
     "text": [
      "Time: 0:00:24; Epoch 50 Summary: \n",
      "\tTrain Mean Loss: 0.1018\n",
      "\tValidation AP@.50:.05:.95: 0.237\n",
      "\tValidation AP@.5: 0.541\n",
      "\tValidation AP@.75: 0.169\n",
      "\tValidation Recall@.50:.05:.95: 0.370\n",
      "\tValidation Recall@.5: 0.713\n",
      "\tValidation Recall@.75: 0.341\n",
      "\tValidation ACD: 0.705\n",
      "\tValidation AAD: 0.714\n",
      "\tBest Validation AP@.50:.05:.95: 0.267\n",
      "\n",
      "Epoch 51/100; Learning rate: 0.0005\n"
     ]
    },
    {
     "name": "stderr",
     "output_type": "stream",
     "text": [
      "Training batches: 100%|██████████| 33/33 [00:18<00:00,  1.76it/s]\n",
      "Evaluating batches: 100%|██████████| 9/9 [00:03<00:00,  2.37it/s]\n"
     ]
    },
    {
     "name": "stdout",
     "output_type": "stream",
     "text": [
      "Time: 0:00:24; Epoch 51 Summary: \n",
      "\tTrain Mean Loss: 0.0905\n",
      "\tValidation AP@.50:.05:.95: 0.239\n",
      "\tValidation AP@.5: 0.531\n",
      "\tValidation AP@.75: 0.171\n",
      "\tValidation Recall@.50:.05:.95: 0.361\n",
      "\tValidation Recall@.5: 0.689\n",
      "\tValidation Recall@.75: 0.326\n",
      "\tValidation ACD: 0.735\n",
      "\tValidation AAD: 0.728\n",
      "\tBest Validation AP@.50:.05:.95: 0.267\n",
      "\n",
      "Epoch 52/100; Learning rate: 0.0005\n"
     ]
    },
    {
     "name": "stderr",
     "output_type": "stream",
     "text": [
      "Training batches: 100%|██████████| 33/33 [00:18<00:00,  1.75it/s]\n",
      "Evaluating batches: 100%|██████████| 9/9 [00:03<00:00,  2.52it/s]\n"
     ]
    },
    {
     "name": "stdout",
     "output_type": "stream",
     "text": [
      "Time: 0:00:24; Epoch 52 Summary: \n",
      "\tTrain Mean Loss: 0.0845\n",
      "\tValidation AP@.50:.05:.95: 0.241\n",
      "\tValidation AP@.5: 0.540\n",
      "\tValidation AP@.75: 0.178\n",
      "\tValidation Recall@.50:.05:.95: 0.361\n",
      "\tValidation Recall@.5: 0.695\n",
      "\tValidation Recall@.75: 0.330\n",
      "\tValidation ACD: 0.702\n",
      "\tValidation AAD: 0.712\n",
      "\tBest Validation AP@.50:.05:.95: 0.267\n",
      "\n",
      "Epoch 53/100; Learning rate: 0.0005\n"
     ]
    },
    {
     "name": "stderr",
     "output_type": "stream",
     "text": [
      "Training batches: 100%|██████████| 33/33 [00:18<00:00,  1.80it/s]\n",
      "Evaluating batches: 100%|██████████| 9/9 [00:03<00:00,  2.43it/s]\n"
     ]
    },
    {
     "name": "stdout",
     "output_type": "stream",
     "text": [
      "Time: 0:00:24; Epoch 53 Summary: \n",
      "\tTrain Mean Loss: 0.0813\n",
      "\tValidation AP@.50:.05:.95: 0.240\n",
      "\tValidation AP@.5: 0.538\n",
      "\tValidation AP@.75: 0.169\n",
      "\tValidation Recall@.50:.05:.95: 0.361\n",
      "\tValidation Recall@.5: 0.691\n",
      "\tValidation Recall@.75: 0.325\n",
      "\tValidation ACD: 0.699\n",
      "\tValidation AAD: 0.706\n",
      "\tBest Validation AP@.50:.05:.95: 0.267\n",
      "\n",
      "Epoch 54/100; Learning rate: 0.0005\n"
     ]
    },
    {
     "name": "stderr",
     "output_type": "stream",
     "text": [
      "Training batches: 100%|██████████| 33/33 [00:18<00:00,  1.77it/s]\n",
      "Evaluating batches: 100%|██████████| 9/9 [00:03<00:00,  2.40it/s]\n"
     ]
    },
    {
     "name": "stdout",
     "output_type": "stream",
     "text": [
      "Time: 0:00:24; Epoch 54 Summary: \n",
      "\tTrain Mean Loss: 0.0793\n",
      "\tValidation AP@.50:.05:.95: 0.240\n",
      "\tValidation AP@.5: 0.537\n",
      "\tValidation AP@.75: 0.171\n",
      "\tValidation Recall@.50:.05:.95: 0.358\n",
      "\tValidation Recall@.5: 0.687\n",
      "\tValidation Recall@.75: 0.323\n",
      "\tValidation ACD: 0.713\n",
      "\tValidation AAD: 0.704\n",
      "\tBest Validation AP@.50:.05:.95: 0.267\n",
      "\n",
      "Epoch 55/100; Learning rate: 0.0005\n"
     ]
    },
    {
     "name": "stderr",
     "output_type": "stream",
     "text": [
      "Training batches: 100%|██████████| 33/33 [00:18<00:00,  1.75it/s]\n",
      "Evaluating batches: 100%|██████████| 9/9 [00:03<00:00,  2.38it/s]\n"
     ]
    },
    {
     "name": "stdout",
     "output_type": "stream",
     "text": [
      "Time: 0:00:25; Epoch 55 Summary: \n",
      "\tTrain Mean Loss: 0.0781\n",
      "\tValidation AP@.50:.05:.95: 0.239\n",
      "\tValidation AP@.5: 0.540\n",
      "\tValidation AP@.75: 0.173\n",
      "\tValidation Recall@.50:.05:.95: 0.357\n",
      "\tValidation Recall@.5: 0.688\n",
      "\tValidation Recall@.75: 0.325\n",
      "\tValidation ACD: 0.712\n",
      "\tValidation AAD: 0.697\n",
      "\tBest Validation AP@.50:.05:.95: 0.267\n",
      "\n",
      "Epoch 56/100; Learning rate: 0.0005\n"
     ]
    },
    {
     "name": "stderr",
     "output_type": "stream",
     "text": [
      "Training batches: 100%|██████████| 33/33 [00:18<00:00,  1.79it/s]\n",
      "Evaluating batches: 100%|██████████| 9/9 [00:03<00:00,  2.38it/s]\n"
     ]
    },
    {
     "name": "stdout",
     "output_type": "stream",
     "text": [
      "Time: 0:00:24; Epoch 56 Summary: \n",
      "\tTrain Mean Loss: 0.0773\n",
      "\tValidation AP@.50:.05:.95: 0.240\n",
      "\tValidation AP@.5: 0.538\n",
      "\tValidation AP@.75: 0.171\n",
      "\tValidation Recall@.50:.05:.95: 0.357\n",
      "\tValidation Recall@.5: 0.686\n",
      "\tValidation Recall@.75: 0.324\n",
      "\tValidation ACD: 0.690\n",
      "\tValidation AAD: 0.687\n",
      "\tBest Validation AP@.50:.05:.95: 0.267\n",
      "\n",
      "Epoch 57/100; Learning rate: 0.0005\n"
     ]
    },
    {
     "name": "stderr",
     "output_type": "stream",
     "text": [
      "Training batches: 100%|██████████| 33/33 [00:17<00:00,  1.84it/s]\n",
      "Evaluating batches: 100%|██████████| 9/9 [00:03<00:00,  2.37it/s]\n"
     ]
    },
    {
     "name": "stdout",
     "output_type": "stream",
     "text": [
      "Time: 0:00:24; Epoch 57 Summary: \n",
      "\tTrain Mean Loss: 0.0765\n",
      "\tValidation AP@.50:.05:.95: 0.240\n",
      "\tValidation AP@.5: 0.541\n",
      "\tValidation AP@.75: 0.173\n",
      "\tValidation Recall@.50:.05:.95: 0.360\n",
      "\tValidation Recall@.5: 0.691\n",
      "\tValidation Recall@.75: 0.328\n",
      "\tValidation ACD: 0.694\n",
      "\tValidation AAD: 0.690\n",
      "\tBest Validation AP@.50:.05:.95: 0.267\n",
      "\n",
      "Epoch 58/100; Learning rate: 0.0005\n"
     ]
    },
    {
     "name": "stderr",
     "output_type": "stream",
     "text": [
      "Training batches: 100%|██████████| 33/33 [00:18<00:00,  1.78it/s]\n",
      "Evaluating batches: 100%|██████████| 9/9 [00:03<00:00,  2.43it/s]\n"
     ]
    },
    {
     "name": "stdout",
     "output_type": "stream",
     "text": [
      "Time: 0:00:24; Epoch 58 Summary: \n",
      "\tTrain Mean Loss: 0.0760\n",
      "\tValidation AP@.50:.05:.95: 0.240\n",
      "\tValidation AP@.5: 0.535\n",
      "\tValidation AP@.75: 0.170\n",
      "\tValidation Recall@.50:.05:.95: 0.359\n",
      "\tValidation Recall@.5: 0.687\n",
      "\tValidation Recall@.75: 0.323\n",
      "\tValidation ACD: 0.711\n",
      "\tValidation AAD: 0.698\n",
      "\tBest Validation AP@.50:.05:.95: 0.267\n",
      "\n",
      "Epoch 59/100; Learning rate: 0.0005\n"
     ]
    },
    {
     "name": "stderr",
     "output_type": "stream",
     "text": [
      "Training batches: 100%|██████████| 33/33 [00:18<00:00,  1.82it/s]\n",
      "Evaluating batches: 100%|██████████| 9/9 [00:03<00:00,  2.44it/s]\n"
     ]
    },
    {
     "name": "stdout",
     "output_type": "stream",
     "text": [
      "Time: 0:00:24; Epoch 59 Summary: \n",
      "\tTrain Mean Loss: 0.0765\n",
      "\tValidation AP@.50:.05:.95: 0.240\n",
      "\tValidation AP@.5: 0.541\n",
      "\tValidation AP@.75: 0.173\n",
      "\tValidation Recall@.50:.05:.95: 0.359\n",
      "\tValidation Recall@.5: 0.688\n",
      "\tValidation Recall@.75: 0.326\n",
      "\tValidation ACD: 0.715\n",
      "\tValidation AAD: 0.713\n",
      "\tBest Validation AP@.50:.05:.95: 0.267\n",
      "\n",
      "Epoch 60/100; Learning rate: 0.0005\n"
     ]
    },
    {
     "name": "stderr",
     "output_type": "stream",
     "text": [
      "Training batches: 100%|██████████| 33/33 [00:17<00:00,  1.84it/s]\n",
      "Evaluating batches: 100%|██████████| 9/9 [00:03<00:00,  2.40it/s]\n"
     ]
    },
    {
     "name": "stdout",
     "output_type": "stream",
     "text": [
      "Time: 0:00:24; Epoch 60 Summary: \n",
      "\tTrain Mean Loss: 0.0754\n",
      "\tValidation AP@.50:.05:.95: 0.240\n",
      "\tValidation AP@.5: 0.537\n",
      "\tValidation AP@.75: 0.169\n",
      "\tValidation Recall@.50:.05:.95: 0.359\n",
      "\tValidation Recall@.5: 0.689\n",
      "\tValidation Recall@.75: 0.323\n",
      "\tValidation ACD: 0.700\n",
      "\tValidation AAD: 0.691\n",
      "\tBest Validation AP@.50:.05:.95: 0.267\n",
      "\n",
      "Epoch 61/100; Learning rate: 0.0005\n"
     ]
    },
    {
     "name": "stderr",
     "output_type": "stream",
     "text": [
      "Training batches: 100%|██████████| 33/33 [00:18<00:00,  1.76it/s]\n",
      "Evaluating batches: 100%|██████████| 9/9 [00:03<00:00,  2.45it/s]\n"
     ]
    },
    {
     "name": "stdout",
     "output_type": "stream",
     "text": [
      "Time: 0:00:24; Epoch 61 Summary: \n",
      "\tTrain Mean Loss: 0.0737\n",
      "\tValidation AP@.50:.05:.95: 0.240\n",
      "\tValidation AP@.5: 0.543\n",
      "\tValidation AP@.75: 0.172\n",
      "\tValidation Recall@.50:.05:.95: 0.355\n",
      "\tValidation Recall@.5: 0.688\n",
      "\tValidation Recall@.75: 0.324\n",
      "\tValidation ACD: 0.705\n",
      "\tValidation AAD: 0.711\n",
      "\tBest Validation AP@.50:.05:.95: 0.267\n",
      "\n",
      "Epoch 62/100; Learning rate: 0.0005\n"
     ]
    },
    {
     "name": "stderr",
     "output_type": "stream",
     "text": [
      "Training batches: 100%|██████████| 33/33 [00:18<00:00,  1.82it/s]\n",
      "Evaluating batches: 100%|██████████| 9/9 [00:03<00:00,  2.39it/s]\n"
     ]
    },
    {
     "name": "stdout",
     "output_type": "stream",
     "text": [
      "Time: 0:00:24; Epoch 62 Summary: \n",
      "\tTrain Mean Loss: 0.0742\n",
      "\tValidation AP@.50:.05:.95: 0.240\n",
      "\tValidation AP@.5: 0.542\n",
      "\tValidation AP@.75: 0.173\n",
      "\tValidation Recall@.50:.05:.95: 0.359\n",
      "\tValidation Recall@.5: 0.689\n",
      "\tValidation Recall@.75: 0.324\n",
      "\tValidation ACD: 0.721\n",
      "\tValidation AAD: 0.711\n",
      "\tBest Validation AP@.50:.05:.95: 0.267\n",
      "\n",
      "Epoch 63/100; Learning rate: 0.0005\n"
     ]
    },
    {
     "name": "stderr",
     "output_type": "stream",
     "text": [
      "Training batches: 100%|██████████| 33/33 [00:18<00:00,  1.83it/s]\n",
      "Evaluating batches: 100%|██████████| 9/9 [00:03<00:00,  2.51it/s]\n"
     ]
    },
    {
     "name": "stdout",
     "output_type": "stream",
     "text": [
      "Time: 0:00:24; Epoch 63 Summary: \n",
      "\tTrain Mean Loss: 0.0730\n",
      "\tValidation AP@.50:.05:.95: 0.240\n",
      "\tValidation AP@.5: 0.540\n",
      "\tValidation AP@.75: 0.169\n",
      "\tValidation Recall@.50:.05:.95: 0.359\n",
      "\tValidation Recall@.5: 0.689\n",
      "\tValidation Recall@.75: 0.322\n",
      "\tValidation ACD: 0.705\n",
      "\tValidation AAD: 0.698\n",
      "\tBest Validation AP@.50:.05:.95: 0.267\n",
      "\n",
      "Epoch 64/100; Learning rate: 0.0005\n"
     ]
    },
    {
     "name": "stderr",
     "output_type": "stream",
     "text": [
      "Training batches: 100%|██████████| 33/33 [00:17<00:00,  1.85it/s]\n",
      "Evaluating batches: 100%|██████████| 9/9 [00:03<00:00,  2.48it/s]\n"
     ]
    },
    {
     "name": "stdout",
     "output_type": "stream",
     "text": [
      "Time: 0:00:24; Epoch 64 Summary: \n",
      "\tTrain Mean Loss: 0.0720\n",
      "\tValidation AP@.50:.05:.95: 0.241\n",
      "\tValidation AP@.5: 0.543\n",
      "\tValidation AP@.75: 0.177\n",
      "\tValidation Recall@.50:.05:.95: 0.360\n",
      "\tValidation Recall@.5: 0.691\n",
      "\tValidation Recall@.75: 0.332\n",
      "\tValidation ACD: 0.701\n",
      "\tValidation AAD: 0.688\n",
      "\tBest Validation AP@.50:.05:.95: 0.267\n",
      "\n",
      "Epoch 65/100; Learning rate: 0.0005\n"
     ]
    },
    {
     "name": "stderr",
     "output_type": "stream",
     "text": [
      "Training batches: 100%|██████████| 33/33 [00:18<00:00,  1.83it/s]\n",
      "Evaluating batches: 100%|██████████| 9/9 [00:03<00:00,  2.46it/s]\n"
     ]
    },
    {
     "name": "stdout",
     "output_type": "stream",
     "text": [
      "Time: 0:00:23; Epoch 65 Summary: \n",
      "\tTrain Mean Loss: 0.0729\n",
      "\tValidation AP@.50:.05:.95: 0.241\n",
      "\tValidation AP@.5: 0.542\n",
      "\tValidation AP@.75: 0.174\n",
      "\tValidation Recall@.50:.05:.95: 0.361\n",
      "\tValidation Recall@.5: 0.690\n",
      "\tValidation Recall@.75: 0.333\n",
      "\tValidation ACD: 0.685\n",
      "\tValidation AAD: 0.655\n",
      "\tBest Validation AP@.50:.05:.95: 0.267\n",
      "\n",
      "Epoch 66/100; Learning rate: 0.0005\n"
     ]
    },
    {
     "name": "stderr",
     "output_type": "stream",
     "text": [
      "Training batches: 100%|██████████| 33/33 [00:18<00:00,  1.83it/s]\n",
      "Evaluating batches: 100%|██████████| 9/9 [00:03<00:00,  2.32it/s]\n"
     ]
    },
    {
     "name": "stdout",
     "output_type": "stream",
     "text": [
      "Time: 0:00:24; Epoch 66 Summary: \n",
      "\tTrain Mean Loss: 0.0717\n",
      "\tValidation AP@.50:.05:.95: 0.242\n",
      "\tValidation AP@.5: 0.537\n",
      "\tValidation AP@.75: 0.181\n",
      "\tValidation Recall@.50:.05:.95: 0.360\n",
      "\tValidation Recall@.5: 0.684\n",
      "\tValidation Recall@.75: 0.334\n",
      "\tValidation ACD: 0.728\n",
      "\tValidation AAD: 0.723\n",
      "\tBest Validation AP@.50:.05:.95: 0.267\n",
      "\n",
      "Epoch 67/100; Learning rate: 0.0005\n"
     ]
    },
    {
     "name": "stderr",
     "output_type": "stream",
     "text": [
      "Training batches: 100%|██████████| 33/33 [00:18<00:00,  1.80it/s]\n",
      "Evaluating batches: 100%|██████████| 9/9 [00:03<00:00,  2.44it/s]\n"
     ]
    },
    {
     "name": "stdout",
     "output_type": "stream",
     "text": [
      "Time: 0:00:24; Epoch 67 Summary: \n",
      "\tTrain Mean Loss: 0.0712\n",
      "\tValidation AP@.50:.05:.95: 0.240\n",
      "\tValidation AP@.5: 0.539\n",
      "\tValidation AP@.75: 0.171\n",
      "\tValidation Recall@.50:.05:.95: 0.359\n",
      "\tValidation Recall@.5: 0.689\n",
      "\tValidation Recall@.75: 0.328\n",
      "\tValidation ACD: 0.697\n",
      "\tValidation AAD: 0.681\n",
      "\tBest Validation AP@.50:.05:.95: 0.267\n",
      "\n",
      "Epoch 68/100; Learning rate: 0.0005\n"
     ]
    },
    {
     "name": "stderr",
     "output_type": "stream",
     "text": [
      "Training batches: 100%|██████████| 33/33 [00:18<00:00,  1.83it/s]\n",
      "Evaluating batches: 100%|██████████| 9/9 [00:03<00:00,  2.50it/s]\n"
     ]
    },
    {
     "name": "stdout",
     "output_type": "stream",
     "text": [
      "Time: 0:00:24; Epoch 68 Summary: \n",
      "\tTrain Mean Loss: 0.0718\n",
      "\tValidation AP@.50:.05:.95: 0.241\n",
      "\tValidation AP@.5: 0.541\n",
      "\tValidation AP@.75: 0.173\n",
      "\tValidation Recall@.50:.05:.95: 0.360\n",
      "\tValidation Recall@.5: 0.688\n",
      "\tValidation Recall@.75: 0.327\n",
      "\tValidation ACD: 0.713\n",
      "\tValidation AAD: 0.691\n",
      "\tBest Validation AP@.50:.05:.95: 0.267\n",
      "\n",
      "Epoch 69/100; Learning rate: 0.0005\n"
     ]
    },
    {
     "name": "stderr",
     "output_type": "stream",
     "text": [
      "Training batches: 100%|██████████| 33/33 [00:17<00:00,  1.84it/s]\n",
      "Evaluating batches: 100%|██████████| 9/9 [00:03<00:00,  2.47it/s]\n"
     ]
    },
    {
     "name": "stdout",
     "output_type": "stream",
     "text": [
      "Time: 0:00:24; Epoch 69 Summary: \n",
      "\tTrain Mean Loss: 0.0719\n",
      "\tValidation AP@.50:.05:.95: 0.238\n",
      "\tValidation AP@.5: 0.540\n",
      "\tValidation AP@.75: 0.163\n",
      "\tValidation Recall@.50:.05:.95: 0.357\n",
      "\tValidation Recall@.5: 0.688\n",
      "\tValidation Recall@.75: 0.319\n",
      "\tValidation ACD: 0.710\n",
      "\tValidation AAD: 0.704\n",
      "\tBest Validation AP@.50:.05:.95: 0.267\n",
      "\n",
      "Epoch 70/100; Learning rate: 0.0005\n"
     ]
    },
    {
     "name": "stderr",
     "output_type": "stream",
     "text": [
      "Training batches: 100%|██████████| 33/33 [00:18<00:00,  1.79it/s]\n",
      "Evaluating batches: 100%|██████████| 9/9 [00:03<00:00,  2.51it/s]\n"
     ]
    },
    {
     "name": "stdout",
     "output_type": "stream",
     "text": [
      "Time: 0:00:24; Epoch 70 Summary: \n",
      "\tTrain Mean Loss: 0.0699\n",
      "\tValidation AP@.50:.05:.95: 0.240\n",
      "\tValidation AP@.5: 0.540\n",
      "\tValidation AP@.75: 0.174\n",
      "\tValidation Recall@.50:.05:.95: 0.358\n",
      "\tValidation Recall@.5: 0.686\n",
      "\tValidation Recall@.75: 0.323\n",
      "\tValidation ACD: 0.719\n",
      "\tValidation AAD: 0.695\n",
      "\tBest Validation AP@.50:.05:.95: 0.267\n",
      "\n",
      "Epoch 71/100; Learning rate: 0.0005\n"
     ]
    },
    {
     "name": "stderr",
     "output_type": "stream",
     "text": [
      "Training batches: 100%|██████████| 33/33 [00:18<00:00,  1.78it/s]\n",
      "Evaluating batches: 100%|██████████| 9/9 [00:03<00:00,  2.46it/s]\n"
     ]
    },
    {
     "name": "stdout",
     "output_type": "stream",
     "text": [
      "Time: 0:00:24; Epoch 71 Summary: \n",
      "\tTrain Mean Loss: 0.0703\n",
      "\tValidation AP@.50:.05:.95: 0.240\n",
      "\tValidation AP@.5: 0.541\n",
      "\tValidation AP@.75: 0.169\n",
      "\tValidation Recall@.50:.05:.95: 0.359\n",
      "\tValidation Recall@.5: 0.689\n",
      "\tValidation Recall@.75: 0.321\n",
      "\tValidation ACD: 0.689\n",
      "\tValidation AAD: 0.666\n",
      "\tBest Validation AP@.50:.05:.95: 0.267\n",
      "\n",
      "Epoch 72/100; Learning rate: 0.0005\n"
     ]
    },
    {
     "name": "stderr",
     "output_type": "stream",
     "text": [
      "Training batches: 100%|██████████| 33/33 [00:18<00:00,  1.81it/s]\n",
      "Evaluating batches: 100%|██████████| 9/9 [00:03<00:00,  2.46it/s]\n"
     ]
    },
    {
     "name": "stdout",
     "output_type": "stream",
     "text": [
      "Time: 0:00:24; Epoch 72 Summary: \n",
      "\tTrain Mean Loss: 0.0697\n",
      "\tValidation AP@.50:.05:.95: 0.241\n",
      "\tValidation AP@.5: 0.543\n",
      "\tValidation AP@.75: 0.171\n",
      "\tValidation Recall@.50:.05:.95: 0.358\n",
      "\tValidation Recall@.5: 0.688\n",
      "\tValidation Recall@.75: 0.323\n",
      "\tValidation ACD: 0.713\n",
      "\tValidation AAD: 0.687\n",
      "\tBest Validation AP@.50:.05:.95: 0.267\n",
      "\n",
      "Epoch 73/100; Learning rate: 0.0005\n"
     ]
    },
    {
     "name": "stderr",
     "output_type": "stream",
     "text": [
      "Training batches: 100%|██████████| 33/33 [00:18<00:00,  1.83it/s]\n",
      "Evaluating batches: 100%|██████████| 9/9 [00:03<00:00,  2.41it/s]\n"
     ]
    },
    {
     "name": "stdout",
     "output_type": "stream",
     "text": [
      "Time: 0:00:24; Epoch 73 Summary: \n",
      "\tTrain Mean Loss: 0.0697\n",
      "\tValidation AP@.50:.05:.95: 0.241\n",
      "\tValidation AP@.5: 0.544\n",
      "\tValidation AP@.75: 0.165\n",
      "\tValidation Recall@.50:.05:.95: 0.358\n",
      "\tValidation Recall@.5: 0.691\n",
      "\tValidation Recall@.75: 0.320\n",
      "\tValidation ACD: 0.711\n",
      "\tValidation AAD: 0.695\n",
      "\tBest Validation AP@.50:.05:.95: 0.267\n",
      "\n",
      "Epoch 74/100; Learning rate: 0.0005\n"
     ]
    },
    {
     "name": "stderr",
     "output_type": "stream",
     "text": [
      "Training batches: 100%|██████████| 33/33 [00:18<00:00,  1.80it/s]\n",
      "Evaluating batches: 100%|██████████| 9/9 [00:03<00:00,  2.43it/s]\n"
     ]
    },
    {
     "name": "stdout",
     "output_type": "stream",
     "text": [
      "Time: 0:00:24; Epoch 74 Summary: \n",
      "\tTrain Mean Loss: 0.0687\n",
      "\tValidation AP@.50:.05:.95: 0.241\n",
      "\tValidation AP@.5: 0.543\n",
      "\tValidation AP@.75: 0.166\n",
      "\tValidation Recall@.50:.05:.95: 0.359\n",
      "\tValidation Recall@.5: 0.692\n",
      "\tValidation Recall@.75: 0.323\n",
      "\tValidation ACD: 0.735\n",
      "\tValidation AAD: 0.736\n",
      "\tBest Validation AP@.50:.05:.95: 0.267\n",
      "\n",
      "Epoch 75/100; Learning rate: 0.0005\n"
     ]
    },
    {
     "name": "stderr",
     "output_type": "stream",
     "text": [
      "Training batches: 100%|██████████| 33/33 [00:18<00:00,  1.82it/s]\n",
      "Evaluating batches: 100%|██████████| 9/9 [00:03<00:00,  2.47it/s]\n"
     ]
    },
    {
     "name": "stdout",
     "output_type": "stream",
     "text": [
      "Time: 0:00:24; Epoch 75 Summary: \n",
      "\tTrain Mean Loss: 0.0695\n",
      "\tValidation AP@.50:.05:.95: 0.242\n",
      "\tValidation AP@.5: 0.543\n",
      "\tValidation AP@.75: 0.170\n",
      "\tValidation Recall@.50:.05:.95: 0.359\n",
      "\tValidation Recall@.5: 0.691\n",
      "\tValidation Recall@.75: 0.324\n",
      "\tValidation ACD: 0.714\n",
      "\tValidation AAD: 0.687\n",
      "\tBest Validation AP@.50:.05:.95: 0.267\n",
      "\n",
      "Epoch 76/100; Learning rate: 0.0005\n"
     ]
    },
    {
     "name": "stderr",
     "output_type": "stream",
     "text": [
      "Training batches: 100%|██████████| 33/33 [00:19<00:00,  1.73it/s]\n",
      "Evaluating batches: 100%|██████████| 9/9 [00:03<00:00,  2.45it/s]\n"
     ]
    },
    {
     "name": "stdout",
     "output_type": "stream",
     "text": [
      "Time: 0:00:25; Epoch 76 Summary: \n",
      "\tTrain Mean Loss: 0.0684\n",
      "\tValidation AP@.50:.05:.95: 0.240\n",
      "\tValidation AP@.5: 0.539\n",
      "\tValidation AP@.75: 0.167\n",
      "\tValidation Recall@.50:.05:.95: 0.358\n",
      "\tValidation Recall@.5: 0.687\n",
      "\tValidation Recall@.75: 0.322\n",
      "\tValidation ACD: 0.688\n",
      "\tValidation AAD: 0.652\n",
      "\tBest Validation AP@.50:.05:.95: 0.267\n",
      "\n",
      "Epoch 77/100; Learning rate: 0.0005\n"
     ]
    },
    {
     "name": "stderr",
     "output_type": "stream",
     "text": [
      "Training batches: 100%|██████████| 33/33 [00:18<00:00,  1.76it/s]\n",
      "Evaluating batches: 100%|██████████| 9/9 [00:03<00:00,  2.53it/s]\n"
     ]
    },
    {
     "name": "stdout",
     "output_type": "stream",
     "text": [
      "Time: 0:00:24; Epoch 77 Summary: \n",
      "\tTrain Mean Loss: 0.0686\n",
      "\tValidation AP@.50:.05:.95: 0.242\n",
      "\tValidation AP@.5: 0.543\n",
      "\tValidation AP@.75: 0.171\n",
      "\tValidation Recall@.50:.05:.95: 0.361\n",
      "\tValidation Recall@.5: 0.692\n",
      "\tValidation Recall@.75: 0.325\n",
      "\tValidation ACD: 0.721\n",
      "\tValidation AAD: 0.711\n",
      "\tBest Validation AP@.50:.05:.95: 0.267\n",
      "\n",
      "Epoch 78/100; Learning rate: 0.0005\n"
     ]
    },
    {
     "name": "stderr",
     "output_type": "stream",
     "text": [
      "Training batches: 100%|██████████| 33/33 [00:18<00:00,  1.83it/s]\n",
      "Evaluating batches: 100%|██████████| 9/9 [00:03<00:00,  2.52it/s]\n"
     ]
    },
    {
     "name": "stdout",
     "output_type": "stream",
     "text": [
      "Time: 0:00:24; Epoch 78 Summary: \n",
      "\tTrain Mean Loss: 0.0683\n",
      "\tValidation AP@.50:.05:.95: 0.241\n",
      "\tValidation AP@.5: 0.539\n",
      "\tValidation AP@.75: 0.169\n",
      "\tValidation Recall@.50:.05:.95: 0.359\n",
      "\tValidation Recall@.5: 0.687\n",
      "\tValidation Recall@.75: 0.325\n",
      "\tValidation ACD: 0.693\n",
      "\tValidation AAD: 0.664\n",
      "\tBest Validation AP@.50:.05:.95: 0.267\n",
      "\n",
      "Epoch 79/100; Learning rate: 0.0005\n"
     ]
    },
    {
     "name": "stderr",
     "output_type": "stream",
     "text": [
      "Training batches: 100%|██████████| 33/33 [00:18<00:00,  1.80it/s]\n",
      "Evaluating batches: 100%|██████████| 9/9 [00:03<00:00,  2.54it/s]\n"
     ]
    },
    {
     "name": "stdout",
     "output_type": "stream",
     "text": [
      "Time: 0:00:24; Epoch 79 Summary: \n",
      "\tTrain Mean Loss: 0.0679\n",
      "\tValidation AP@.50:.05:.95: 0.239\n",
      "\tValidation AP@.5: 0.540\n",
      "\tValidation AP@.75: 0.167\n",
      "\tValidation Recall@.50:.05:.95: 0.356\n",
      "\tValidation Recall@.5: 0.687\n",
      "\tValidation Recall@.75: 0.318\n",
      "\tValidation ACD: 0.724\n",
      "\tValidation AAD: 0.682\n",
      "\tBest Validation AP@.50:.05:.95: 0.267\n",
      "\n",
      "Epoch 80/100; Learning rate: 0.0005\n"
     ]
    },
    {
     "name": "stderr",
     "output_type": "stream",
     "text": [
      "Training batches: 100%|██████████| 33/33 [00:18<00:00,  1.82it/s]\n",
      "Evaluating batches: 100%|██████████| 9/9 [00:03<00:00,  2.39it/s]\n"
     ]
    },
    {
     "name": "stdout",
     "output_type": "stream",
     "text": [
      "Time: 0:00:24; Epoch 80 Summary: \n",
      "\tTrain Mean Loss: 0.0693\n",
      "\tValidation AP@.50:.05:.95: 0.239\n",
      "\tValidation AP@.5: 0.540\n",
      "\tValidation AP@.75: 0.166\n",
      "\tValidation Recall@.50:.05:.95: 0.358\n",
      "\tValidation Recall@.5: 0.684\n",
      "\tValidation Recall@.75: 0.325\n",
      "\tValidation ACD: 0.687\n",
      "\tValidation AAD: 0.648\n",
      "\tBest Validation AP@.50:.05:.95: 0.267\n",
      "\n",
      "Epoch 81/100; Learning rate: 0.0005\n"
     ]
    },
    {
     "name": "stderr",
     "output_type": "stream",
     "text": [
      "Training batches: 100%|██████████| 33/33 [00:18<00:00,  1.77it/s]\n",
      "Evaluating batches: 100%|██████████| 9/9 [00:03<00:00,  2.44it/s]\n"
     ]
    },
    {
     "name": "stdout",
     "output_type": "stream",
     "text": [
      "Time: 0:00:25; Epoch 81 Summary: \n",
      "\tTrain Mean Loss: 0.0668\n",
      "\tValidation AP@.50:.05:.95: 0.241\n",
      "\tValidation AP@.5: 0.538\n",
      "\tValidation AP@.75: 0.173\n",
      "\tValidation Recall@.50:.05:.95: 0.359\n",
      "\tValidation Recall@.5: 0.686\n",
      "\tValidation Recall@.75: 0.325\n",
      "\tValidation ACD: 0.691\n",
      "\tValidation AAD: 0.671\n",
      "\tBest Validation AP@.50:.05:.95: 0.267\n",
      "\n",
      "Epoch 82/100; Learning rate: 0.0005\n"
     ]
    },
    {
     "name": "stderr",
     "output_type": "stream",
     "text": [
      "Training batches: 100%|██████████| 33/33 [00:18<00:00,  1.81it/s]\n",
      "Evaluating batches: 100%|██████████| 9/9 [00:03<00:00,  2.53it/s]\n"
     ]
    },
    {
     "name": "stdout",
     "output_type": "stream",
     "text": [
      "Time: 0:00:24; Epoch 82 Summary: \n",
      "\tTrain Mean Loss: 0.0661\n",
      "\tValidation AP@.50:.05:.95: 0.241\n",
      "\tValidation AP@.5: 0.540\n",
      "\tValidation AP@.75: 0.170\n",
      "\tValidation Recall@.50:.05:.95: 0.360\n",
      "\tValidation Recall@.5: 0.689\n",
      "\tValidation Recall@.75: 0.323\n",
      "\tValidation ACD: 0.691\n",
      "\tValidation AAD: 0.654\n",
      "\tBest Validation AP@.50:.05:.95: 0.267\n",
      "\n",
      "Epoch 83/100; Learning rate: 0.0005\n"
     ]
    },
    {
     "name": "stderr",
     "output_type": "stream",
     "text": [
      "Training batches: 100%|██████████| 33/33 [00:18<00:00,  1.83it/s]\n",
      "Evaluating batches: 100%|██████████| 9/9 [00:03<00:00,  2.50it/s]\n"
     ]
    },
    {
     "name": "stdout",
     "output_type": "stream",
     "text": [
      "Time: 0:00:24; Epoch 83 Summary: \n",
      "\tTrain Mean Loss: 0.0673\n",
      "\tValidation AP@.50:.05:.95: 0.240\n",
      "\tValidation AP@.5: 0.539\n",
      "\tValidation AP@.75: 0.166\n",
      "\tValidation Recall@.50:.05:.95: 0.359\n",
      "\tValidation Recall@.5: 0.689\n",
      "\tValidation Recall@.75: 0.323\n",
      "\tValidation ACD: 0.683\n",
      "\tValidation AAD: 0.664\n",
      "\tBest Validation AP@.50:.05:.95: 0.267\n",
      "\n",
      "Epoch 84/100; Learning rate: 0.0005\n"
     ]
    },
    {
     "name": "stderr",
     "output_type": "stream",
     "text": [
      "Training batches: 100%|██████████| 33/33 [00:18<00:00,  1.83it/s]\n",
      "Evaluating batches: 100%|██████████| 9/9 [00:03<00:00,  2.40it/s]\n"
     ]
    },
    {
     "name": "stdout",
     "output_type": "stream",
     "text": [
      "Time: 0:00:23; Epoch 84 Summary: \n",
      "\tTrain Mean Loss: 0.0666\n",
      "\tValidation AP@.50:.05:.95: 0.240\n",
      "\tValidation AP@.5: 0.538\n",
      "\tValidation AP@.75: 0.165\n",
      "\tValidation Recall@.50:.05:.95: 0.355\n",
      "\tValidation Recall@.5: 0.682\n",
      "\tValidation Recall@.75: 0.317\n",
      "\tValidation ACD: 0.668\n",
      "\tValidation AAD: 0.639\n",
      "\tBest Validation AP@.50:.05:.95: 0.267\n",
      "\n",
      "Epoch 85/100; Learning rate: 0.0005\n"
     ]
    },
    {
     "name": "stderr",
     "output_type": "stream",
     "text": [
      "Training batches: 100%|██████████| 33/33 [00:18<00:00,  1.82it/s]\n",
      "Evaluating batches: 100%|██████████| 9/9 [00:03<00:00,  2.50it/s]\n"
     ]
    },
    {
     "name": "stdout",
     "output_type": "stream",
     "text": [
      "Time: 0:00:23; Epoch 85 Summary: \n",
      "\tTrain Mean Loss: 0.0669\n",
      "\tValidation AP@.50:.05:.95: 0.239\n",
      "\tValidation AP@.5: 0.541\n",
      "\tValidation AP@.75: 0.167\n",
      "\tValidation Recall@.50:.05:.95: 0.356\n",
      "\tValidation Recall@.5: 0.684\n",
      "\tValidation Recall@.75: 0.321\n",
      "\tValidation ACD: 0.710\n",
      "\tValidation AAD: 0.675\n",
      "\tBest Validation AP@.50:.05:.95: 0.267\n",
      "\n",
      "Epoch 86/100; Learning rate: 0.0005\n"
     ]
    },
    {
     "name": "stderr",
     "output_type": "stream",
     "text": [
      "Training batches: 100%|██████████| 33/33 [00:18<00:00,  1.81it/s]\n",
      "Evaluating batches: 100%|██████████| 9/9 [00:03<00:00,  2.45it/s]\n"
     ]
    },
    {
     "name": "stdout",
     "output_type": "stream",
     "text": [
      "Time: 0:00:24; Epoch 86 Summary: \n",
      "\tTrain Mean Loss: 0.0661\n",
      "\tValidation AP@.50:.05:.95: 0.238\n",
      "\tValidation AP@.5: 0.537\n",
      "\tValidation AP@.75: 0.164\n",
      "\tValidation Recall@.50:.05:.95: 0.354\n",
      "\tValidation Recall@.5: 0.684\n",
      "\tValidation Recall@.75: 0.312\n",
      "\tValidation ACD: 0.720\n",
      "\tValidation AAD: 0.685\n",
      "\tBest Validation AP@.50:.05:.95: 0.267\n",
      "\n",
      "Epoch 87/100; Learning rate: 0.0005\n"
     ]
    },
    {
     "name": "stderr",
     "output_type": "stream",
     "text": [
      "Training batches: 100%|██████████| 33/33 [00:18<00:00,  1.80it/s]\n",
      "Evaluating batches: 100%|██████████| 9/9 [00:03<00:00,  2.46it/s]\n"
     ]
    },
    {
     "name": "stdout",
     "output_type": "stream",
     "text": [
      "Time: 0:00:24; Epoch 87 Summary: \n",
      "\tTrain Mean Loss: 0.0664\n",
      "\tValidation AP@.50:.05:.95: 0.240\n",
      "\tValidation AP@.5: 0.539\n",
      "\tValidation AP@.75: 0.167\n",
      "\tValidation Recall@.50:.05:.95: 0.356\n",
      "\tValidation Recall@.5: 0.684\n",
      "\tValidation Recall@.75: 0.318\n",
      "\tValidation ACD: 0.704\n",
      "\tValidation AAD: 0.666\n",
      "\tBest Validation AP@.50:.05:.95: 0.267\n",
      "\n",
      "Epoch 88/100; Learning rate: 0.0005\n"
     ]
    },
    {
     "name": "stderr",
     "output_type": "stream",
     "text": [
      "Training batches: 100%|██████████| 33/33 [00:18<00:00,  1.77it/s]\n",
      "Evaluating batches: 100%|██████████| 9/9 [00:03<00:00,  2.37it/s]\n"
     ]
    },
    {
     "name": "stdout",
     "output_type": "stream",
     "text": [
      "Time: 0:00:24; Epoch 88 Summary: \n",
      "\tTrain Mean Loss: 0.0652\n",
      "\tValidation AP@.50:.05:.95: 0.239\n",
      "\tValidation AP@.5: 0.538\n",
      "\tValidation AP@.75: 0.170\n",
      "\tValidation Recall@.50:.05:.95: 0.355\n",
      "\tValidation Recall@.5: 0.682\n",
      "\tValidation Recall@.75: 0.320\n",
      "\tValidation ACD: 0.697\n",
      "\tValidation AAD: 0.673\n",
      "\tBest Validation AP@.50:.05:.95: 0.267\n",
      "\n",
      "Epoch 89/100; Learning rate: 0.0005\n"
     ]
    },
    {
     "name": "stderr",
     "output_type": "stream",
     "text": [
      "Training batches: 100%|██████████| 33/33 [00:18<00:00,  1.83it/s]\n",
      "Evaluating batches: 100%|██████████| 9/9 [00:03<00:00,  2.45it/s]\n"
     ]
    },
    {
     "name": "stdout",
     "output_type": "stream",
     "text": [
      "Time: 0:00:24; Epoch 89 Summary: \n",
      "\tTrain Mean Loss: 0.0653\n",
      "\tValidation AP@.50:.05:.95: 0.238\n",
      "\tValidation AP@.5: 0.538\n",
      "\tValidation AP@.75: 0.164\n",
      "\tValidation Recall@.50:.05:.95: 0.355\n",
      "\tValidation Recall@.5: 0.684\n",
      "\tValidation Recall@.75: 0.320\n",
      "\tValidation ACD: 0.715\n",
      "\tValidation AAD: 0.690\n",
      "\tBest Validation AP@.50:.05:.95: 0.267\n",
      "\n",
      "Epoch 90/100; Learning rate: 0.0005\n"
     ]
    },
    {
     "name": "stderr",
     "output_type": "stream",
     "text": [
      "Training batches: 100%|██████████| 33/33 [00:19<00:00,  1.71it/s]\n",
      "Evaluating batches: 100%|██████████| 9/9 [00:03<00:00,  2.52it/s]\n"
     ]
    },
    {
     "name": "stdout",
     "output_type": "stream",
     "text": [
      "Time: 0:00:25; Epoch 90 Summary: \n",
      "\tTrain Mean Loss: 0.0651\n",
      "\tValidation AP@.50:.05:.95: 0.239\n",
      "\tValidation AP@.5: 0.536\n",
      "\tValidation AP@.75: 0.167\n",
      "\tValidation Recall@.50:.05:.95: 0.355\n",
      "\tValidation Recall@.5: 0.678\n",
      "\tValidation Recall@.75: 0.321\n",
      "\tValidation ACD: 0.712\n",
      "\tValidation AAD: 0.674\n",
      "\tBest Validation AP@.50:.05:.95: 0.267\n",
      "\n",
      "Epoch 91/100; Learning rate: 5e-05\n"
     ]
    },
    {
     "name": "stderr",
     "output_type": "stream",
     "text": [
      "Training batches: 100%|██████████| 33/33 [00:18<00:00,  1.79it/s]\n",
      "Evaluating batches: 100%|██████████| 9/9 [00:03<00:00,  2.54it/s]\n"
     ]
    },
    {
     "name": "stdout",
     "output_type": "stream",
     "text": [
      "Time: 0:00:24; Epoch 91 Summary: \n",
      "\tTrain Mean Loss: 0.0655\n",
      "\tValidation AP@.50:.05:.95: 0.239\n",
      "\tValidation AP@.5: 0.537\n",
      "\tValidation AP@.75: 0.170\n",
      "\tValidation Recall@.50:.05:.95: 0.354\n",
      "\tValidation Recall@.5: 0.679\n",
      "\tValidation Recall@.75: 0.320\n",
      "\tValidation ACD: 0.704\n",
      "\tValidation AAD: 0.664\n",
      "\tBest Validation AP@.50:.05:.95: 0.267\n",
      "\n",
      "Epoch 92/100; Learning rate: 5e-05\n"
     ]
    },
    {
     "name": "stderr",
     "output_type": "stream",
     "text": [
      "Training batches: 100%|██████████| 33/33 [00:18<00:00,  1.75it/s]\n",
      "Evaluating batches: 100%|██████████| 9/9 [00:03<00:00,  2.56it/s]\n"
     ]
    },
    {
     "name": "stdout",
     "output_type": "stream",
     "text": [
      "Time: 0:00:24; Epoch 92 Summary: \n",
      "\tTrain Mean Loss: 0.0663\n",
      "\tValidation AP@.50:.05:.95: 0.239\n",
      "\tValidation AP@.5: 0.537\n",
      "\tValidation AP@.75: 0.168\n",
      "\tValidation Recall@.50:.05:.95: 0.354\n",
      "\tValidation Recall@.5: 0.680\n",
      "\tValidation Recall@.75: 0.318\n",
      "\tValidation ACD: 0.705\n",
      "\tValidation AAD: 0.667\n",
      "\tBest Validation AP@.50:.05:.95: 0.267\n",
      "\n",
      "Epoch 93/100; Learning rate: 5e-05\n"
     ]
    },
    {
     "name": "stderr",
     "output_type": "stream",
     "text": [
      "Training batches: 100%|██████████| 33/33 [00:18<00:00,  1.80it/s]\n",
      "Evaluating batches: 100%|██████████| 9/9 [00:03<00:00,  2.51it/s]\n"
     ]
    },
    {
     "name": "stdout",
     "output_type": "stream",
     "text": [
      "Time: 0:00:24; Epoch 93 Summary: \n",
      "\tTrain Mean Loss: 0.0644\n",
      "\tValidation AP@.50:.05:.95: 0.239\n",
      "\tValidation AP@.5: 0.537\n",
      "\tValidation AP@.75: 0.166\n",
      "\tValidation Recall@.50:.05:.95: 0.355\n",
      "\tValidation Recall@.5: 0.682\n",
      "\tValidation Recall@.75: 0.316\n",
      "\tValidation ACD: 0.715\n",
      "\tValidation AAD: 0.685\n",
      "\tBest Validation AP@.50:.05:.95: 0.267\n",
      "\n",
      "Epoch 94/100; Learning rate: 5e-05\n"
     ]
    },
    {
     "name": "stderr",
     "output_type": "stream",
     "text": [
      "Training batches: 100%|██████████| 33/33 [00:18<00:00,  1.83it/s]\n",
      "Evaluating batches: 100%|██████████| 9/9 [00:03<00:00,  2.51it/s]\n"
     ]
    },
    {
     "name": "stdout",
     "output_type": "stream",
     "text": [
      "Time: 0:00:24; Epoch 94 Summary: \n",
      "\tTrain Mean Loss: 0.0645\n",
      "\tValidation AP@.50:.05:.95: 0.239\n",
      "\tValidation AP@.5: 0.537\n",
      "\tValidation AP@.75: 0.165\n",
      "\tValidation Recall@.50:.05:.95: 0.355\n",
      "\tValidation Recall@.5: 0.682\n",
      "\tValidation Recall@.75: 0.314\n",
      "\tValidation ACD: 0.714\n",
      "\tValidation AAD: 0.686\n",
      "\tBest Validation AP@.50:.05:.95: 0.267\n",
      "\n",
      "Epoch 95/100; Learning rate: 5e-05\n"
     ]
    },
    {
     "name": "stderr",
     "output_type": "stream",
     "text": [
      "Training batches: 100%|██████████| 33/33 [00:18<00:00,  1.82it/s]\n",
      "Evaluating batches: 100%|██████████| 9/9 [00:03<00:00,  2.53it/s]\n"
     ]
    },
    {
     "name": "stdout",
     "output_type": "stream",
     "text": [
      "Time: 0:00:24; Epoch 95 Summary: \n",
      "\tTrain Mean Loss: 0.0644\n",
      "\tValidation AP@.50:.05:.95: 0.240\n",
      "\tValidation AP@.5: 0.537\n",
      "\tValidation AP@.75: 0.165\n",
      "\tValidation Recall@.50:.05:.95: 0.356\n",
      "\tValidation Recall@.5: 0.684\n",
      "\tValidation Recall@.75: 0.317\n",
      "\tValidation ACD: 0.711\n",
      "\tValidation AAD: 0.676\n",
      "\tBest Validation AP@.50:.05:.95: 0.267\n",
      "\n",
      "Epoch 96/100; Learning rate: 5e-05\n"
     ]
    },
    {
     "name": "stderr",
     "output_type": "stream",
     "text": [
      "Training batches: 100%|██████████| 33/33 [00:18<00:00,  1.81it/s]\n",
      "Evaluating batches: 100%|██████████| 9/9 [00:03<00:00,  2.55it/s]\n"
     ]
    },
    {
     "name": "stdout",
     "output_type": "stream",
     "text": [
      "Time: 0:00:24; Epoch 96 Summary: \n",
      "\tTrain Mean Loss: 0.0655\n",
      "\tValidation AP@.50:.05:.95: 0.240\n",
      "\tValidation AP@.5: 0.540\n",
      "\tValidation AP@.75: 0.165\n",
      "\tValidation Recall@.50:.05:.95: 0.355\n",
      "\tValidation Recall@.5: 0.685\n",
      "\tValidation Recall@.75: 0.315\n",
      "\tValidation ACD: 0.704\n",
      "\tValidation AAD: 0.663\n",
      "\tBest Validation AP@.50:.05:.95: 0.267\n",
      "\n",
      "Epoch 97/100; Learning rate: 5e-05\n"
     ]
    },
    {
     "name": "stderr",
     "output_type": "stream",
     "text": [
      "Training batches: 100%|██████████| 33/33 [00:18<00:00,  1.82it/s]\n",
      "Evaluating batches: 100%|██████████| 9/9 [00:03<00:00,  2.61it/s]\n"
     ]
    },
    {
     "name": "stdout",
     "output_type": "stream",
     "text": [
      "Time: 0:00:24; Epoch 97 Summary: \n",
      "\tTrain Mean Loss: 0.0651\n",
      "\tValidation AP@.50:.05:.95: 0.240\n",
      "\tValidation AP@.5: 0.540\n",
      "\tValidation AP@.75: 0.167\n",
      "\tValidation Recall@.50:.05:.95: 0.356\n",
      "\tValidation Recall@.5: 0.684\n",
      "\tValidation Recall@.75: 0.317\n",
      "\tValidation ACD: 0.704\n",
      "\tValidation AAD: 0.665\n",
      "\tBest Validation AP@.50:.05:.95: 0.267\n",
      "\n",
      "Epoch 98/100; Learning rate: 5e-05\n"
     ]
    },
    {
     "name": "stderr",
     "output_type": "stream",
     "text": [
      "Training batches: 100%|██████████| 33/33 [00:18<00:00,  1.79it/s]\n",
      "Evaluating batches: 100%|██████████| 9/9 [00:03<00:00,  2.43it/s]\n"
     ]
    },
    {
     "name": "stdout",
     "output_type": "stream",
     "text": [
      "Time: 0:00:24; Epoch 98 Summary: \n",
      "\tTrain Mean Loss: 0.0640\n",
      "\tValidation AP@.50:.05:.95: 0.239\n",
      "\tValidation AP@.5: 0.540\n",
      "\tValidation AP@.75: 0.163\n",
      "\tValidation Recall@.50:.05:.95: 0.355\n",
      "\tValidation Recall@.5: 0.684\n",
      "\tValidation Recall@.75: 0.313\n",
      "\tValidation ACD: 0.696\n",
      "\tValidation AAD: 0.663\n",
      "\tBest Validation AP@.50:.05:.95: 0.267\n",
      "\n",
      "Epoch 99/100; Learning rate: 5e-05\n"
     ]
    },
    {
     "name": "stderr",
     "output_type": "stream",
     "text": [
      "Training batches: 100%|██████████| 33/33 [00:18<00:00,  1.78it/s]\n",
      "Evaluating batches: 100%|██████████| 9/9 [00:03<00:00,  2.56it/s]\n"
     ]
    },
    {
     "name": "stdout",
     "output_type": "stream",
     "text": [
      "Time: 0:00:24; Epoch 99 Summary: \n",
      "\tTrain Mean Loss: 0.0641\n",
      "\tValidation AP@.50:.05:.95: 0.240\n",
      "\tValidation AP@.5: 0.540\n",
      "\tValidation AP@.75: 0.165\n",
      "\tValidation Recall@.50:.05:.95: 0.356\n",
      "\tValidation Recall@.5: 0.685\n",
      "\tValidation Recall@.75: 0.315\n",
      "\tValidation ACD: 0.704\n",
      "\tValidation AAD: 0.667\n",
      "\tBest Validation AP@.50:.05:.95: 0.267\n",
      "\n",
      "Epoch 100/100; Learning rate: 5e-05\n"
     ]
    },
    {
     "name": "stderr",
     "output_type": "stream",
     "text": [
      "Training batches: 100%|██████████| 33/33 [00:18<00:00,  1.80it/s]\n",
      "Evaluating batches: 100%|██████████| 9/9 [00:03<00:00,  2.56it/s]\n"
     ]
    },
    {
     "name": "stdout",
     "output_type": "stream",
     "text": [
      "Time: 0:00:24; Epoch 100 Summary: \n",
      "\tTrain Mean Loss: 0.0643\n",
      "\tValidation AP@.50:.05:.95: 0.239\n",
      "\tValidation AP@.5: 0.537\n",
      "\tValidation AP@.75: 0.162\n",
      "\tValidation Recall@.50:.05:.95: 0.355\n",
      "\tValidation Recall@.5: 0.684\n",
      "\tValidation Recall@.75: 0.312\n",
      "\tValidation ACD: 0.706\n",
      "\tValidation AAD: 0.670\n",
      "\tBest Validation AP@.50:.05:.95: 0.267\n"
     ]
    }
   ],
   "source": [
    "model = get_model(device)\n",
    "params = TrainParams()\n",
    "params.load(\"params2.json\")\n",
    "train(model, dataset, params, device, checkpoints=True)"
   ]
  }
 ],
 "metadata": {
  "accelerator": "GPU",
  "colab": {
   "gpuType": "T4",
   "provenance": [
    {
     "file_id": "https://github.com/maximusjv/AleketML/blob/main/aleket.ipynb",
     "timestamp": 1726685419266
    }
   ]
  },
  "kernelspec": {
   "display_name": "base",
   "language": "python",
   "name": "python3"
  },
  "language_info": {
   "codemirror_mode": {
    "name": "ipython",
    "version": 3
   },
   "file_extension": ".py",
   "mimetype": "text/x-python",
   "name": "python",
   "nbconvert_exporter": "python",
   "pygments_lexer": "ipython3",
   "version": "3.11.9"
  }
 },
 "nbformat": 4,
 "nbformat_minor": 4
}
