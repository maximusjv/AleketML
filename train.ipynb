{
 "cells": [
  {
   "cell_type": "markdown",
   "metadata": {
    "id": "EKXbvPtmIAzW"
   },
   "source": [
    "# Aleket Faster R-CNN training notebook"
   ]
  },
  {
   "cell_type": "code",
   "execution_count": 1,
   "metadata": {
    "ExecuteTime": {
     "end_time": "2024-10-23T09:04:42.063720Z",
     "start_time": "2024-10-23T09:04:22.868274Z"
    },
    "executionInfo": {
     "elapsed": 7480,
     "status": "ok",
     "timestamp": 1726688885304,
     "user": {
      "displayName": "maximus JV",
      "userId": "01037924598235015782"
     },
     "user_tz": -180
    },
    "id": "QYh3of1UgFZs"
   },
   "outputs": [],
   "source": [
    "# IMPORTS\n",
    "\n",
    "# Standard Library\n",
    "import os\n",
    "\n",
    "# Third-Party Libraries\n",
    "import numpy as np\n",
    "from IPython.display import clear_output\n",
    "\n",
    "# Torch\n",
    "import torch\n",
    "\n",
    "# Utils\n",
    "from data.aleket_dataset import AleketDataset, download_dataset\n",
    "from data.checkpoints import get_default_model, RunParams\n",
    "from train.training_and_evaluation import train"
   ]
  },
  {
   "cell_type": "code",
   "execution_count": 2,
   "metadata": {},
   "outputs": [
    {
     "name": "stdout",
     "output_type": "stream",
     "text": [
      "Using device: cuda\n",
      "Using model: FasterRCNN\n"
     ]
    }
   ],
   "source": [
    "# Device Selection\n",
    "device = torch.device(\"cuda\" if torch.cuda.is_available() else \"cpu\")\n",
    "print(f\"Using device: {device}\")\n",
    "\n",
    "# Random Seed for Dataset split\n",
    "SEED = 1\n",
    "np_generator = np.random.default_rng(SEED)\n",
    "\n",
    "# Dataset split\n",
    "DATASET_FRACTION = 1\n",
    "VALIDATION_FRACTION = 0.2\n",
    "patched_dataset = AleketDataset(download_dataset(\"../datasets/orobanche_cummana/patched/images\", \"\"))\n",
    "full_dataset = AleketDataset(download_dataset(\"../datasets/orobanche_cummana/images\", \"\"))\n",
    "train_set, val_set = patched_dataset.split_dataset(\n",
    "    DATASET_FRACTION, VALIDATION_FRACTION, np_generator\n",
    ")\n",
    "\n",
    "# Model\n",
    "model = get_default_model(device, trainable_backbone_layers=5)\n",
    "\n",
    "print(f\"Using model: {model._get_name()}\")"
   ]
  },
  {
   "cell_type": "code",
   "execution_count": 10,
   "metadata": {},
   "outputs": [
    {
     "name": "stdout",
     "output_type": "stream",
     "text": [
      "Train parameters for 'final'\n"
     ]
    }
   ],
   "source": [
    "RUN_NAME = \"final\"\n",
    "\n",
    "params = RunParams(\n",
    "    run_name=RUN_NAME,\n",
    "    batch_size=8,\n",
    "    dataloader_workers=8, \n",
    "    total_epochs=150,\n",
    "    augmentation={\n",
    "        \"horizontal_flip\": {\n",
    "            \"p\": 0.5\n",
    "        },\n",
    "        \"vertical_flip\": {\n",
    "            \"p\": 0.5\n",
    "        },\n",
    "        \"scale_jitter\": {\n",
    "            \"target_size\": (1024, 1024),\n",
    "            \"scale_range\": (0.7, 1.2)\n",
    "        },\n",
    "        \"perspective\": {\n",
    "            \"distortion_scale\": 0.25,\n",
    "            \"p\": 0.5\n",
    "        },\n",
    "        \"rotation\": {\n",
    "            \"degrees\": 50,\n",
    "            \"expand\": True\n",
    "        },\n",
    "        \"color_jitter\": {\n",
    "            \"brightness\": 0.1,\n",
    "            \"contrast\": 0.1,\n",
    "        }\n",
    "    },\n",
    "    optimizer={\n",
    "        \"lr\": 0.015,\n",
    "        \"weight_decay\": 0.00009\n",
    "    },\n",
    "    lr_scheduler={\n",
    "        \"factor\": 0.1,\n",
    "        \"patience\": 10,\n",
    "        \"min_lr\": 0.0001\n",
    "    },\n",
    "    validation_set=val_set,\n",
    "    train_set=train_set\n",
    "    )\n",
    "\n",
    "\n",
    "print(f\"Train parameters for '{RUN_NAME}'\")"
   ]
  },
  {
   "cell_type": "code",
   "execution_count": 11,
   "metadata": {
    "ExecuteTime": {
     "end_time": "2024-10-23T09:16:28.489606Z",
     "start_time": "2024-10-23T09:04:42.842532Z"
    },
    "colab": {
     "base_uri": "https://localhost:8080/"
    },
    "id": "G9UdbXiJIAzZ",
    "outputId": "4eaac050-8192-4ffe-e5ae-ee59701ce7b2"
   },
   "outputs": [
    {
     "ename": "TypeError",
     "evalue": "'float' object is not iterable",
     "output_type": "error",
     "traceback": [
      "\u001b[1;31m---------------------------------------------------------------------------\u001b[0m",
      "\u001b[1;31mTypeError\u001b[0m                                 Traceback (most recent call last)",
      "Cell \u001b[1;32mIn[11], line 3\u001b[0m\n\u001b[0;32m      1\u001b[0m \u001b[38;5;66;03m#START TRAINING\u001b[39;00m\n\u001b[0;32m      2\u001b[0m \u001b[38;5;28;01mtry\u001b[39;00m:\n\u001b[1;32m----> 3\u001b[0m     \u001b[43mtrain\u001b[49m\u001b[43m(\u001b[49m\u001b[43mmodel\u001b[49m\u001b[43m,\u001b[49m\u001b[43m \u001b[49m\u001b[43mpatched_dataset\u001b[49m\u001b[43m,\u001b[49m\u001b[43m \u001b[49m\u001b[43mparams\u001b[49m\u001b[43m,\u001b[49m\u001b[43m \u001b[49m\u001b[43mdevice\u001b[49m\u001b[43m,\u001b[49m\u001b[43m \u001b[49m\u001b[43mcheckpoints\u001b[49m\u001b[38;5;241;43m=\u001b[39;49m\u001b[38;5;28;43;01mTrue\u001b[39;49;00m\u001b[43m)\u001b[49m\n\u001b[0;32m      4\u001b[0m \u001b[38;5;28;01mfinally\u001b[39;00m:\n\u001b[0;32m      5\u001b[0m     \u001b[38;5;28;01mpass\u001b[39;00m\n",
      "File \u001b[1;32mc:\\Users\\maksi\\Documents\\AleketML\\train\\training_and_evaluation.py:52\u001b[0m, in \u001b[0;36mtrain\u001b[1;34m(model, dataset, params, device, resume, checkpoints, verbose)\u001b[0m\n\u001b[0;32m     50\u001b[0m scaler \u001b[38;5;241m=\u001b[39m GradScaler()\n\u001b[0;32m     51\u001b[0m dataset\u001b[38;5;241m.\u001b[39maugmentation \u001b[38;5;241m=\u001b[39m \u001b[38;5;28;01mNone\u001b[39;00m\n\u001b[1;32m---> 52\u001b[0m evaluator \u001b[38;5;241m=\u001b[39m \u001b[43mEvaluator\u001b[49m\u001b[43m(\u001b[49m\u001b[43mdataset\u001b[49m\u001b[38;5;241;43m.\u001b[39;49m\u001b[43mget_annots\u001b[49m\u001b[43m(\u001b[49m\u001b[43mval_dataloader\u001b[49m\u001b[38;5;241;43m.\u001b[39;49m\u001b[43mdataset\u001b[49m\u001b[38;5;241;43m.\u001b[39;49m\u001b[43mindices\u001b[49m\u001b[43m)\u001b[49m\u001b[43m)\u001b[49m\n\u001b[0;32m     53\u001b[0m stats_tracker \u001b[38;5;241m=\u001b[39m StatsTracker(validation_log)\n\u001b[0;32m     54\u001b[0m logger \u001b[38;5;241m=\u001b[39m TrainingLogger()\n",
      "File \u001b[1;32mc:\\Users\\maksi\\Documents\\AleketML\\metrics\\metrics.py:268\u001b[0m, in \u001b[0;36mEvaluator.__init__\u001b[1;34m(self, annots, use_categories)\u001b[0m\n\u001b[0;32m    258\u001b[0m \u001b[38;5;28;01mdef\u001b[39;00m \u001b[38;5;21m__init__\u001b[39m(\u001b[38;5;28mself\u001b[39m, annots, use_categories\u001b[38;5;241m=\u001b[39m\u001b[38;5;28;01mTrue\u001b[39;00m):\n\u001b[0;32m    259\u001b[0m \u001b[38;5;250m    \u001b[39m\u001b[38;5;124;03m\"\"\"\u001b[39;00m\n\u001b[0;32m    260\u001b[0m \u001b[38;5;124;03m    Initializes the Evaluator with ground truth annotations.\u001b[39;00m\n\u001b[0;32m    261\u001b[0m \n\u001b[1;32m   (...)\u001b[0m\n\u001b[0;32m    266\u001b[0m \u001b[38;5;124;03m                                         Defaults to True.\u001b[39;00m\n\u001b[0;32m    267\u001b[0m \u001b[38;5;124;03m    \"\"\"\u001b[39;00m\n\u001b[1;32m--> 268\u001b[0m     (\u001b[38;5;28mself\u001b[39m\u001b[38;5;241m.\u001b[39mgts, \u001b[38;5;28mself\u001b[39m\u001b[38;5;241m.\u001b[39mimages_id, \u001b[38;5;28mself\u001b[39m\u001b[38;5;241m.\u001b[39mcategories) \u001b[38;5;241m=\u001b[39m \u001b[43mprepare_gts\u001b[49m\u001b[43m(\u001b[49m\n\u001b[0;32m    269\u001b[0m \u001b[43m        \u001b[49m\u001b[43mannots\u001b[49m\u001b[43m,\u001b[49m\u001b[43m \u001b[49m\u001b[43muse_categories\u001b[49m\n\u001b[0;32m    270\u001b[0m \u001b[43m    \u001b[49m\u001b[43m)\u001b[49m\n\u001b[0;32m    271\u001b[0m     \u001b[38;5;28mself\u001b[39m\u001b[38;5;241m.\u001b[39mrecall_thrs \u001b[38;5;241m=\u001b[39m np\u001b[38;5;241m.\u001b[39mlinspace(\u001b[38;5;241m0.0\u001b[39m, \u001b[38;5;241m1.00\u001b[39m, \u001b[38;5;241m101\u001b[39m)\n\u001b[0;32m    272\u001b[0m     \u001b[38;5;28mself\u001b[39m\u001b[38;5;241m.\u001b[39miou_thresh \u001b[38;5;241m=\u001b[39m \u001b[38;5;241m0.5\u001b[39m\n",
      "File \u001b[1;32mc:\\Users\\maksi\\Documents\\AleketML\\metrics\\metrics.py:92\u001b[0m, in \u001b[0;36mprepare_gts\u001b[1;34m(annots, use_categories)\u001b[0m\n\u001b[0;32m     85\u001b[0m labels \u001b[38;5;241m=\u001b[39m (\n\u001b[0;32m     86\u001b[0m     target[\u001b[38;5;124m\"\u001b[39m\u001b[38;5;124mlabels\u001b[39m\u001b[38;5;124m\"\u001b[39m]\u001b[38;5;241m.\u001b[39mnumpy(force\u001b[38;5;241m=\u001b[39m\u001b[38;5;28;01mTrue\u001b[39;00m)\n\u001b[0;32m     87\u001b[0m     \u001b[38;5;28;01mif\u001b[39;00m \u001b[38;5;28misinstance\u001b[39m(target[\u001b[38;5;124m\"\u001b[39m\u001b[38;5;124mlabels\u001b[39m\u001b[38;5;124m\"\u001b[39m], Tensor)\n\u001b[0;32m     88\u001b[0m     \u001b[38;5;28;01melse\u001b[39;00m np\u001b[38;5;241m.\u001b[39masarray(target[\u001b[38;5;124m\"\u001b[39m\u001b[38;5;124mlabels\u001b[39m\u001b[38;5;124m\"\u001b[39m])\n\u001b[0;32m     89\u001b[0m ) \u001b[38;5;28;01mif\u001b[39;00m use_categories \u001b[38;5;28;01melse\u001b[39;00m np\u001b[38;5;241m.\u001b[39mfull(\u001b[38;5;28mlen\u001b[39m(bbox), \u001b[38;5;241m1\u001b[39m)  \u001b[38;5;66;03m# If use_categories is False, assign all objects to a single category\u001b[39;00m\n\u001b[0;32m     91\u001b[0m image_ids\u001b[38;5;241m.\u001b[39madd(img_id)  \u001b[38;5;66;03m# Add the image ID to the set\u001b[39;00m\n\u001b[1;32m---> 92\u001b[0m \u001b[43mcategories\u001b[49m\u001b[38;5;241;43m.\u001b[39;49m\u001b[43mupdate\u001b[49m\u001b[43m(\u001b[49m\u001b[43mlabels\u001b[49m\u001b[38;5;241;43m.\u001b[39;49m\u001b[43mtolist\u001b[49m\u001b[43m(\u001b[49m\u001b[43m)\u001b[49m\u001b[43m)\u001b[49m  \u001b[38;5;66;03m# Add the category IDs to the set\u001b[39;00m\n\u001b[0;32m     94\u001b[0m \u001b[38;5;28;01mfor\u001b[39;00m label \u001b[38;5;129;01min\u001b[39;00m categories:  \u001b[38;5;66;03m# Iterate over each category\u001b[39;00m\n\u001b[0;32m     95\u001b[0m     ind \u001b[38;5;241m=\u001b[39m np\u001b[38;5;241m.\u001b[39mwhere(labels \u001b[38;5;241m==\u001b[39m label)  \u001b[38;5;66;03m# Find the indices of bounding boxes corresponding to the current category\u001b[39;00m\n",
      "\u001b[1;31mTypeError\u001b[0m: 'float' object is not iterable"
     ]
    }
   ],
   "source": [
    "#START TRAINING\n",
    "try:\n",
    "    train(model, patched_dataset, params, device, checkpoints=True)\n",
    "finally:\n",
    "    pass"
   ]
  },
  {
   "cell_type": "code",
   "execution_count": null,
   "metadata": {},
   "outputs": [],
   "source": [
    "# CONTINUE TRAINING FROM CHECKPOINT\n",
    "params = RunParams()\n",
    "params.load(os.path.join(\"results\", RUN_NAME, \"params.json\"))  # override parameters\n",
    "FINISHED = False\n",
    "while not FINISHED:  # might accure some unexcpected errors with bboxes in pytorch code\n",
    "    try:\n",
    "        train(\n",
    "            model,\n",
    "            patched_dataset,\n",
    "            params,\n",
    "            device,\n",
    "            checkpoints=True,\n",
    "            resume=True,\n",
    "            verbose=True,\n",
    "        )\n",
    "        FINISHED = True\n",
    "    except Exception as e:\n",
    "        print(e)\n",
    "        pass\n"
   ]
  },
  {
   "cell_type": "code",
   "execution_count": null,
   "metadata": {},
   "outputs": [],
   "source": [
    "from finetuning.checkpoints import load_checkpoint\n",
    "\n",
    "\n",
    "model = load_checkpoint(model, os.path.join(\"results\", RUN_NAME, \"checkpoints\", \"best.pth\"))[0]\n",
    "torch.save(model.state_dict(), \"best_model.pth\")\n",
    "model = load_checkpoint(model, os.path.join(\"results\", RUN_NAME, \"checkpoints\", \"last.pth\"))[0]\n",
    "torch.save(model.state_dict(), \"last_model.pth\")"
   ]
  }
 ],
 "metadata": {
  "accelerator": "GPU",
  "colab": {
   "gpuType": "T4",
   "provenance": [
    {
     "file_id": "https://github.com/maximusjv/AleketML/blob/main/aleket.ipynb",
     "timestamp": 1726685419266
    }
   ]
  },
  "kernelspec": {
   "display_name": ".venv",
   "language": "python",
   "name": "python3"
  },
  "language_info": {
   "codemirror_mode": {
    "name": "ipython",
    "version": 3
   },
   "file_extension": ".py",
   "mimetype": "text/x-python",
   "name": "python",
   "nbconvert_exporter": "python",
   "pygments_lexer": "ipython3",
   "version": "3.12.10"
  }
 },
 "nbformat": 4,
 "nbformat_minor": 4
}
